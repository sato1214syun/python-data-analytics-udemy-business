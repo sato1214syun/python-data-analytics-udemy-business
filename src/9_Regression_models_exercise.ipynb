{
 "cells": [
  {
   "cell_type": "markdown",
   "id": "40d9c665",
   "metadata": {},
   "source": [
    "---\n",
    "# 9. Regression models exercise\n",
    "---"
   ]
  },
  {
   "cell_type": "code",
   "execution_count": null,
   "id": "2fe04f33",
   "metadata": {},
   "outputs": [],
   "source": [
    "import numpy as np\n",
    "import pandas as pd\n",
    "import matplotlib.pyplot as plt\n",
    "import seaborn as sns\n",
    "sns.set_theme(context='talk', style='darkgrid', font='MS GOTHIC')"
   ]
  },
  {
   "cell_type": "code",
   "execution_count": null,
   "id": "3ee14538",
   "metadata": {},
   "outputs": [],
   "source": [
    "from sklearn.datasets import load_boston"
   ]
  },
  {
   "cell_type": "code",
   "execution_count": null,
   "id": "77f94efc",
   "metadata": {},
   "outputs": [],
   "source": [
    "boston = load_boston()"
   ]
  },
  {
   "cell_type": "markdown",
   "id": "7c624520",
   "metadata": {},
   "source": [
    "Exercise_1 : return_X_yを用いて説明変数 Xと目的変数 yを生成し、さらにそれらndarrayを列方向に結合してください（Xy）"
   ]
  },
  {
   "cell_type": "code",
   "execution_count": null,
   "id": "443ecdc8",
   "metadata": {
    "scrolled": true
   },
   "outputs": [],
   "source": [
    "X, y = "
   ]
  },
  {
   "cell_type": "markdown",
   "id": "8ab71701",
   "metadata": {},
   "source": [
    "<details>\n",
    "    <summary><font color='red'>解答はここをクリック</font></summary>\n",
    "    <code>X, y = load_boston(return_X_y=True)</code>\n",
    "</details>"
   ]
  },
  {
   "cell_type": "code",
   "execution_count": null,
   "id": "ebdc0e4a",
   "metadata": {},
   "outputs": [],
   "source": [
    "Xy = "
   ]
  },
  {
   "cell_type": "markdown",
   "id": "135e8422",
   "metadata": {},
   "source": [
    "<details>\n",
    "    <summary><font color='red'>解答はここをクリック</font></summary>\n",
    "    <code>Xy = np.concatenate([X, y.reshape(-1, 1)], axis=1)</code>\n",
    "</details>"
   ]
  },
  {
   "cell_type": "code",
   "execution_count": null,
   "id": "d3ad11fd",
   "metadata": {},
   "outputs": [],
   "source": [
    "# 実行して表示。この場合はリストではなくndarrayになっている\n",
    "boston['feature_names']"
   ]
  },
  {
   "cell_type": "code",
   "execution_count": null,
   "id": "3169fb81",
   "metadata": {
    "scrolled": true
   },
   "outputs": [],
   "source": [
    "# 実行して表示\n",
    "df = pd.DataFrame(Xy, columns=boston['feature_names'].tolist() + ['target'])\n",
    "df.head()"
   ]
  },
  {
   "cell_type": "markdown",
   "id": "397569cf",
   "metadata": {},
   "source": [
    "Exercise_2 : bostonの詳細情報（description）を表示して確認してください"
   ]
  },
  {
   "cell_type": "code",
   "execution_count": null,
   "id": "8b150cab",
   "metadata": {},
   "outputs": [],
   "source": [
    "print()"
   ]
  },
  {
   "cell_type": "markdown",
   "id": "613e6472",
   "metadata": {},
   "source": [
    "<details>\n",
    "    <summary><font color='red'>解答はここをクリック</font></summary>\n",
    "    <code>print(boston.DESCR)</code>\n",
    "</details>"
   ]
  },
  {
   "cell_type": "code",
   "execution_count": null,
   "id": "24830a15",
   "metadata": {},
   "outputs": [],
   "source": [
    "# 実行して表示\n",
    "df.info()"
   ]
  },
  {
   "cell_type": "markdown",
   "id": "cb36cffc",
   "metadata": {},
   "source": [
    "Exercise_3 : 下記の関数を完成させ各特徴量のプロットを確認してください(#の部分にすべて同じものが入ります)"
   ]
  },
  {
   "cell_type": "code",
   "execution_count": null,
   "id": "77204f49",
   "metadata": {},
   "outputs": [],
   "source": [
    "def plot_data(feature):\n",
    "    fig, axes = plt.subplots(1, 3, figsize=(16,4), tight_layout=True)\n",
    "    sns.histplot(   , x=feature, ax=axes[0], multiple='dodge')   #\n",
    "    axes[0].legend([], frameon=False)\n",
    "    sns.boxplot(   , x=feature, ax=axes[1], width=0.5)   #\n",
    "    axes[1].set_xticklabels([])\n",
    "    sns.scatterplot(   , x=feature, y=y, ax=axes[2], alpha=0.7)   #\n",
    "    axes[2].legend([], frameon=False)\n",
    "    plt.suptitle(feature)\n",
    "    plt.show()"
   ]
  },
  {
   "cell_type": "markdown",
   "id": "8be92e0c",
   "metadata": {},
   "source": [
    "<details>\n",
    "    <summary><font color='red'>解答はここをクリック</font></summary>\n",
    "    <code>data=df, x=feature</code>\n",
    "</details>"
   ]
  },
  {
   "cell_type": "code",
   "execution_count": null,
   "id": "92aa9dd8",
   "metadata": {
    "scrolled": true
   },
   "outputs": [],
   "source": [
    "# 実行して表示\n",
    "for feature in df.columns:\n",
    "    plot_data(feature)"
   ]
  },
  {
   "cell_type": "markdown",
   "id": "7f9275c7",
   "metadata": {},
   "source": [
    "Exercise_4 : 外れ値に影響を受けにくいRobustScalerで説明変数をスケーリングを実行してください"
   ]
  },
  {
   "cell_type": "code",
   "execution_count": null,
   "id": "fa0c3382",
   "metadata": {},
   "outputs": [],
   "source": [
    "# 実行\n",
    "from sklearn.preprocessing import RobustScaler\n",
    "scaler = RobustScaler()"
   ]
  },
  {
   "cell_type": "code",
   "execution_count": null,
   "id": "5a2f0633",
   "metadata": {},
   "outputs": [],
   "source": [
    "X_scaled = "
   ]
  },
  {
   "cell_type": "markdown",
   "id": "7b9d4740",
   "metadata": {},
   "source": [
    "<details>\n",
    "    <summary><font color='red'>解答はここをクリック</font></summary>\n",
    "    <code>X_scaled = scaler.fit_transform(X)</code>\n",
    "</details>"
   ]
  },
  {
   "cell_type": "code",
   "execution_count": null,
   "id": "1d9511e2",
   "metadata": {
    "scrolled": true
   },
   "outputs": [],
   "source": [
    "# 実行して表示\n",
    "X_scaled[:3]"
   ]
  },
  {
   "cell_type": "markdown",
   "id": "f7bc07f9",
   "metadata": {},
   "source": [
    "Exercise_5 : 本セクションで使った3つの回帰分析モデルをインポートし、モデルのインスタンスを作成してください"
   ]
  },
  {
   "cell_type": "code",
   "execution_count": null,
   "id": "bd355c9d",
   "metadata": {},
   "outputs": [],
   "source": []
  },
  {
   "cell_type": "markdown",
   "id": "ba9496e4",
   "metadata": {},
   "source": [
    "<details>\n",
    "    <summary><font color='red'>解答はここをクリック</font></summary>\n",
    "    <code>from sklearn.linear_model import LinearRegression</code><br>\n",
    "    <code>from sklearn.ensemble import RandomForestRegressor</code><br>\n",
    "    <code>from sklearn.neighbors import KNeighborsRegressor</code>\n",
    "</details>"
   ]
  },
  {
   "cell_type": "code",
   "execution_count": null,
   "id": "8a127108",
   "metadata": {},
   "outputs": [],
   "source": [
    "lr_model = \n",
    "rf_model = \n",
    "kn_model = "
   ]
  },
  {
   "cell_type": "markdown",
   "id": "49b1c0c1",
   "metadata": {},
   "source": [
    "<details>\n",
    "    <summary><font color='red'>解答はここをクリック</font></summary>\n",
    "    <code>lr_model = LinearRegression()</code><br>\n",
    "    <code>rf_model = RandomForestRegressor()</code><br>\n",
    "    <code>kn_model = KNeighborsRegressor()</code>\n",
    "</details>"
   ]
  },
  {
   "cell_type": "code",
   "execution_count": null,
   "id": "7cee2e13",
   "metadata": {},
   "outputs": [],
   "source": [
    "# 実行\n",
    "models = [lr_model, rf_model, kn_model]"
   ]
  },
  {
   "cell_type": "code",
   "execution_count": null,
   "id": "ad41ee0e",
   "metadata": {},
   "outputs": [],
   "source": [
    "# 実行\n",
    "from sklearn.model_selection import train_test_split"
   ]
  },
  {
   "cell_type": "markdown",
   "id": "c46b0c89",
   "metadata": {},
   "source": [
    "Exercise_6 :train_test_splitを用いてX_scaled、yからトレインデータ、テストデータを作成して下さい。その際の分割を7：3、ランダムステートを17に指定してください"
   ]
  },
  {
   "cell_type": "code",
   "execution_count": null,
   "id": "84632717",
   "metadata": {},
   "outputs": [],
   "source": [
    "X_train, X_test, y_train, y_test = "
   ]
  },
  {
   "cell_type": "markdown",
   "id": "fc68cbfa",
   "metadata": {},
   "source": [
    "<details>\n",
    "    <summary><font color='red'>解答はここをクリック</font></summary>\n",
    "    <code>X_train, X_test, y_train, y_test = train_test_split(X_scaled, y, test_size=0.3, random_state=17)</code>\n",
    "</details>"
   ]
  },
  {
   "cell_type": "markdown",
   "id": "a1f7bca1",
   "metadata": {},
   "source": [
    "Exercise_7 : lr_modelを使い、上記のデータセットのX_testに対する予測を行ってください。"
   ]
  },
  {
   "cell_type": "code",
   "execution_count": null,
   "id": "ab4e7de9",
   "metadata": {},
   "outputs": [],
   "source": []
  },
  {
   "cell_type": "markdown",
   "id": "0de72b2e",
   "metadata": {},
   "source": [
    "<details>\n",
    "    <summary><font color='red'>解答はここをクリック</font></summary>\n",
    "    <code>lr_model.fit(X_train, y_train)</code>\n",
    "</details>"
   ]
  },
  {
   "cell_type": "code",
   "execution_count": null,
   "id": "37b28242",
   "metadata": {},
   "outputs": [],
   "source": [
    "pred = "
   ]
  },
  {
   "cell_type": "markdown",
   "id": "a8c95904",
   "metadata": {},
   "source": [
    "<details>\n",
    "    <summary><font color='red'>解答はここをクリック</font></summary>\n",
    "    <code>pred = lr_model.predict(X_test)</code>\n",
    "</details>"
   ]
  },
  {
   "cell_type": "code",
   "execution_count": null,
   "id": "e30b01f4",
   "metadata": {},
   "outputs": [],
   "source": [
    "# 実行して表示\n",
    "pred[:3]"
   ]
  },
  {
   "cell_type": "code",
   "execution_count": null,
   "id": "a0687101",
   "metadata": {},
   "outputs": [],
   "source": [
    "# 実行して表示。ｙの最小、最大からその範囲を確認しておく\n",
    "y.min(), y.max()"
   ]
  },
  {
   "cell_type": "code",
   "execution_count": null,
   "id": "739b0fc0",
   "metadata": {
    "scrolled": true
   },
   "outputs": [],
   "source": [
    "# 実行して表示\n",
    "plt.figure(figsize=(16, 6))\n",
    "sns.scatterplot(data=y_test - pred,  color='#0c0')\n",
    "plt.axhline(0, color='#f00')\n",
    "plt.show()"
   ]
  },
  {
   "cell_type": "code",
   "execution_count": null,
   "id": "d8272379",
   "metadata": {},
   "outputs": [],
   "source": [
    "# 実行\n",
    "from sklearn.metrics import accuracy_score, mean_absolute_error, mean_squared_error, mean_absolute_percentage_error, r2_score"
   ]
  },
  {
   "cell_type": "markdown",
   "id": "cad0a7da",
   "metadata": {},
   "source": [
    "Exercise_8 : 下記のスコアを算出してください"
   ]
  },
  {
   "cell_type": "code",
   "execution_count": null,
   "id": "ac2e8e55",
   "metadata": {},
   "outputs": [],
   "source": [
    "r2 = np.round(, 4)\n",
    "mae = np.round(, 4)\n",
    "mse = np.round(, 4)\n",
    "mape = np.round(, 4)"
   ]
  },
  {
   "cell_type": "markdown",
   "id": "0998c401",
   "metadata": {},
   "source": [
    "<details>\n",
    "    <summary><font color='red'>解答はここをクリック</font></summary>\n",
    "    <code>r2_score(y_test, pred)</code><br>\n",
    "    <code>mean_absolute_error(y_test, pred)</code><br>\n",
    "    <code>mean_squared_error(y_test, pred)</code><br>\n",
    "    <code>mean_absolute_percentage_error(y_test, pred)</code>\n",
    "</details>"
   ]
  },
  {
   "cell_type": "code",
   "execution_count": null,
   "id": "6d939a9c",
   "metadata": {
    "scrolled": true
   },
   "outputs": [],
   "source": [
    "# 実行して表示\n",
    "print(f'r2 : {r2}, mae : {mae}, mse : {mse}, mape : {mape}')"
   ]
  },
  {
   "cell_type": "markdown",
   "id": "3816760a",
   "metadata": {},
   "source": [
    "Exercise_9 : lr_modelの係数、切片を表示して下さい"
   ]
  },
  {
   "cell_type": "code",
   "execution_count": null,
   "id": "c5b5bada",
   "metadata": {},
   "outputs": [],
   "source": []
  },
  {
   "cell_type": "markdown",
   "id": "139e93ea",
   "metadata": {},
   "source": [
    "<details>\n",
    "    <summary><font color='red'>解答はここをクリック</font></summary>\n",
    "    <code>lr_model.coef_</code>\n",
    "</details>"
   ]
  },
  {
   "cell_type": "code",
   "execution_count": null,
   "id": "b4c34235",
   "metadata": {},
   "outputs": [],
   "source": []
  },
  {
   "cell_type": "markdown",
   "id": "99c3e5e2",
   "metadata": {},
   "source": [
    "<details>\n",
    "    <summary><font color='red'>解答はここをクリック</font></summary>\n",
    "    <code>lr_model.intercept_</code>\n",
    "</details>"
   ]
  },
  {
   "cell_type": "code",
   "execution_count": null,
   "id": "75eec315",
   "metadata": {},
   "outputs": [],
   "source": [
    "# 実行\n",
    "from sklearn.model_selection import KFold, cross_val_score"
   ]
  },
  {
   "cell_type": "markdown",
   "id": "8d7bbbc9",
   "metadata": {},
   "source": [
    "Exercise_10 : KFoldの分割数を5、シャッフル、、ランダムステートを17として下記の k を作成してください"
   ]
  },
  {
   "cell_type": "code",
   "execution_count": null,
   "id": "03bc47cd",
   "metadata": {},
   "outputs": [],
   "source": [
    "k = "
   ]
  },
  {
   "cell_type": "markdown",
   "id": "910daf56",
   "metadata": {},
   "source": [
    "<details>\n",
    "    <summary><font color='red'>解答はここをクリック</font></summary>\n",
    "    <code>k = KFold(5, shuffle=True, random_state=17)</code>\n",
    "</details>"
   ]
  },
  {
   "cell_type": "markdown",
   "id": "69ec1c4e",
   "metadata": {},
   "source": [
    "Exercise_11 : k, X, yを用いて下記のforループを完成させ、スコアの平均値をプリントしてください"
   ]
  },
  {
   "cell_type": "code",
   "execution_count": null,
   "id": "58dfa593",
   "metadata": {},
   "outputs": [],
   "source": [
    "for model in models:\n",
    "    scores =   #\n",
    "    print(f'{model} : {}')   # \n",
    "    print('\\n')"
   ]
  },
  {
   "cell_type": "markdown",
   "id": "129aa585",
   "metadata": {},
   "source": [
    "<details>\n",
    "    <summary><font color='red'>解答はここをクリック</font></summary>\n",
    "    <code>scores = cross_val_score(model, X, y, cv=k) </code><br>\n",
    "    <code>scores.mean()</code>\n",
    "</details>"
   ]
  },
  {
   "cell_type": "markdown",
   "id": "0dbf0f47",
   "metadata": {},
   "source": [
    "Exercise_12 : k, X_scaled, yを用いて下記のforループを完成させ、スコアの平均値をプリントしてください（cross_val_scoreを使用）。スケール前のスコアとの違いを確認してください"
   ]
  },
  {
   "cell_type": "code",
   "execution_count": null,
   "id": "f8112713",
   "metadata": {
    "scrolled": true
   },
   "outputs": [],
   "source": [
    "for model in models:\n",
    "    scores =    #\n",
    "    print(f'{model} : {scores.mean()}')\n",
    "    print('\\n')"
   ]
  },
  {
   "cell_type": "markdown",
   "id": "5a7b5490",
   "metadata": {},
   "source": [
    "<details>\n",
    "    <summary><font color='red'>解答はここをクリック</font></summary>\n",
    "    <code>scores = cross_val_score(model, X_scaled, y, cv=k)</code><br>\n",
    "</details>"
   ]
  },
  {
   "cell_type": "code",
   "execution_count": null,
   "id": "68f987a6",
   "metadata": {},
   "outputs": [],
   "source": [
    "# 実行\n",
    "from sklearn.model_selection import GridSearchCV"
   ]
  },
  {
   "cell_type": "code",
   "execution_count": null,
   "id": "de999359",
   "metadata": {},
   "outputs": [],
   "source": [
    "# 実行\n",
    "params = {\n",
    "    'n_estimators':[140, 160],\n",
    "    'max_depth':[18, 22],\n",
    "    'max_features':[0.6, 0.9],\n",
    "}"
   ]
  },
  {
   "cell_type": "markdown",
   "id": "16afa86d",
   "metadata": {},
   "source": [
    "Exercise_13 : rf_modelに対して、上記の params と k を用いてグリッドサーチを実行してください(fitを行う)"
   ]
  },
  {
   "cell_type": "code",
   "execution_count": null,
   "id": "342ea728",
   "metadata": {},
   "outputs": [],
   "source": [
    "grid = "
   ]
  },
  {
   "cell_type": "markdown",
   "id": "3bcb0a06",
   "metadata": {},
   "source": [
    "<details>\n",
    "    <summary><font color='red'>解答はここをクリック</font></summary>\n",
    "    <code>grid = GridSearchCV(rf_model, param_grid=params, cv=k)</code><br>\n",
    "</details>"
   ]
  },
  {
   "cell_type": "code",
   "execution_count": null,
   "id": "0fc402d9",
   "metadata": {},
   "outputs": [],
   "source": [
    "# X_scaledとyを使う\n"
   ]
  },
  {
   "cell_type": "markdown",
   "id": "73c97e8f",
   "metadata": {},
   "source": [
    "<details>\n",
    "    <summary><font color='red'>解答はここをクリック</font></summary>\n",
    "    <code>grid.fit(X_scaled, y)</code><br>\n",
    "</details>"
   ]
  },
  {
   "cell_type": "markdown",
   "id": "8d84a141",
   "metadata": {},
   "source": [
    "Exercise_14 : 上記の結果を取得しデータフレームにしてください"
   ]
  },
  {
   "cell_type": "code",
   "execution_count": null,
   "id": "ffee992f",
   "metadata": {},
   "outputs": [],
   "source": [
    "result = "
   ]
  },
  {
   "cell_type": "markdown",
   "id": "0a242da7",
   "metadata": {},
   "source": [
    "<details>\n",
    "    <summary><font color='red'>解答はここをクリック</font></summary>\n",
    "    <code>pd.DataFrame(grid.cv_results_)</code><br>\n",
    "</details>"
   ]
  },
  {
   "cell_type": "code",
   "execution_count": null,
   "id": "be4b83f7",
   "metadata": {
    "scrolled": true
   },
   "outputs": [],
   "source": [
    "# 実行して表示\n",
    "result"
   ]
  },
  {
   "cell_type": "markdown",
   "id": "4fd1dcac",
   "metadata": {},
   "source": [
    "Exercise_15 : 最良のパラメータを表示してください"
   ]
  },
  {
   "cell_type": "code",
   "execution_count": null,
   "id": "a36ec4f9",
   "metadata": {},
   "outputs": [],
   "source": []
  },
  {
   "cell_type": "markdown",
   "id": "3f265a69",
   "metadata": {},
   "source": [
    "<details>\n",
    "    <summary><font color='red'>解答はここをクリック</font></summary>\n",
    "    <code>grid.best_params_</code><br>\n",
    "</details>"
   ]
  },
  {
   "cell_type": "markdown",
   "id": "d740947c",
   "metadata": {},
   "source": [
    "## 以上"
   ]
  }
 ],
 "metadata": {
  "celltoolbar": "Raw Cell Format",
  "kernelspec": {
   "display_name": "Python 3",
   "language": "python",
   "name": "python3"
  },
  "language_info": {
   "codemirror_mode": {
    "name": "ipython",
    "version": 3
   },
   "file_extension": ".py",
   "mimetype": "text/x-python",
   "name": "python",
   "nbconvert_exporter": "python",
   "pygments_lexer": "ipython3",
   "version": "3.7.10"
  }
 },
 "nbformat": 4,
 "nbformat_minor": 5
}
