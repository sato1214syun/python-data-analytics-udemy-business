{
 "cells": [
  {
   "cell_type": "markdown",
   "id": "23c6d4cc",
   "metadata": {
    "id": "23c6d4cc"
   },
   "source": [
    "<a id=0></a>\n",
    "# 2. DataFrameを理解する"
   ]
  },
  {
   "cell_type": "markdown",
   "id": "cfd115fa",
   "metadata": {
    "id": "cfd115fa"
   },
   "source": [
    "---\n",
    "### [1.Arrayの作成、SeriesとDataFrameの作成 ](#1)\n",
    "### [2.SeriesとDataFrame](#2)\n",
    "### [3.DataFrameの基礎データとaxisの理解](#3)\n",
    "### [4.IndexとColumnについて](#4)\n",
    "### [5.欠損値](#5)\n",
    "### [6.DataFrameを別のファイルとして保存](#6)\n",
    "---"
   ]
  },
  {
   "cell_type": "code",
   "execution_count": 55,
   "id": "5f4b23d4",
   "metadata": {
    "id": "5f4b23d4"
   },
   "outputs": [],
   "source": [
    "import numpy as np\n",
    "import pandas as pd\n",
    "import matplotlib.pyplot as plt\n",
    "import seaborn as sns"
   ]
  },
  {
   "cell_type": "markdown",
   "id": "0b658499",
   "metadata": {
    "id": "0b658499"
   },
   "source": [
    "---\n",
    "<a id=1></a>\n",
    "[Topへ](#0)\n",
    "\n",
    "---\n",
    "## 1.Arrayの作成、SeriesとDataFrameの作成 "
   ]
  },
  {
   "cell_type": "markdown",
   "id": "39c9d4cc",
   "metadata": {
    "id": "39c9d4cc"
   },
   "source": [
    "* 100 - 10000の整数データ (100,)からSeriesを作成\n",
    "* Series と ndarry\n",
    "* Seriesに名前を付ける\n",
    "* 10 - 100の整数データ (100,)からSeriesを作成\n",
    "* 0 - 10の小数データ (100, 2)からDataFrameを作成\n",
    "* 40 - 60の範囲の一様分布の小数データ (100, 1)からDataFrameを作成\n",
    "* 平均 0、標準偏差 1の正規分布に従う小数データ (100, 1)からDataFrameを作成\n",
    "* 平均50、標準偏差10の正規分布に従う小数データ (100, 1)からDataFrameを作成\n",
    "* ['red', 'green', 'blue'] (100, 1)、 ['circle', 'square', 'triangle'] (100, 1)、ndarrayを合しDataFrameを作成\n",
    "* datetime 1997/7/5から1日刻み (100, 1)からDatetimeIndex、Seriesを作成\n",
    "* Series, DataFrameを結合\n",
    "* DataFrameのサンプル（レコード）の一部を抽出する\n",
    "---"
   ]
  },
  {
   "cell_type": "markdown",
   "id": "12f6c3df",
   "metadata": {
    "id": "12f6c3df"
   },
   "source": [
    "100 - 10000の整数データ (100,)からSeriesを作成"
   ]
  },
  {
   "cell_type": "code",
   "execution_count": 56,
   "id": "1152c769",
   "metadata": {
    "id": "1152c769",
    "scrolled": true
   },
   "outputs": [],
   "source": [
    "np.random.seed(17)\n",
    "arr_int1 = np.random.randint(100, 10000, 100)"
   ]
  },
  {
   "cell_type": "code",
   "execution_count": 57,
   "id": "13Jl8j1fsBkI",
   "metadata": {
    "id": "13Jl8j1fsBkI"
   },
   "outputs": [
    {
     "data": {
      "text/plain": [
       "array([2291,  506, 9629, 6161, 8570])"
      ]
     },
     "execution_count": 57,
     "metadata": {},
     "output_type": "execute_result"
    }
   ],
   "source": [
    "arr_int1[:5]\n",
    "# arr_int1[10:15]"
   ]
  },
  {
   "cell_type": "code",
   "execution_count": 58,
   "id": "R01XBw-Ws9kT",
   "metadata": {
    "id": "R01XBw-Ws9kT"
   },
   "outputs": [
    {
     "data": {
      "text/plain": [
       "0     2291\n",
       "1      506\n",
       "2     9629\n",
       "3     6161\n",
       "4     8570\n",
       "      ... \n",
       "95    4285\n",
       "96    9714\n",
       "97    5113\n",
       "98    5916\n",
       "99    1578\n",
       "Length: 100, dtype: int64"
      ]
     },
     "execution_count": 58,
     "metadata": {},
     "output_type": "execute_result"
    }
   ],
   "source": [
    "# Seriesの作成\n",
    "sr = pd.Series(arr_int1)\n",
    "sr"
   ]
  },
  {
   "cell_type": "markdown",
   "id": "2a9575e4",
   "metadata": {
    "id": "2a9575e4"
   },
   "source": [
    "Series と ndarry"
   ]
  },
  {
   "cell_type": "code",
   "execution_count": 59,
   "id": "2ade9796",
   "metadata": {
    "id": "2ade9796"
   },
   "outputs": [
    {
     "data": {
      "text/plain": [
       "pandas.core.series.Series"
      ]
     },
     "execution_count": 59,
     "metadata": {},
     "output_type": "execute_result"
    }
   ],
   "source": [
    "type(sr)"
   ]
  },
  {
   "cell_type": "code",
   "execution_count": 60,
   "id": "vqa4lO8BuhT5",
   "metadata": {
    "id": "vqa4lO8BuhT5"
   },
   "outputs": [
    {
     "data": {
      "text/plain": [
       "1"
      ]
     },
     "execution_count": 60,
     "metadata": {},
     "output_type": "execute_result"
    }
   ],
   "source": [
    "# ndarrayのようにndim, shape, max()などを使用できる\n",
    "# Seriesとndarrayは類似している\n",
    "sr.ndim"
   ]
  },
  {
   "cell_type": "code",
   "execution_count": 61,
   "id": "iZa5A7c0umlL",
   "metadata": {
    "id": "iZa5A7c0umlL"
   },
   "outputs": [
    {
     "data": {
      "text/plain": [
       "(100,)"
      ]
     },
     "execution_count": 61,
     "metadata": {},
     "output_type": "execute_result"
    }
   ],
   "source": [
    "sr.shape"
   ]
  },
  {
   "cell_type": "code",
   "execution_count": 62,
   "id": "3PBRxyEPuovS",
   "metadata": {
    "id": "3PBRxyEPuovS"
   },
   "outputs": [
    {
     "data": {
      "text/plain": [
       "9991"
      ]
     },
     "execution_count": 62,
     "metadata": {},
     "output_type": "execute_result"
    }
   ],
   "source": [
    "sr.max()"
   ]
  },
  {
   "cell_type": "code",
   "execution_count": 63,
   "id": "jLDajEN9uz02",
   "metadata": {
    "id": "jLDajEN9uz02"
   },
   "outputs": [],
   "source": [
    "# sr.reshape(2, 50)\n",
    "# 形状の変更はできない。Seriesは1次元"
   ]
  },
  {
   "cell_type": "markdown",
   "id": "d4344159",
   "metadata": {
    "id": "d4344159"
   },
   "source": [
    "Seriesに名前を付ける"
   ]
  },
  {
   "cell_type": "code",
   "execution_count": 64,
   "id": "70bdf0ef",
   "metadata": {
    "id": "70bdf0ef"
   },
   "outputs": [],
   "source": [
    "sr.name = 'Price'"
   ]
  },
  {
   "cell_type": "code",
   "execution_count": 65,
   "id": "lVcQgntrbber",
   "metadata": {
    "id": "lVcQgntrbber"
   },
   "outputs": [
    {
     "data": {
      "text/plain": [
       "0     2291\n",
       "1      506\n",
       "2     9629\n",
       "3     6161\n",
       "4     8570\n",
       "      ... \n",
       "95    4285\n",
       "96    9714\n",
       "97    5113\n",
       "98    5916\n",
       "99    1578\n",
       "Name: Price, Length: 100, dtype: int64"
      ]
     },
     "execution_count": 65,
     "metadata": {},
     "output_type": "execute_result"
    }
   ],
   "source": [
    "# Series作成時にnameを指定することもできる\n",
    "sr_price = pd.Series(arr_int1, name='Price')\n",
    "sr_price"
   ]
  },
  {
   "cell_type": "markdown",
   "id": "8141d5ba",
   "metadata": {
    "id": "8141d5ba"
   },
   "source": [
    "10 - 100の整数データ (100,)からSeriesを作成"
   ]
  },
  {
   "cell_type": "code",
   "execution_count": 66,
   "id": "7c6a375f",
   "metadata": {
    "id": "7c6a375f"
   },
   "outputs": [],
   "source": [
    "np.random.seed(17)\n",
    "arr_int2 = np.random.randint(10, 100, 100)\n",
    "sr_quantity = pd.Series(arr_int2, name='Quantity')"
   ]
  },
  {
   "cell_type": "markdown",
   "id": "7cb44e85",
   "metadata": {
    "id": "7cb44e85"
   },
   "source": [
    "0 - 10の小数データ (100, 2)からDataFrameを作成"
   ]
  },
  {
   "cell_type": "code",
   "execution_count": 67,
   "id": "E_A6f2JKT2FO",
   "metadata": {
    "id": "E_A6f2JKT2FO"
   },
   "outputs": [],
   "source": [
    "np.random.seed(17)\n",
    "arr_fl = np.random.rand(100, 2) * 10\n",
    "\n",
    "# sr = pd.Series(arr_fl)\n",
    "# ValueError: Data must be 1-dimensional　Seriesの場合は1次元リストでないといけない"
   ]
  },
  {
   "cell_type": "code",
   "execution_count": 68,
   "id": "oiMQvZ-odnrb",
   "metadata": {
    "id": "oiMQvZ-odnrb"
   },
   "outputs": [
    {
     "data": {
      "text/html": [
       "<div>\n",
       "<style scoped>\n",
       "    .dataframe tbody tr th:only-of-type {\n",
       "        vertical-align: middle;\n",
       "    }\n",
       "\n",
       "    .dataframe tbody tr th {\n",
       "        vertical-align: top;\n",
       "    }\n",
       "\n",
       "    .dataframe thead th {\n",
       "        text-align: right;\n",
       "    }\n",
       "</style>\n",
       "<table border=\"1\" class=\"dataframe\">\n",
       "  <thead>\n",
       "    <tr style=\"text-align: right;\">\n",
       "      <th></th>\n",
       "      <th>0</th>\n",
       "      <th>1</th>\n",
       "    </tr>\n",
       "  </thead>\n",
       "  <tbody>\n",
       "    <tr>\n",
       "      <th>0</th>\n",
       "      <td>2.946650</td>\n",
       "      <td>5.305868</td>\n",
       "    </tr>\n",
       "    <tr>\n",
       "      <th>1</th>\n",
       "      <td>1.915208</td>\n",
       "      <td>0.679004</td>\n",
       "    </tr>\n",
       "    <tr>\n",
       "      <th>2</th>\n",
       "      <td>7.869855</td>\n",
       "      <td>6.563335</td>\n",
       "    </tr>\n",
       "    <tr>\n",
       "      <th>3</th>\n",
       "      <td>6.375209</td>\n",
       "      <td>5.756029</td>\n",
       "    </tr>\n",
       "    <tr>\n",
       "      <th>4</th>\n",
       "      <td>0.390629</td>\n",
       "      <td>3.578136</td>\n",
       "    </tr>\n",
       "    <tr>\n",
       "      <th>...</th>\n",
       "      <td>...</td>\n",
       "      <td>...</td>\n",
       "    </tr>\n",
       "    <tr>\n",
       "      <th>95</th>\n",
       "      <td>9.133029</td>\n",
       "      <td>5.902204</td>\n",
       "    </tr>\n",
       "    <tr>\n",
       "      <th>96</th>\n",
       "      <td>1.711943</td>\n",
       "      <td>7.144745</td>\n",
       "    </tr>\n",
       "    <tr>\n",
       "      <th>97</th>\n",
       "      <td>2.384461</td>\n",
       "      <td>9.218051</td>\n",
       "    </tr>\n",
       "    <tr>\n",
       "      <th>98</th>\n",
       "      <td>7.212739</td>\n",
       "      <td>6.769230</td>\n",
       "    </tr>\n",
       "    <tr>\n",
       "      <th>99</th>\n",
       "      <td>9.868106</td>\n",
       "      <td>5.397452</td>\n",
       "    </tr>\n",
       "  </tbody>\n",
       "</table>\n",
       "<p>100 rows × 2 columns</p>\n",
       "</div>"
      ],
      "text/plain": [
       "           0         1\n",
       "0   2.946650  5.305868\n",
       "1   1.915208  0.679004\n",
       "2   7.869855  6.563335\n",
       "3   6.375209  5.756029\n",
       "4   0.390629  3.578136\n",
       "..       ...       ...\n",
       "95  9.133029  5.902204\n",
       "96  1.711943  7.144745\n",
       "97  2.384461  9.218051\n",
       "98  7.212739  6.769230\n",
       "99  9.868106  5.397452\n",
       "\n",
       "[100 rows x 2 columns]"
      ]
     },
     "execution_count": 68,
     "metadata": {},
     "output_type": "execute_result"
    }
   ],
   "source": [
    "# 2次元の場合はDataFrame\n",
    "df = pd.DataFrame(arr_fl)\n",
    "df"
   ]
  },
  {
   "cell_type": "code",
   "execution_count": 69,
   "id": "ggx3v6vseRKo",
   "metadata": {
    "id": "ggx3v6vseRKo"
   },
   "outputs": [
    {
     "data": {
      "text/html": [
       "<div>\n",
       "<style scoped>\n",
       "    .dataframe tbody tr th:only-of-type {\n",
       "        vertical-align: middle;\n",
       "    }\n",
       "\n",
       "    .dataframe tbody tr th {\n",
       "        vertical-align: top;\n",
       "    }\n",
       "\n",
       "    .dataframe thead th {\n",
       "        text-align: right;\n",
       "    }\n",
       "</style>\n",
       "<table border=\"1\" class=\"dataframe\">\n",
       "  <thead>\n",
       "    <tr style=\"text-align: right;\">\n",
       "      <th></th>\n",
       "      <th>Width</th>\n",
       "      <th>Height</th>\n",
       "    </tr>\n",
       "  </thead>\n",
       "  <tbody>\n",
       "    <tr>\n",
       "      <th>0</th>\n",
       "      <td>2.946650</td>\n",
       "      <td>5.305868</td>\n",
       "    </tr>\n",
       "    <tr>\n",
       "      <th>1</th>\n",
       "      <td>1.915208</td>\n",
       "      <td>0.679004</td>\n",
       "    </tr>\n",
       "    <tr>\n",
       "      <th>2</th>\n",
       "      <td>7.869855</td>\n",
       "      <td>6.563335</td>\n",
       "    </tr>\n",
       "    <tr>\n",
       "      <th>3</th>\n",
       "      <td>6.375209</td>\n",
       "      <td>5.756029</td>\n",
       "    </tr>\n",
       "    <tr>\n",
       "      <th>4</th>\n",
       "      <td>0.390629</td>\n",
       "      <td>3.578136</td>\n",
       "    </tr>\n",
       "    <tr>\n",
       "      <th>...</th>\n",
       "      <td>...</td>\n",
       "      <td>...</td>\n",
       "    </tr>\n",
       "    <tr>\n",
       "      <th>95</th>\n",
       "      <td>9.133029</td>\n",
       "      <td>5.902204</td>\n",
       "    </tr>\n",
       "    <tr>\n",
       "      <th>96</th>\n",
       "      <td>1.711943</td>\n",
       "      <td>7.144745</td>\n",
       "    </tr>\n",
       "    <tr>\n",
       "      <th>97</th>\n",
       "      <td>2.384461</td>\n",
       "      <td>9.218051</td>\n",
       "    </tr>\n",
       "    <tr>\n",
       "      <th>98</th>\n",
       "      <td>7.212739</td>\n",
       "      <td>6.769230</td>\n",
       "    </tr>\n",
       "    <tr>\n",
       "      <th>99</th>\n",
       "      <td>9.868106</td>\n",
       "      <td>5.397452</td>\n",
       "    </tr>\n",
       "  </tbody>\n",
       "</table>\n",
       "<p>100 rows × 2 columns</p>\n",
       "</div>"
      ],
      "text/plain": [
       "       Width    Height\n",
       "0   2.946650  5.305868\n",
       "1   1.915208  0.679004\n",
       "2   7.869855  6.563335\n",
       "3   6.375209  5.756029\n",
       "4   0.390629  3.578136\n",
       "..       ...       ...\n",
       "95  9.133029  5.902204\n",
       "96  1.711943  7.144745\n",
       "97  2.384461  9.218051\n",
       "98  7.212739  6.769230\n",
       "99  9.868106  5.397452\n",
       "\n",
       "[100 rows x 2 columns]"
      ]
     },
     "execution_count": 69,
     "metadata": {},
     "output_type": "execute_result"
    }
   ],
   "source": [
    "# columnsでカラム名を指定（リストで）\n",
    "df_wh = pd.DataFrame(arr_fl, columns=['Width', 'Height'])\n",
    "df_wh"
   ]
  },
  {
   "cell_type": "markdown",
   "id": "eb23916f",
   "metadata": {
    "id": "eb23916f"
   },
   "source": [
    "40 - 60の範囲の一様分布の小数データ (100, 1)からDataFrameを作成"
   ]
  },
  {
   "cell_type": "code",
   "execution_count": 70,
   "id": "99902c60",
   "metadata": {
    "id": "99902c60"
   },
   "outputs": [
    {
     "data": {
      "text/html": [
       "<div>\n",
       "<style scoped>\n",
       "    .dataframe tbody tr th:only-of-type {\n",
       "        vertical-align: middle;\n",
       "    }\n",
       "\n",
       "    .dataframe tbody tr th {\n",
       "        vertical-align: top;\n",
       "    }\n",
       "\n",
       "    .dataframe thead th {\n",
       "        text-align: right;\n",
       "    }\n",
       "</style>\n",
       "<table border=\"1\" class=\"dataframe\">\n",
       "  <thead>\n",
       "    <tr style=\"text-align: right;\">\n",
       "      <th></th>\n",
       "      <th>Quality</th>\n",
       "    </tr>\n",
       "  </thead>\n",
       "  <tbody>\n",
       "    <tr>\n",
       "      <th>0</th>\n",
       "      <td>45.893300</td>\n",
       "    </tr>\n",
       "    <tr>\n",
       "      <th>1</th>\n",
       "      <td>50.611735</td>\n",
       "    </tr>\n",
       "    <tr>\n",
       "      <th>2</th>\n",
       "      <td>43.830416</td>\n",
       "    </tr>\n",
       "    <tr>\n",
       "      <th>3</th>\n",
       "      <td>41.358007</td>\n",
       "    </tr>\n",
       "    <tr>\n",
       "      <th>4</th>\n",
       "      <td>55.739709</td>\n",
       "    </tr>\n",
       "    <tr>\n",
       "      <th>...</th>\n",
       "      <td>...</td>\n",
       "    </tr>\n",
       "    <tr>\n",
       "      <th>95</th>\n",
       "      <td>41.603027</td>\n",
       "    </tr>\n",
       "    <tr>\n",
       "      <th>96</th>\n",
       "      <td>57.420940</td>\n",
       "    </tr>\n",
       "    <tr>\n",
       "      <th>97</th>\n",
       "      <td>54.261728</td>\n",
       "    </tr>\n",
       "    <tr>\n",
       "      <th>98</th>\n",
       "      <td>54.642241</td>\n",
       "    </tr>\n",
       "    <tr>\n",
       "      <th>99</th>\n",
       "      <td>56.472400</td>\n",
       "    </tr>\n",
       "  </tbody>\n",
       "</table>\n",
       "<p>100 rows × 1 columns</p>\n",
       "</div>"
      ],
      "text/plain": [
       "      Quality\n",
       "0   45.893300\n",
       "1   50.611735\n",
       "2   43.830416\n",
       "3   41.358007\n",
       "4   55.739709\n",
       "..        ...\n",
       "95  41.603027\n",
       "96  57.420940\n",
       "97  54.261728\n",
       "98  54.642241\n",
       "99  56.472400\n",
       "\n",
       "[100 rows x 1 columns]"
      ]
     },
     "execution_count": 70,
     "metadata": {},
     "output_type": "execute_result"
    }
   ],
   "source": [
    "np.random.seed(17)\n",
    "arr_uni = np.random.uniform(40, 60, (100, 1))\n",
    "\n",
    "df_quality = pd.DataFrame(arr_uni, columns=['Quality'])\n",
    "df_quality"
   ]
  },
  {
   "cell_type": "markdown",
   "id": "bdcdddfb",
   "metadata": {
    "id": "bdcdddfb"
   },
   "source": [
    "平均 0、標準偏差 1の正規分布に従う小数データ (100, 1)からDataFrameを作成"
   ]
  },
  {
   "cell_type": "code",
   "execution_count": 71,
   "id": "62f5ee56",
   "metadata": {
    "id": "62f5ee56"
   },
   "outputs": [],
   "source": [
    "np.random.seed(17)\n",
    "# (100, 1)も2次元のためDataFrame\n",
    "arr_n = np.random.randn(100, 1)\n",
    "# カラム名がひとつの場合もリストで指定\n",
    "df_difference = pd.DataFrame(arr_n, columns=['Difference'])"
   ]
  },
  {
   "cell_type": "markdown",
   "id": "43c9224d",
   "metadata": {
    "id": "43c9224d"
   },
   "source": [
    "平均50、標準偏差10の正規分布に従う小数データ (100, 1)からDataFrameを作成"
   ]
  },
  {
   "cell_type": "code",
   "execution_count": 72,
   "id": "c3bc39bd",
   "metadata": {
    "id": "c3bc39bd"
   },
   "outputs": [],
   "source": [
    "np.random.seed(17)\n",
    "arr_nor = np.random.normal(50, 10, (100, 1))\n",
    "\n",
    "df_score = pd.DataFrame(arr_nor, columns=['Score'])"
   ]
  },
  {
   "cell_type": "markdown",
   "id": "47ad1fe0",
   "metadata": {
    "id": "47ad1fe0"
   },
   "source": [
    "['red', 'green', 'blue'] (100, 1)、 ['circle', 'square', 'triangle'] (100, 1)、ndarrayを結合しDataFrameを作成"
   ]
  },
  {
   "cell_type": "code",
   "execution_count": 73,
   "id": "4cfeb29d",
   "metadata": {
    "id": "4cfeb29d"
   },
   "outputs": [],
   "source": [
    "np.random.seed(17)\n",
    "colors = ['red', 'green', 'blue']\n",
    "shapes = ['circle', 'square', 'triangle']\n",
    "arr_colors = np.random.choice(colors, (100, 1))\n",
    "arr_shapes = np.random.choice(shapes, (100, 1))"
   ]
  },
  {
   "cell_type": "code",
   "execution_count": 74,
   "id": "mAEkJkf5NVlY",
   "metadata": {
    "id": "mAEkJkf5NVlY"
   },
   "outputs": [],
   "source": [
    "# numpy arrayの結合\n",
    "# arr_cs = np.concatenate([arr_colors, arr_shapes])\n",
    "# arr_cs\n",
    "# axis=0がdefaultのため、行方向に結合してしまう"
   ]
  },
  {
   "cell_type": "code",
   "execution_count": 75,
   "id": "1xAPKsEDOre5",
   "metadata": {
    "id": "1xAPKsEDOre5"
   },
   "outputs": [
    {
     "data": {
      "text/plain": [
       "array([['green', 'triangle'],\n",
       "       ['blue', 'triangle'],\n",
       "       ['blue', 'square'],\n",
       "       ['green', 'square'],\n",
       "       ['red', 'square']], dtype='<U8')"
      ]
     },
     "execution_count": 75,
     "metadata": {},
     "output_type": "execute_result"
    }
   ],
   "source": [
    "# axis=1で結合\n",
    "arr_cs = np.concatenate([arr_colors, arr_shapes], axis=1)\n",
    "arr_cs[:5]"
   ]
  },
  {
   "cell_type": "code",
   "execution_count": 76,
   "id": "NVAS0q81PjmX",
   "metadata": {
    "id": "NVAS0q81PjmX"
   },
   "outputs": [
    {
     "data": {
      "text/plain": [
       "array([['green', 'triangle'],\n",
       "       ['blue', 'triangle'],\n",
       "       ['blue', 'square'],\n",
       "       ['green', 'square'],\n",
       "       ['red', 'square']], dtype='<U8')"
      ]
     },
     "execution_count": 76,
     "metadata": {},
     "output_type": "execute_result"
    }
   ],
   "source": [
    "# horizontally\n",
    "arr_cs_hstack = np.hstack([arr_colors, arr_shapes])\n",
    "arr_cs_hstack[:5]"
   ]
  },
  {
   "cell_type": "code",
   "execution_count": 77,
   "id": "CiLoODuUP5fO",
   "metadata": {
    "id": "CiLoODuUP5fO"
   },
   "outputs": [
    {
     "data": {
      "text/plain": [
       "array([['blue'],\n",
       "       ['red'],\n",
       "       ['triangle'],\n",
       "       ['triangle'],\n",
       "       ['square']], dtype='<U8')"
      ]
     },
     "execution_count": 77,
     "metadata": {},
     "output_type": "execute_result"
    }
   ],
   "source": [
    "# vertically\n",
    "arr_cs_vstack = np.vstack([arr_colors, arr_shapes])\n",
    "arr_cs_vstack[98:103]"
   ]
  },
  {
   "cell_type": "code",
   "execution_count": 78,
   "id": "5gBW0dxIQg3W",
   "metadata": {
    "id": "5gBW0dxIQg3W"
   },
   "outputs": [],
   "source": [
    "df_cs = pd.DataFrame(arr_cs, columns=['Color', 'Shape'])"
   ]
  },
  {
   "cell_type": "markdown",
   "id": "958718f5",
   "metadata": {
    "id": "958718f5"
   },
   "source": [
    "datetime 1997/7/5から1日刻み (100, 1)からDatetimeIndex、Seriesを作成"
   ]
  },
  {
   "cell_type": "code",
   "execution_count": 79,
   "id": "09d08503",
   "metadata": {
    "id": "09d08503"
   },
   "outputs": [
    {
     "data": {
      "text/plain": [
       "DatetimeIndex(['1997-07-05', '1997-07-06', '1997-07-07', '1997-07-08',\n",
       "               '1997-07-09'],\n",
       "              dtype='datetime64[ns]', freq='D')"
      ]
     },
     "execution_count": 79,
     "metadata": {},
     "output_type": "execute_result"
    }
   ],
   "source": [
    "dates = pd.date_range('1997/7/5', periods=100, freq='D')\n",
    "# D: 日, B: 月曜 - 金曜, W: 週（日曜から）,M: 月末, Y: 年末 \n",
    "# H: 時, T: 分, S: 秒、など\n",
    "# 2D, 12Hなどとして使用可\n",
    "dates[:10]\n",
    "dates[:5]"
   ]
  },
  {
   "cell_type": "code",
   "execution_count": 80,
   "id": "ZImJju2oUss0",
   "metadata": {
    "id": "ZImJju2oUss0"
   },
   "outputs": [
    {
     "data": {
      "text/plain": [
       "pandas.core.series.Series"
      ]
     },
     "execution_count": 80,
     "metadata": {},
     "output_type": "execute_result"
    }
   ],
   "source": [
    "# 1カラムとして扱う場合はDatetimeIndexからSeriesに変更しておく\n",
    "sr_date = pd.Series(dates, name='Date')\n",
    "type(sr_date)"
   ]
  },
  {
   "cell_type": "markdown",
   "id": "7eff40d1",
   "metadata": {
    "id": "7eff40d1"
   },
   "source": [
    "Series, DataFrameを結合"
   ]
  },
  {
   "cell_type": "code",
   "execution_count": 81,
   "id": "cd7743f6",
   "metadata": {
    "id": "cd7743f6",
    "scrolled": true
   },
   "outputs": [
    {
     "data": {
      "text/html": [
       "<div>\n",
       "<style scoped>\n",
       "    .dataframe tbody tr th:only-of-type {\n",
       "        vertical-align: middle;\n",
       "    }\n",
       "\n",
       "    .dataframe tbody tr th {\n",
       "        vertical-align: top;\n",
       "    }\n",
       "\n",
       "    .dataframe thead th {\n",
       "        text-align: right;\n",
       "    }\n",
       "</style>\n",
       "<table border=\"1\" class=\"dataframe\">\n",
       "  <thead>\n",
       "    <tr style=\"text-align: right;\">\n",
       "      <th></th>\n",
       "      <th>Date</th>\n",
       "      <th>Price</th>\n",
       "      <th>Quantity</th>\n",
       "      <th>Width</th>\n",
       "      <th>Height</th>\n",
       "      <th>Quality</th>\n",
       "      <th>Score</th>\n",
       "      <th>Difference</th>\n",
       "      <th>Color</th>\n",
       "      <th>Shape</th>\n",
       "    </tr>\n",
       "  </thead>\n",
       "  <tbody>\n",
       "    <tr>\n",
       "      <th>0</th>\n",
       "      <td>1997-07-05</td>\n",
       "      <td>2291</td>\n",
       "      <td>25</td>\n",
       "      <td>2.946650</td>\n",
       "      <td>5.305868</td>\n",
       "      <td>45.893300</td>\n",
       "      <td>52.762659</td>\n",
       "      <td>0.276266</td>\n",
       "      <td>green</td>\n",
       "      <td>triangle</td>\n",
       "    </tr>\n",
       "    <tr>\n",
       "      <th>1</th>\n",
       "      <td>1997-07-06</td>\n",
       "      <td>506</td>\n",
       "      <td>16</td>\n",
       "      <td>1.915208</td>\n",
       "      <td>0.679004</td>\n",
       "      <td>50.611735</td>\n",
       "      <td>31.453719</td>\n",
       "      <td>-1.854628</td>\n",
       "      <td>blue</td>\n",
       "      <td>triangle</td>\n",
       "    </tr>\n",
       "    <tr>\n",
       "      <th>2</th>\n",
       "      <td>1997-07-07</td>\n",
       "      <td>9629</td>\n",
       "      <td>32</td>\n",
       "      <td>7.869855</td>\n",
       "      <td>6.563335</td>\n",
       "      <td>43.830416</td>\n",
       "      <td>56.239011</td>\n",
       "      <td>0.623901</td>\n",
       "      <td>blue</td>\n",
       "      <td>square</td>\n",
       "    </tr>\n",
       "    <tr>\n",
       "      <th>3</th>\n",
       "      <td>1997-07-08</td>\n",
       "      <td>6161</td>\n",
       "      <td>67</td>\n",
       "      <td>6.375209</td>\n",
       "      <td>5.756029</td>\n",
       "      <td>41.358007</td>\n",
       "      <td>61.453113</td>\n",
       "      <td>1.145311</td>\n",
       "      <td>green</td>\n",
       "      <td>square</td>\n",
       "    </tr>\n",
       "    <tr>\n",
       "      <th>4</th>\n",
       "      <td>1997-07-09</td>\n",
       "      <td>8570</td>\n",
       "      <td>55</td>\n",
       "      <td>0.390629</td>\n",
       "      <td>3.578136</td>\n",
       "      <td>55.739709</td>\n",
       "      <td>60.371905</td>\n",
       "      <td>1.037190</td>\n",
       "      <td>red</td>\n",
       "      <td>square</td>\n",
       "    </tr>\n",
       "    <tr>\n",
       "      <th>...</th>\n",
       "      <td>...</td>\n",
       "      <td>...</td>\n",
       "      <td>...</td>\n",
       "      <td>...</td>\n",
       "      <td>...</td>\n",
       "      <td>...</td>\n",
       "      <td>...</td>\n",
       "      <td>...</td>\n",
       "      <td>...</td>\n",
       "      <td>...</td>\n",
       "    </tr>\n",
       "    <tr>\n",
       "      <th>95</th>\n",
       "      <td>1997-10-08</td>\n",
       "      <td>4285</td>\n",
       "      <td>50</td>\n",
       "      <td>9.133029</td>\n",
       "      <td>5.902204</td>\n",
       "      <td>41.603027</td>\n",
       "      <td>61.307264</td>\n",
       "      <td>1.130726</td>\n",
       "      <td>blue</td>\n",
       "      <td>circle</td>\n",
       "    </tr>\n",
       "    <tr>\n",
       "      <th>96</th>\n",
       "      <td>1997-10-09</td>\n",
       "      <td>9714</td>\n",
       "      <td>76</td>\n",
       "      <td>1.711943</td>\n",
       "      <td>7.144745</td>\n",
       "      <td>57.420940</td>\n",
       "      <td>55.600397</td>\n",
       "      <td>0.560040</td>\n",
       "      <td>red</td>\n",
       "      <td>triangle</td>\n",
       "    </tr>\n",
       "    <tr>\n",
       "      <th>97</th>\n",
       "      <td>1997-10-10</td>\n",
       "      <td>5113</td>\n",
       "      <td>62</td>\n",
       "      <td>2.384461</td>\n",
       "      <td>9.218051</td>\n",
       "      <td>54.261728</td>\n",
       "      <td>43.816027</td>\n",
       "      <td>-0.618397</td>\n",
       "      <td>blue</td>\n",
       "      <td>square</td>\n",
       "    </tr>\n",
       "    <tr>\n",
       "      <th>98</th>\n",
       "      <td>1997-10-11</td>\n",
       "      <td>5916</td>\n",
       "      <td>57</td>\n",
       "      <td>7.212739</td>\n",
       "      <td>6.769230</td>\n",
       "      <td>54.642241</td>\n",
       "      <td>47.752013</td>\n",
       "      <td>-0.224799</td>\n",
       "      <td>blue</td>\n",
       "      <td>circle</td>\n",
       "    </tr>\n",
       "    <tr>\n",
       "      <th>99</th>\n",
       "      <td>1997-10-12</td>\n",
       "      <td>1578</td>\n",
       "      <td>77</td>\n",
       "      <td>9.868106</td>\n",
       "      <td>5.397452</td>\n",
       "      <td>56.472400</td>\n",
       "      <td>72.159015</td>\n",
       "      <td>2.215901</td>\n",
       "      <td>red</td>\n",
       "      <td>circle</td>\n",
       "    </tr>\n",
       "  </tbody>\n",
       "</table>\n",
       "<p>100 rows × 10 columns</p>\n",
       "</div>"
      ],
      "text/plain": [
       "         Date  Price  Quantity     Width    Height    Quality      Score   \n",
       "0  1997-07-05   2291        25  2.946650  5.305868  45.893300  52.762659  \\\n",
       "1  1997-07-06    506        16  1.915208  0.679004  50.611735  31.453719   \n",
       "2  1997-07-07   9629        32  7.869855  6.563335  43.830416  56.239011   \n",
       "3  1997-07-08   6161        67  6.375209  5.756029  41.358007  61.453113   \n",
       "4  1997-07-09   8570        55  0.390629  3.578136  55.739709  60.371905   \n",
       "..        ...    ...       ...       ...       ...        ...        ...   \n",
       "95 1997-10-08   4285        50  9.133029  5.902204  41.603027  61.307264   \n",
       "96 1997-10-09   9714        76  1.711943  7.144745  57.420940  55.600397   \n",
       "97 1997-10-10   5113        62  2.384461  9.218051  54.261728  43.816027   \n",
       "98 1997-10-11   5916        57  7.212739  6.769230  54.642241  47.752013   \n",
       "99 1997-10-12   1578        77  9.868106  5.397452  56.472400  72.159015   \n",
       "\n",
       "    Difference  Color     Shape  \n",
       "0     0.276266  green  triangle  \n",
       "1    -1.854628   blue  triangle  \n",
       "2     0.623901   blue    square  \n",
       "3     1.145311  green    square  \n",
       "4     1.037190    red    square  \n",
       "..         ...    ...       ...  \n",
       "95    1.130726   blue    circle  \n",
       "96    0.560040    red  triangle  \n",
       "97   -0.618397   blue    square  \n",
       "98   -0.224799   blue    circle  \n",
       "99    2.215901    red    circle  \n",
       "\n",
       "[100 rows x 10 columns]"
      ]
     },
     "execution_count": 81,
     "metadata": {},
     "output_type": "execute_result"
    }
   ],
   "source": [
    "# Series, DataFrameの結合はpd.concat()\n",
    "df = pd.concat([sr_date, sr_price, sr_quantity, df_wh, df_quality, df_score, df_difference, df_cs], axis=1)\n",
    "df"
   ]
  },
  {
   "cell_type": "markdown",
   "id": "174ef27d",
   "metadata": {
    "id": "174ef27d"
   },
   "source": [
    "DataFrameのサンプル（レコード）の一部を抽出する"
   ]
  },
  {
   "cell_type": "code",
   "execution_count": 82,
   "id": "fc3053fa",
   "metadata": {
    "id": "fc3053fa",
    "scrolled": true
   },
   "outputs": [
    {
     "data": {
      "text/html": [
       "<div>\n",
       "<style scoped>\n",
       "    .dataframe tbody tr th:only-of-type {\n",
       "        vertical-align: middle;\n",
       "    }\n",
       "\n",
       "    .dataframe tbody tr th {\n",
       "        vertical-align: top;\n",
       "    }\n",
       "\n",
       "    .dataframe thead th {\n",
       "        text-align: right;\n",
       "    }\n",
       "</style>\n",
       "<table border=\"1\" class=\"dataframe\">\n",
       "  <thead>\n",
       "    <tr style=\"text-align: right;\">\n",
       "      <th></th>\n",
       "      <th>Date</th>\n",
       "      <th>Price</th>\n",
       "      <th>Quantity</th>\n",
       "      <th>Width</th>\n",
       "      <th>Height</th>\n",
       "      <th>Quality</th>\n",
       "      <th>Score</th>\n",
       "      <th>Difference</th>\n",
       "      <th>Color</th>\n",
       "      <th>Shape</th>\n",
       "    </tr>\n",
       "  </thead>\n",
       "  <tbody>\n",
       "    <tr>\n",
       "      <th>0</th>\n",
       "      <td>1997-07-05</td>\n",
       "      <td>2291</td>\n",
       "      <td>25</td>\n",
       "      <td>2.946650</td>\n",
       "      <td>5.305868</td>\n",
       "      <td>45.893300</td>\n",
       "      <td>52.762659</td>\n",
       "      <td>0.276266</td>\n",
       "      <td>green</td>\n",
       "      <td>triangle</td>\n",
       "    </tr>\n",
       "    <tr>\n",
       "      <th>1</th>\n",
       "      <td>1997-07-06</td>\n",
       "      <td>506</td>\n",
       "      <td>16</td>\n",
       "      <td>1.915208</td>\n",
       "      <td>0.679004</td>\n",
       "      <td>50.611735</td>\n",
       "      <td>31.453719</td>\n",
       "      <td>-1.854628</td>\n",
       "      <td>blue</td>\n",
       "      <td>triangle</td>\n",
       "    </tr>\n",
       "    <tr>\n",
       "      <th>2</th>\n",
       "      <td>1997-07-07</td>\n",
       "      <td>9629</td>\n",
       "      <td>32</td>\n",
       "      <td>7.869855</td>\n",
       "      <td>6.563335</td>\n",
       "      <td>43.830416</td>\n",
       "      <td>56.239011</td>\n",
       "      <td>0.623901</td>\n",
       "      <td>blue</td>\n",
       "      <td>square</td>\n",
       "    </tr>\n",
       "  </tbody>\n",
       "</table>\n",
       "</div>"
      ],
      "text/plain": [
       "        Date  Price  Quantity     Width    Height    Quality      Score   \n",
       "0 1997-07-05   2291        25  2.946650  5.305868  45.893300  52.762659  \\\n",
       "1 1997-07-06    506        16  1.915208  0.679004  50.611735  31.453719   \n",
       "2 1997-07-07   9629        32  7.869855  6.563335  43.830416  56.239011   \n",
       "\n",
       "   Difference  Color     Shape  \n",
       "0    0.276266  green  triangle  \n",
       "1   -1.854628   blue  triangle  \n",
       "2    0.623901   blue    square  "
      ]
     },
     "execution_count": 82,
     "metadata": {},
     "output_type": "execute_result"
    }
   ],
   "source": [
    "df.head(3)"
   ]
  },
  {
   "cell_type": "code",
   "execution_count": 83,
   "id": "WreF4jX6r4KI",
   "metadata": {
    "id": "WreF4jX6r4KI"
   },
   "outputs": [
    {
     "data": {
      "text/html": [
       "<div>\n",
       "<style scoped>\n",
       "    .dataframe tbody tr th:only-of-type {\n",
       "        vertical-align: middle;\n",
       "    }\n",
       "\n",
       "    .dataframe tbody tr th {\n",
       "        vertical-align: top;\n",
       "    }\n",
       "\n",
       "    .dataframe thead th {\n",
       "        text-align: right;\n",
       "    }\n",
       "</style>\n",
       "<table border=\"1\" class=\"dataframe\">\n",
       "  <thead>\n",
       "    <tr style=\"text-align: right;\">\n",
       "      <th></th>\n",
       "      <th>Date</th>\n",
       "      <th>Price</th>\n",
       "      <th>Quantity</th>\n",
       "      <th>Width</th>\n",
       "      <th>Height</th>\n",
       "      <th>Quality</th>\n",
       "      <th>Score</th>\n",
       "      <th>Difference</th>\n",
       "      <th>Color</th>\n",
       "      <th>Shape</th>\n",
       "    </tr>\n",
       "  </thead>\n",
       "  <tbody>\n",
       "    <tr>\n",
       "      <th>97</th>\n",
       "      <td>1997-10-10</td>\n",
       "      <td>5113</td>\n",
       "      <td>62</td>\n",
       "      <td>2.384461</td>\n",
       "      <td>9.218051</td>\n",
       "      <td>54.261728</td>\n",
       "      <td>43.816027</td>\n",
       "      <td>-0.618397</td>\n",
       "      <td>blue</td>\n",
       "      <td>square</td>\n",
       "    </tr>\n",
       "    <tr>\n",
       "      <th>98</th>\n",
       "      <td>1997-10-11</td>\n",
       "      <td>5916</td>\n",
       "      <td>57</td>\n",
       "      <td>7.212739</td>\n",
       "      <td>6.769230</td>\n",
       "      <td>54.642241</td>\n",
       "      <td>47.752013</td>\n",
       "      <td>-0.224799</td>\n",
       "      <td>blue</td>\n",
       "      <td>circle</td>\n",
       "    </tr>\n",
       "    <tr>\n",
       "      <th>99</th>\n",
       "      <td>1997-10-12</td>\n",
       "      <td>1578</td>\n",
       "      <td>77</td>\n",
       "      <td>9.868106</td>\n",
       "      <td>5.397452</td>\n",
       "      <td>56.472400</td>\n",
       "      <td>72.159015</td>\n",
       "      <td>2.215901</td>\n",
       "      <td>red</td>\n",
       "      <td>circle</td>\n",
       "    </tr>\n",
       "  </tbody>\n",
       "</table>\n",
       "</div>"
      ],
      "text/plain": [
       "         Date  Price  Quantity     Width    Height    Quality      Score   \n",
       "97 1997-10-10   5113        62  2.384461  9.218051  54.261728  43.816027  \\\n",
       "98 1997-10-11   5916        57  7.212739  6.769230  54.642241  47.752013   \n",
       "99 1997-10-12   1578        77  9.868106  5.397452  56.472400  72.159015   \n",
       "\n",
       "    Difference Color   Shape  \n",
       "97   -0.618397  blue  square  \n",
       "98   -0.224799  blue  circle  \n",
       "99    2.215901   red  circle  "
      ]
     },
     "execution_count": 83,
     "metadata": {},
     "output_type": "execute_result"
    }
   ],
   "source": [
    "df.tail(3)"
   ]
  },
  {
   "cell_type": "code",
   "execution_count": 84,
   "id": "KCsE8SHCr_b1",
   "metadata": {
    "id": "KCsE8SHCr_b1"
   },
   "outputs": [
    {
     "data": {
      "text/html": [
       "<div>\n",
       "<style scoped>\n",
       "    .dataframe tbody tr th:only-of-type {\n",
       "        vertical-align: middle;\n",
       "    }\n",
       "\n",
       "    .dataframe tbody tr th {\n",
       "        vertical-align: top;\n",
       "    }\n",
       "\n",
       "    .dataframe thead th {\n",
       "        text-align: right;\n",
       "    }\n",
       "</style>\n",
       "<table border=\"1\" class=\"dataframe\">\n",
       "  <thead>\n",
       "    <tr style=\"text-align: right;\">\n",
       "      <th></th>\n",
       "      <th>Date</th>\n",
       "      <th>Price</th>\n",
       "      <th>Quantity</th>\n",
       "      <th>Width</th>\n",
       "      <th>Height</th>\n",
       "      <th>Quality</th>\n",
       "      <th>Score</th>\n",
       "      <th>Difference</th>\n",
       "      <th>Color</th>\n",
       "      <th>Shape</th>\n",
       "    </tr>\n",
       "  </thead>\n",
       "  <tbody>\n",
       "    <tr>\n",
       "      <th>13</th>\n",
       "      <td>1997-07-18</td>\n",
       "      <td>5863</td>\n",
       "      <td>27</td>\n",
       "      <td>1.509067</td>\n",
       "      <td>0.552414</td>\n",
       "      <td>57.545811</td>\n",
       "      <td>48.619507</td>\n",
       "      <td>-0.138049</td>\n",
       "      <td>green</td>\n",
       "      <td>triangle</td>\n",
       "    </tr>\n",
       "    <tr>\n",
       "      <th>92</th>\n",
       "      <td>1997-10-05</td>\n",
       "      <td>8057</td>\n",
       "      <td>60</td>\n",
       "      <td>5.927891</td>\n",
       "      <td>0.157152</td>\n",
       "      <td>59.760133</td>\n",
       "      <td>78.711269</td>\n",
       "      <td>2.871127</td>\n",
       "      <td>blue</td>\n",
       "      <td>square</td>\n",
       "    </tr>\n",
       "    <tr>\n",
       "      <th>18</th>\n",
       "      <td>1997-07-23</td>\n",
       "      <td>1933</td>\n",
       "      <td>73</td>\n",
       "      <td>6.767624</td>\n",
       "      <td>1.184723</td>\n",
       "      <td>49.670572</td>\n",
       "      <td>39.077701</td>\n",
       "      <td>-1.092230</td>\n",
       "      <td>blue</td>\n",
       "      <td>triangle</td>\n",
       "    </tr>\n",
       "  </tbody>\n",
       "</table>\n",
       "</div>"
      ],
      "text/plain": [
       "         Date  Price  Quantity     Width    Height    Quality      Score   \n",
       "13 1997-07-18   5863        27  1.509067  0.552414  57.545811  48.619507  \\\n",
       "92 1997-10-05   8057        60  5.927891  0.157152  59.760133  78.711269   \n",
       "18 1997-07-23   1933        73  6.767624  1.184723  49.670572  39.077701   \n",
       "\n",
       "    Difference  Color     Shape  \n",
       "13   -0.138049  green  triangle  \n",
       "92    2.871127   blue    square  \n",
       "18   -1.092230   blue  triangle  "
      ]
     },
     "execution_count": 84,
     "metadata": {},
     "output_type": "execute_result"
    }
   ],
   "source": [
    "df.sample(3)"
   ]
  },
  {
   "cell_type": "code",
   "execution_count": 85,
   "id": "mepPghYdsEUr",
   "metadata": {
    "id": "mepPghYdsEUr"
   },
   "outputs": [
    {
     "data": {
      "text/html": [
       "<div>\n",
       "<style scoped>\n",
       "    .dataframe tbody tr th:only-of-type {\n",
       "        vertical-align: middle;\n",
       "    }\n",
       "\n",
       "    .dataframe tbody tr th {\n",
       "        vertical-align: top;\n",
       "    }\n",
       "\n",
       "    .dataframe thead th {\n",
       "        text-align: right;\n",
       "    }\n",
       "</style>\n",
       "<table border=\"1\" class=\"dataframe\">\n",
       "  <thead>\n",
       "    <tr style=\"text-align: right;\">\n",
       "      <th></th>\n",
       "      <th>Date</th>\n",
       "      <th>Price</th>\n",
       "      <th>Quantity</th>\n",
       "      <th>Width</th>\n",
       "      <th>Height</th>\n",
       "      <th>Quality</th>\n",
       "      <th>Score</th>\n",
       "      <th>Difference</th>\n",
       "      <th>Color</th>\n",
       "      <th>Shape</th>\n",
       "    </tr>\n",
       "  </thead>\n",
       "  <tbody>\n",
       "    <tr>\n",
       "      <th>71</th>\n",
       "      <td>1997-09-14</td>\n",
       "      <td>6801</td>\n",
       "      <td>99</td>\n",
       "      <td>3.606084</td>\n",
       "      <td>1.688734</td>\n",
       "      <td>44.727623</td>\n",
       "      <td>49.963040</td>\n",
       "      <td>-0.003696</td>\n",
       "      <td>blue</td>\n",
       "      <td>square</td>\n",
       "    </tr>\n",
       "    <tr>\n",
       "      <th>28</th>\n",
       "      <td>1997-08-02</td>\n",
       "      <td>3216</td>\n",
       "      <td>15</td>\n",
       "      <td>1.304293</td>\n",
       "      <td>9.843835</td>\n",
       "      <td>54.360744</td>\n",
       "      <td>42.447770</td>\n",
       "      <td>-0.755223</td>\n",
       "      <td>green</td>\n",
       "      <td>circle</td>\n",
       "    </tr>\n",
       "    <tr>\n",
       "      <th>9</th>\n",
       "      <td>1997-07-14</td>\n",
       "      <td>1874</td>\n",
       "      <td>94</td>\n",
       "      <td>4.835286</td>\n",
       "      <td>2.829882</td>\n",
       "      <td>47.156272</td>\n",
       "      <td>45.622168</td>\n",
       "      <td>-0.437783</td>\n",
       "      <td>red</td>\n",
       "      <td>circle</td>\n",
       "    </tr>\n",
       "    <tr>\n",
       "      <th>4</th>\n",
       "      <td>1997-07-09</td>\n",
       "      <td>8570</td>\n",
       "      <td>55</td>\n",
       "      <td>0.390629</td>\n",
       "      <td>3.578136</td>\n",
       "      <td>55.739709</td>\n",
       "      <td>60.371905</td>\n",
       "      <td>1.037190</td>\n",
       "      <td>red</td>\n",
       "      <td>square</td>\n",
       "    </tr>\n",
       "    <tr>\n",
       "      <th>73</th>\n",
       "      <td>1997-09-16</td>\n",
       "      <td>6354</td>\n",
       "      <td>84</td>\n",
       "      <td>7.945283</td>\n",
       "      <td>7.917093</td>\n",
       "      <td>54.312865</td>\n",
       "      <td>56.844951</td>\n",
       "      <td>0.684495</td>\n",
       "      <td>green</td>\n",
       "      <td>triangle</td>\n",
       "    </tr>\n",
       "    <tr>\n",
       "      <th>...</th>\n",
       "      <td>...</td>\n",
       "      <td>...</td>\n",
       "      <td>...</td>\n",
       "      <td>...</td>\n",
       "      <td>...</td>\n",
       "      <td>...</td>\n",
       "      <td>...</td>\n",
       "      <td>...</td>\n",
       "      <td>...</td>\n",
       "      <td>...</td>\n",
       "    </tr>\n",
       "    <tr>\n",
       "      <th>45</th>\n",
       "      <td>1997-08-19</td>\n",
       "      <td>7708</td>\n",
       "      <td>36</td>\n",
       "      <td>5.156806</td>\n",
       "      <td>5.698250</td>\n",
       "      <td>54.871535</td>\n",
       "      <td>50.991466</td>\n",
       "      <td>0.099147</td>\n",
       "      <td>blue</td>\n",
       "      <td>triangle</td>\n",
       "    </tr>\n",
       "    <tr>\n",
       "      <th>57</th>\n",
       "      <td>1997-08-31</td>\n",
       "      <td>639</td>\n",
       "      <td>30</td>\n",
       "      <td>9.479230</td>\n",
       "      <td>1.300150</td>\n",
       "      <td>59.687671</td>\n",
       "      <td>61.854042</td>\n",
       "      <td>1.185404</td>\n",
       "      <td>red</td>\n",
       "      <td>triangle</td>\n",
       "    </tr>\n",
       "    <tr>\n",
       "      <th>22</th>\n",
       "      <td>1997-07-27</td>\n",
       "      <td>8521</td>\n",
       "      <td>67</td>\n",
       "      <td>7.187761</td>\n",
       "      <td>7.435768</td>\n",
       "      <td>47.920949</td>\n",
       "      <td>54.913338</td>\n",
       "      <td>0.491334</td>\n",
       "      <td>green</td>\n",
       "      <td>square</td>\n",
       "    </tr>\n",
       "    <tr>\n",
       "      <th>6</th>\n",
       "      <td>1997-07-11</td>\n",
       "      <td>3723</td>\n",
       "      <td>41</td>\n",
       "      <td>8.640421</td>\n",
       "      <td>8.772905</td>\n",
       "      <td>52.750418</td>\n",
       "      <td>48.883017</td>\n",
       "      <td>-0.111698</td>\n",
       "      <td>blue</td>\n",
       "      <td>circle</td>\n",
       "    </tr>\n",
       "    <tr>\n",
       "      <th>15</th>\n",
       "      <td>1997-07-20</td>\n",
       "      <td>7530</td>\n",
       "      <td>66</td>\n",
       "      <td>1.987739</td>\n",
       "      <td>8.313639</td>\n",
       "      <td>53.048372</td>\n",
       "      <td>32.247177</td>\n",
       "      <td>-1.775282</td>\n",
       "      <td>blue</td>\n",
       "      <td>square</td>\n",
       "    </tr>\n",
       "  </tbody>\n",
       "</table>\n",
       "<p>100 rows × 10 columns</p>\n",
       "</div>"
      ],
      "text/plain": [
       "         Date  Price  Quantity     Width    Height    Quality      Score   \n",
       "71 1997-09-14   6801        99  3.606084  1.688734  44.727623  49.963040  \\\n",
       "28 1997-08-02   3216        15  1.304293  9.843835  54.360744  42.447770   \n",
       "9  1997-07-14   1874        94  4.835286  2.829882  47.156272  45.622168   \n",
       "4  1997-07-09   8570        55  0.390629  3.578136  55.739709  60.371905   \n",
       "73 1997-09-16   6354        84  7.945283  7.917093  54.312865  56.844951   \n",
       "..        ...    ...       ...       ...       ...        ...        ...   \n",
       "45 1997-08-19   7708        36  5.156806  5.698250  54.871535  50.991466   \n",
       "57 1997-08-31    639        30  9.479230  1.300150  59.687671  61.854042   \n",
       "22 1997-07-27   8521        67  7.187761  7.435768  47.920949  54.913338   \n",
       "6  1997-07-11   3723        41  8.640421  8.772905  52.750418  48.883017   \n",
       "15 1997-07-20   7530        66  1.987739  8.313639  53.048372  32.247177   \n",
       "\n",
       "    Difference  Color     Shape  \n",
       "71   -0.003696   blue    square  \n",
       "28   -0.755223  green    circle  \n",
       "9    -0.437783    red    circle  \n",
       "4     1.037190    red    square  \n",
       "73    0.684495  green  triangle  \n",
       "..         ...    ...       ...  \n",
       "45    0.099147   blue  triangle  \n",
       "57    1.185404    red  triangle  \n",
       "22    0.491334  green    square  \n",
       "6    -0.111698   blue    circle  \n",
       "15   -1.775282   blue    square  \n",
       "\n",
       "[100 rows x 10 columns]"
      ]
     },
     "execution_count": 85,
     "metadata": {},
     "output_type": "execute_result"
    }
   ],
   "source": [
    "# サンプルをシャッフルすることもできる\n",
    "df.sample(frac=1, random_state=17)"
   ]
  },
  {
   "cell_type": "markdown",
   "id": "9b716def",
   "metadata": {
    "id": "9b716def"
   },
   "source": [
    "---\n",
    "<a id=2></a>\n",
    "[Topへ](#0)\n",
    "\n",
    "---\n",
    "## 2.SeriesとDataFrame"
   ]
  },
  {
   "cell_type": "markdown",
   "id": "3a0b885a",
   "metadata": {
    "id": "3a0b885a"
   },
   "source": [
    "* SeriesとDataFrameの関係性\n",
    "* Series、DataFrameをndarrayに変換\n",
    "* Series、DataFrameをlistに変換\n",
    "* Series、DataFrameをdictionaryに変換\n",
    "* Seriesの作成\n",
    "* DataFrameの作成\n",
    "---"
   ]
  },
  {
   "cell_type": "markdown",
   "id": "3a4878ac",
   "metadata": {
    "id": "3a4878ac"
   },
   "source": [
    "SeriesとDataFrameの関係性"
   ]
  },
  {
   "cell_type": "code",
   "execution_count": 86,
   "id": "93673e23",
   "metadata": {
    "id": "93673e23"
   },
   "outputs": [
    {
     "data": {
      "text/plain": [
       "0    2291\n",
       "1     506\n",
       "2    9629\n",
       "3    6161\n",
       "4    8570\n",
       "Name: Price, dtype: int64"
      ]
     },
     "execution_count": 86,
     "metadata": {},
     "output_type": "execute_result"
    }
   ],
   "source": [
    "sr_price.head()"
   ]
  },
  {
   "cell_type": "code",
   "execution_count": 87,
   "id": "_krldENSuahN",
   "metadata": {
    "id": "_krldENSuahN"
   },
   "outputs": [
    {
     "data": {
      "text/plain": [
       "0    2291\n",
       "1     506\n",
       "2    9629\n",
       "3    6161\n",
       "4    8570\n",
       "Name: Price, dtype: int64"
      ]
     },
     "execution_count": 87,
     "metadata": {},
     "output_type": "execute_result"
    }
   ],
   "source": [
    "# DataFrameの1カラムはSeriesに等しい\n",
    "df['Price'].head()"
   ]
  },
  {
   "cell_type": "code",
   "execution_count": 88,
   "id": "xXybj0xLutsn",
   "metadata": {
    "id": "xXybj0xLutsn"
   },
   "outputs": [
    {
     "data": {
      "text/plain": [
       "pandas.core.series.Series"
      ]
     },
     "execution_count": 88,
     "metadata": {},
     "output_type": "execute_result"
    }
   ],
   "source": [
    "type(df['Price'])"
   ]
  },
  {
   "cell_type": "code",
   "execution_count": 89,
   "id": "JAsKfEFevNTu",
   "metadata": {
    "id": "JAsKfEFevNTu"
   },
   "outputs": [
    {
     "data": {
      "text/plain": [
       "0    2291\n",
       "1     506\n",
       "2    9629\n",
       "3    6161\n",
       "4    8570\n",
       "Name: Price, dtype: int64"
      ]
     },
     "execution_count": 89,
     "metadata": {},
     "output_type": "execute_result"
    }
   ],
   "source": [
    "df.Price.head()\n",
    "# メソッドと間違えることもあるため基本的には['Price']を用いる"
   ]
  },
  {
   "cell_type": "markdown",
   "id": "efc68bab",
   "metadata": {
    "id": "efc68bab"
   },
   "source": [
    "Series、DataFrameをndarrayに変換"
   ]
  },
  {
   "cell_type": "code",
   "execution_count": 90,
   "id": "df76f80a",
   "metadata": {
    "id": "df76f80a"
   },
   "outputs": [
    {
     "data": {
      "text/plain": [
       "array([2291,  506, 9629, 6161, 8570, 9347, 3723, 4664, 3045, 1874, 5916,\n",
       "       2926, 4678, 5863, 8099, 7530, 7434, 8255, 1933, 4893, 3445, 5202,\n",
       "       8521, 4629, 2180, 2977,  266, 5222, 3216, 7194, 7645, 7921, 2716,\n",
       "       4479, 2894, 8119, 9110, 4768, 3180,  535, 2431, 4063, 6307, 1150,\n",
       "       3263, 7708,  722, 1838, 4710, 1429, 3349, 9900, 1584,  888, 4467,\n",
       "       7304, 3649,  639, 3863, 7409, 3193, 1648, 9085,  975, 3773, 7399,\n",
       "       5294, 4513, 1991, 5535, 5523, 6801, 5985, 6354, 1554, 4239, 5511,\n",
       "       4002, 7804, 2343, 4086, 9187, 4236, 2854, 1864, 6035, 7975, 8538,\n",
       "       1702,  860, 2078, 2427, 8057, 7691, 9991, 4285, 9714, 5113, 5916,\n",
       "       1578])"
      ]
     },
     "execution_count": 90,
     "metadata": {},
     "output_type": "execute_result"
    }
   ],
   "source": [
    "df['Price'].values"
   ]
  },
  {
   "cell_type": "code",
   "execution_count": 91,
   "id": "3E8tiVNUEP5-",
   "metadata": {
    "id": "3E8tiVNUEP5-"
   },
   "outputs": [
    {
     "data": {
      "text/plain": [
       "array([[Timestamp('1997-07-05 00:00:00'), 2291, 25, 2.9466500268710973,\n",
       "        5.305867556052942, 45.893300053742195, 52.76265890021319,\n",
       "        0.27626589002131874, 'green', 'triangle'],\n",
       "       [Timestamp('1997-07-06 00:00:00'), 506, 16, 1.9152078694749486,\n",
       "        0.6790035819129137, 50.61173511210588, 31.45371921193495,\n",
       "        -1.854628078806505, 'blue', 'triangle']], dtype=object)"
      ]
     },
     "execution_count": 91,
     "metadata": {},
     "output_type": "execute_result"
    }
   ],
   "source": [
    "df.values[:2]"
   ]
  },
  {
   "cell_type": "markdown",
   "id": "e377093a",
   "metadata": {
    "id": "e377093a"
   },
   "source": [
    "Series、DataFrameをlistに変換"
   ]
  },
  {
   "cell_type": "code",
   "execution_count": 92,
   "id": "95b91e63",
   "metadata": {
    "id": "95b91e63"
   },
   "outputs": [
    {
     "data": {
      "text/plain": [
       "[2291, 506, 9629, 6161, 8570]"
      ]
     },
     "execution_count": 92,
     "metadata": {},
     "output_type": "execute_result"
    }
   ],
   "source": [
    "df['Price'].tolist()[:5]"
   ]
  },
  {
   "cell_type": "code",
   "execution_count": 93,
   "id": "_bt_8EbvEwfr",
   "metadata": {
    "id": "_bt_8EbvEwfr"
   },
   "outputs": [
    {
     "data": {
      "text/plain": [
       "[[Timestamp('1997-07-05 00:00:00'),\n",
       "  2291,\n",
       "  25,\n",
       "  2.9466500268710973,\n",
       "  5.305867556052942,\n",
       "  45.893300053742195,\n",
       "  52.76265890021319,\n",
       "  0.27626589002131874,\n",
       "  'green',\n",
       "  'triangle'],\n",
       " [Timestamp('1997-07-06 00:00:00'),\n",
       "  506,\n",
       "  16,\n",
       "  1.9152078694749486,\n",
       "  0.6790035819129137,\n",
       "  50.61173511210588,\n",
       "  31.45371921193495,\n",
       "  -1.854628078806505,\n",
       "  'blue',\n",
       "  'triangle'],\n",
       " [Timestamp('1997-07-07 00:00:00'),\n",
       "  9629,\n",
       "  32,\n",
       "  7.869854599999133,\n",
       "  6.563335217758555,\n",
       "  43.830415738949895,\n",
       "  56.239011113263565,\n",
       "  0.6239011113263563,\n",
       "  'blue',\n",
       "  'square']]"
      ]
     },
     "execution_count": 93,
     "metadata": {},
     "output_type": "execute_result"
    }
   ],
   "source": [
    "# DataFrameの場合は一度ndarrayにしてからリストへ\n",
    "df.values.tolist()[:3]"
   ]
  },
  {
   "cell_type": "markdown",
   "id": "2472015d",
   "metadata": {
    "id": "2472015d"
   },
   "source": [
    "Series、DataFrameをdictionaryに変換"
   ]
  },
  {
   "cell_type": "code",
   "execution_count": 94,
   "id": "d07a55dc",
   "metadata": {
    "id": "d07a55dc",
    "scrolled": true
   },
   "outputs": [
    {
     "data": {
      "text/plain": [
       "{0: 2291,\n",
       " 1: 506,\n",
       " 2: 9629,\n",
       " 3: 6161,\n",
       " 4: 8570,\n",
       " 5: 9347,\n",
       " 6: 3723,\n",
       " 7: 4664,\n",
       " 8: 3045,\n",
       " 9: 1874,\n",
       " 10: 5916,\n",
       " 11: 2926,\n",
       " 12: 4678,\n",
       " 13: 5863,\n",
       " 14: 8099,\n",
       " 15: 7530,\n",
       " 16: 7434,\n",
       " 17: 8255,\n",
       " 18: 1933,\n",
       " 19: 4893,\n",
       " 20: 3445,\n",
       " 21: 5202,\n",
       " 22: 8521,\n",
       " 23: 4629,\n",
       " 24: 2180,\n",
       " 25: 2977,\n",
       " 26: 266,\n",
       " 27: 5222,\n",
       " 28: 3216,\n",
       " 29: 7194,\n",
       " 30: 7645,\n",
       " 31: 7921,\n",
       " 32: 2716,\n",
       " 33: 4479,\n",
       " 34: 2894,\n",
       " 35: 8119,\n",
       " 36: 9110,\n",
       " 37: 4768,\n",
       " 38: 3180,\n",
       " 39: 535,\n",
       " 40: 2431,\n",
       " 41: 4063,\n",
       " 42: 6307,\n",
       " 43: 1150,\n",
       " 44: 3263,\n",
       " 45: 7708,\n",
       " 46: 722,\n",
       " 47: 1838,\n",
       " 48: 4710,\n",
       " 49: 1429,\n",
       " 50: 3349,\n",
       " 51: 9900,\n",
       " 52: 1584,\n",
       " 53: 888,\n",
       " 54: 4467,\n",
       " 55: 7304,\n",
       " 56: 3649,\n",
       " 57: 639,\n",
       " 58: 3863,\n",
       " 59: 7409,\n",
       " 60: 3193,\n",
       " 61: 1648,\n",
       " 62: 9085,\n",
       " 63: 975,\n",
       " 64: 3773,\n",
       " 65: 7399,\n",
       " 66: 5294,\n",
       " 67: 4513,\n",
       " 68: 1991,\n",
       " 69: 5535,\n",
       " 70: 5523,\n",
       " 71: 6801,\n",
       " 72: 5985,\n",
       " 73: 6354,\n",
       " 74: 1554,\n",
       " 75: 4239,\n",
       " 76: 5511,\n",
       " 77: 4002,\n",
       " 78: 7804,\n",
       " 79: 2343,\n",
       " 80: 4086,\n",
       " 81: 9187,\n",
       " 82: 4236,\n",
       " 83: 2854,\n",
       " 84: 1864,\n",
       " 85: 6035,\n",
       " 86: 7975,\n",
       " 87: 8538,\n",
       " 88: 1702,\n",
       " 89: 860,\n",
       " 90: 2078,\n",
       " 91: 2427,\n",
       " 92: 8057,\n",
       " 93: 7691,\n",
       " 94: 9991,\n",
       " 95: 4285,\n",
       " 96: 9714,\n",
       " 97: 5113,\n",
       " 98: 5916,\n",
       " 99: 1578}"
      ]
     },
     "execution_count": 94,
     "metadata": {},
     "output_type": "execute_result"
    }
   ],
   "source": [
    "df['Price'].to_dict()"
   ]
  },
  {
   "cell_type": "code",
   "execution_count": 95,
   "id": "cK6lwcBpFZAt",
   "metadata": {
    "id": "cK6lwcBpFZAt"
   },
   "outputs": [
    {
     "data": {
      "text/plain": [
       "[{'Date': Timestamp('1997-07-05 00:00:00'),\n",
       "  'Price': 2291,\n",
       "  'Quantity': 25,\n",
       "  'Width': 2.9466500268710973,\n",
       "  'Height': 5.305867556052942,\n",
       "  'Quality': 45.893300053742195,\n",
       "  'Score': 52.76265890021319,\n",
       "  'Difference': 0.27626589002131874,\n",
       "  'Color': 'green',\n",
       "  'Shape': 'triangle'},\n",
       " {'Date': Timestamp('1997-07-06 00:00:00'),\n",
       "  'Price': 506,\n",
       "  'Quantity': 16,\n",
       "  'Width': 1.9152078694749486,\n",
       "  'Height': 0.6790035819129137,\n",
       "  'Quality': 50.61173511210588,\n",
       "  'Score': 31.45371921193495,\n",
       "  'Difference': -1.854628078806505,\n",
       "  'Color': 'blue',\n",
       "  'Shape': 'triangle'},\n",
       " {'Date': Timestamp('1997-07-07 00:00:00'),\n",
       "  'Price': 9629,\n",
       "  'Quantity': 32,\n",
       "  'Width': 7.869854599999133,\n",
       "  'Height': 6.563335217758555,\n",
       "  'Quality': 43.830415738949895,\n",
       "  'Score': 56.239011113263565,\n",
       "  'Difference': 0.6239011113263563,\n",
       "  'Color': 'blue',\n",
       "  'Shape': 'square'},\n",
       " {'Date': Timestamp('1997-07-08 00:00:00'),\n",
       "  'Price': 6161,\n",
       "  'Quantity': 67,\n",
       "  'Width': 6.375208960436359,\n",
       "  'Height': 5.75602893753034,\n",
       "  'Quality': 41.358007163825825,\n",
       "  'Score': 61.453112895720906,\n",
       "  'Difference': 1.1453112895720903,\n",
       "  'Color': 'green',\n",
       "  'Shape': 'square'},\n",
       " {'Date': Timestamp('1997-07-09 00:00:00'),\n",
       "  'Price': 8570,\n",
       "  'Quantity': 55,\n",
       "  'Width': 0.3906291618886648,\n",
       "  'Height': 3.5781360448354893,\n",
       "  'Quality': 55.739709199998266,\n",
       "  'Score': 60.371904682278824,\n",
       "  'Difference': 1.0371904682278827,\n",
       "  'Color': 'red',\n",
       "  'Shape': 'square'},\n",
       " {'Date': Timestamp('1997-07-10 00:00:00'),\n",
       "  'Price': 9347,\n",
       "  'Quantity': 32,\n",
       "  'Width': 9.456831868184075,\n",
       "  'Height': 0.6004468031538535,\n",
       "  'Quality': 53.12667043551711,\n",
       "  'Score': 68.86638929781608,\n",
       "  'Difference': 1.8866389297816077,\n",
       "  'Color': 'green',\n",
       "  'Shape': 'triangle'},\n",
       " {'Date': Timestamp('1997-07-11 00:00:00'),\n",
       "  'Price': 3723,\n",
       "  'Quantity': 41,\n",
       "  'Width': 8.64042103546211,\n",
       "  'Height': 8.772905261480302,\n",
       "  'Quality': 52.75041792087272,\n",
       "  'Score': 48.88301709871234,\n",
       "  'Difference': -0.11169829012876616,\n",
       "  'Color': 'blue',\n",
       "  'Shape': 'circle'},\n",
       " {'Date': Timestamp('1997-07-12 00:00:00'),\n",
       "  'Price': 4664,\n",
       "  'Quantity': 78,\n",
       "  'Width': 0.5119366562045369,\n",
       "  'Height': 6.524186154656548,\n",
       "  'Quality': 51.51205787506068,\n",
       "  'Score': 46.37898661600951,\n",
       "  'Difference': -0.36210133839904846,\n",
       "  'Color': 'red',\n",
       "  'Shape': 'square'},\n",
       " {'Date': Timestamp('1997-07-13 00:00:00'),\n",
       "  'Price': 3045,\n",
       "  'Quantity': 49,\n",
       "  'Width': 5.517513686348753,\n",
       "  'Height': 5.975132532390511,\n",
       "  'Quality': 40.78125832377733,\n",
       "  'Score': 51.48675045045244,\n",
       "  'Difference': 0.14867504504524393,\n",
       "  'Color': 'red',\n",
       "  'Shape': 'triangle'},\n",
       " {'Date': Timestamp('1997-07-14 00:00:00'),\n",
       "  'Price': 1874,\n",
       "  'Quantity': 94,\n",
       "  'Width': 4.835286243100021,\n",
       "  'Height': 2.829881608569912,\n",
       "  'Quality': 47.15627208967098,\n",
       "  'Score': 45.62216847485368,\n",
       "  'Difference': -0.4377831525146323,\n",
       "  'Color': 'red',\n",
       "  'Shape': 'circle'},\n",
       " {'Date': Timestamp('1997-07-15 00:00:00'),\n",
       "  'Price': 5916,\n",
       "  'Quantity': 54,\n",
       "  'Width': 2.9772571830177164,\n",
       "  'Height': 5.6150890532636115,\n",
       "  'Quality': 58.91366373636815,\n",
       "  'Score': 71.71256997506643,\n",
       "  'Difference': 2.1712569975066427,\n",
       "  'Color': 'green',\n",
       "  'Shape': 'triangle'},\n",
       " {'Date': Timestamp('1997-07-16 00:00:00'),\n",
       "  'Price': 2926,\n",
       "  'Quantity': 17,\n",
       "  'Width': 3.9604743604702652,\n",
       "  'Height': 7.887007096788996,\n",
       "  'Quality': 41.20089360630771,\n",
       "  'Score': 61.52310250623654,\n",
       "  'Difference': 1.1523102506236542,\n",
       "  'Color': 'blue',\n",
       "  'Shape': 'circle'},\n",
       " {'Date': Timestamp('1997-07-17 00:00:00'),\n",
       "  'Price': 4678,\n",
       "  'Quantity': 11,\n",
       "  'Width': 4.184843853458769,\n",
       "  'Height': 1.4390392077532788,\n",
       "  'Quality': 57.28084207092422,\n",
       "  'Score': 31.81187660697171,\n",
       "  'Difference': -1.818812339302829,\n",
       "  'Color': 'green',\n",
       "  'Shape': 'triangle'},\n",
       " {'Date': Timestamp('1997-07-18 00:00:00'),\n",
       "  'Price': 5863,\n",
       "  'Quantity': 27,\n",
       "  'Width': 1.5090669442067706,\n",
       "  'Height': 0.5524135021582377,\n",
       "  'Quality': 57.54581052296061,\n",
       "  'Score': 48.61950659150358,\n",
       "  'Difference': -0.13804934084964166,\n",
       "  'Color': 'green',\n",
       "  'Shape': 'triangle'},\n",
       " {'Date': Timestamp('1997-07-19 00:00:00'),\n",
       "  'Price': 8099,\n",
       "  'Quantity': 51,\n",
       "  'Width': 7.180371937036457,\n",
       "  'Height': 2.9231735450413856,\n",
       "  'Quality': 41.02387331240907,\n",
       "  'Score': 55.39839613857675,\n",
       "  'Difference': 0.5398396138576749,\n",
       "  'Color': 'red',\n",
       "  'Shape': 'triangle'},\n",
       " {'Date': Timestamp('1997-07-20 00:00:00'),\n",
       "  'Price': 7530,\n",
       "  'Quantity': 66,\n",
       "  'Width': 1.9877387220034304,\n",
       "  'Height': 8.313639223105211,\n",
       "  'Quality': 53.048372309313095,\n",
       "  'Score': 32.247177128917016,\n",
       "  'Difference': -1.7752822871082987,\n",
       "  'Color': 'blue',\n",
       "  'Shape': 'square'},\n",
       " {'Date': Timestamp('1997-07-21 00:00:00'),\n",
       "  'Price': 7434,\n",
       "  'Quantity': 20,\n",
       "  'Width': 5.6799111972463106,\n",
       "  'Height': 0.8233974921248077,\n",
       "  'Quality': 51.035027372697506,\n",
       "  'Score': 63.14876535880369,\n",
       "  'Difference': 1.3148765358803693,\n",
       "  'Color': 'blue',\n",
       "  'Shape': 'circle'},\n",
       " {'Date': Timestamp('1997-07-22 00:00:00'),\n",
       "  'Price': 8255,\n",
       "  'Quantity': 13,\n",
       "  'Width': 5.449985739307204,\n",
       "  'Height': 1.5895874456727543,\n",
       "  'Quality': 51.95026506478102,\n",
       "  'Score': 45.265519529259464,\n",
       "  'Difference': -0.47344804707405347,\n",
       "  'Color': 'blue',\n",
       "  'Shape': 'triangle'},\n",
       " {'Date': Timestamp('1997-07-23 00:00:00'),\n",
       "  'Price': 1933,\n",
       "  'Quantity': 73,\n",
       "  'Width': 6.767623857029604,\n",
       "  'Height': 1.1847226487907647,\n",
       "  'Quality': 49.670572486200044,\n",
       "  'Score': 39.07770099272815,\n",
       "  'Difference': -1.0922299007271854,\n",
       "  'Color': 'blue',\n",
       "  'Shape': 'triangle'},\n",
       " {'Date': Timestamp('1997-07-24 00:00:00'),\n",
       "  'Price': 4893,\n",
       "  'Quantity': 16,\n",
       "  'Width': 4.449960661200688,\n",
       "  'Height': 8.87982434157199,\n",
       "  'Quality': 45.659763217139826,\n",
       "  'Score': 47.49972558262249,\n",
       "  'Difference': -0.25002744173775115,\n",
       "  'Color': 'green',\n",
       "  'Shape': 'circle'},\n",
       " {'Date': Timestamp('1997-07-25 00:00:00'),\n",
       "  'Price': 3445,\n",
       "  'Quantity': 48,\n",
       "  'Width': 7.9726772999531015,\n",
       "  'Height': 0.6797872826362639,\n",
       "  'Quality': 45.95451436603543,\n",
       "  'Score': 40.17705696417643,\n",
       "  'Difference': -0.9822943035823575,\n",
       "  'Color': 'green',\n",
       "  'Shape': 'square'},\n",
       " {'Date': Timestamp('1997-07-26 00:00:00'),\n",
       "  'Price': 5202,\n",
       "  'Quantity': 51,\n",
       "  'Width': 9.607877564667781,\n",
       "  'Height': 6.592053923760217,\n",
       "  'Quality': 51.23017810652722,\n",
       "  'Score': 60.31269092479093,\n",
       "  'Difference': 1.031269092479093,\n",
       "  'Color': 'blue',\n",
       "  'Shape': 'square'},\n",
       " {'Date': Timestamp('1997-07-27 00:00:00'),\n",
       "  'Price': 8521,\n",
       "  'Quantity': 67,\n",
       "  'Width': 7.187760832244346,\n",
       "  'Height': 7.435767651340965,\n",
       "  'Quality': 47.92094872094053,\n",
       "  'Score': 54.91333775514212,\n",
       "  'Difference': 0.4913337755142121,\n",
       "  'Color': 'green',\n",
       "  'Shape': 'square'},\n",
       " {'Date': Timestamp('1997-07-28 00:00:00'),\n",
       "  'Price': 4629,\n",
       "  'Quantity': 40,\n",
       "  'Width': 8.87736351885637,\n",
       "  'Height': 1.3394566757579296,\n",
       "  'Quality': 55.77401419357799,\n",
       "  'Score': 45.53353395797148,\n",
       "  'Difference': -0.4466466042028524,\n",
       "  'Color': 'blue',\n",
       "  'Shape': 'square'},\n",
       " {'Date': Timestamp('1997-07-29 00:00:00'),\n",
       "  'Price': 2180,\n",
       "  'Quantity': 27,\n",
       "  'Width': 7.769745806055802,\n",
       "  'Height': 8.379915121953252,\n",
       "  'Quality': 48.36968770691754,\n",
       "  'Score': 41.93639918093864,\n",
       "  'Difference': -0.8063600819061357,\n",
       "  'Color': 'green',\n",
       "  'Shape': 'square'},\n",
       " {'Date': Timestamp('1997-07-30 00:00:00'),\n",
       "  'Price': 2977,\n",
       "  'Quantity': 59,\n",
       "  'Width': 8.293047639084282,\n",
       "  'Height': 0.29156996519808853,\n",
       "  'Quality': 42.87807841550656,\n",
       "  'Score': 51.312677583434564,\n",
       "  'Difference': 0.1312677583434561,\n",
       "  'Color': 'green',\n",
       "  'Shape': 'triangle'},\n",
       " {'Date': Timestamp('1997-07-31 00:00:00'),\n",
       "  'Price': 266,\n",
       "  'Quantity': 42,\n",
       "  'Width': 3.9037449127658452,\n",
       "  'Height': 4.372519921680409,\n",
       "  'Quality': 43.018133888413544,\n",
       "  'Score': 37.874397616162945,\n",
       "  'Difference': -1.2125602383837053,\n",
       "  'Color': 'green',\n",
       "  'Shape': 'square'},\n",
       " {'Date': Timestamp('1997-08-01 00:00:00'),\n",
       "  'Price': 5222,\n",
       "  'Quantity': 71,\n",
       "  'Width': 5.206350635113318,\n",
       "  'Height': 4.928726741656842,\n",
       "  'Quality': 41.104827004316476,\n",
       "  'Score': 51.599908534911094,\n",
       "  'Difference': 0.1599908534911095,\n",
       "  'Color': 'red',\n",
       "  'Shape': 'square'},\n",
       " {'Date': Timestamp('1997-08-02 00:00:00'),\n",
       "  'Price': 3216,\n",
       "  'Quantity': 15,\n",
       "  'Width': 1.3042928220861905,\n",
       "  'Height': 9.843835309944723,\n",
       "  'Quality': 54.36074387407292,\n",
       "  'Score': 42.447769643650034,\n",
       "  'Difference': -0.7552230356349968,\n",
       "  'Color': 'green',\n",
       "  'Shape': 'circle'},\n",
       " {'Date': Timestamp('1997-08-03 00:00:00'),\n",
       "  'Price': 7194,\n",
       "  'Quantity': 48,\n",
       "  'Width': 0.6570232191808534,\n",
       "  'Height': 5.7928407774407,\n",
       "  'Quality': 45.84634709008277,\n",
       "  'Score': 53.498959924220536,\n",
       "  'Difference': 0.3498959924220536,\n",
       "  'Color': 'green',\n",
       "  'Shape': 'triangle'},\n",
       " {'Date': Timestamp('1997-08-04 00:00:00'),\n",
       "  'Price': 7645,\n",
       "  'Quantity': 12,\n",
       "  'Width': 5.807748250867279,\n",
       "  'Height': 9.543378655569242,\n",
       "  'Quality': 43.97547744400686,\n",
       "  'Score': 59.77541764322047,\n",
       "  'Difference': 0.9775417643220472,\n",
       "  'Color': 'blue',\n",
       "  'Shape': 'square'},\n",
       " {'Date': Timestamp('1997-08-05 00:00:00'),\n",
       "  'Price': 7921,\n",
       "  'Quantity': 54,\n",
       "  'Width': 1.9744377751367526,\n",
       "  'Height': 0.8332540063040506,\n",
       "  'Quality': 56.627278446210425,\n",
       "  'Score': 48.61414750164035,\n",
       "  'Difference': -0.13858524983596474,\n",
       "  'Color': 'blue',\n",
       "  'Shape': 'circle'},\n",
       " {'Date': Timestamp('1997-08-06 00:00:00'),\n",
       "  'Price': 2716,\n",
       "  'Quantity': 64,\n",
       "  'Width': 8.838642177332371,\n",
       "  'Height': 0.1569619295094371,\n",
       "  'Quality': 51.359822394492625,\n",
       "  'Score': 51.03856305141501,\n",
       "  'Difference': 0.10385630514150096,\n",
       "  'Color': 'blue',\n",
       "  'Shape': 'triangle'},\n",
       " {'Date': Timestamp('1997-08-07 00:00:00'),\n",
       "  'Price': 4479,\n",
       "  'Quantity': 23,\n",
       "  'Width': 7.955946473535244,\n",
       "  'Height': 7.681904394283122,\n",
       "  'Quality': 41.64679498424962,\n",
       "  'Score': 53.00591036062727,\n",
       "  'Difference': 0.30059103606272697,\n",
       "  'Color': 'red',\n",
       "  'Shape': 'circle'},\n",
       " {'Date': Timestamp('1997-08-08 00:00:00'),\n",
       "  'Price': 2894,\n",
       "  'Quantity': 66,\n",
       "  'Width': 8.720437859531705,\n",
       "  'Height': 9.161100863895552,\n",
       "  'Quality': 50.899971478614404,\n",
       "  'Score': 59.68205295606987,\n",
       "  'Difference': 0.9682052956069863,\n",
       "  'Color': 'blue',\n",
       "  'Shape': 'square'},\n",
       " {'Date': Timestamp('1997-08-09 00:00:00'),\n",
       "  'Price': 8119,\n",
       "  'Quantity': 37,\n",
       "  'Width': 2.7381319291778428,\n",
       "  'Height': 2.3638112638259945,\n",
       "  'Quality': 43.17917489134551,\n",
       "  'Score': 58.69623842050119,\n",
       "  'Difference': 0.8696238420501186,\n",
       "  'Color': 'green',\n",
       "  'Shape': 'circle'},\n",
       " {'Date': Timestamp('1997-08-10 00:00:00'),\n",
       "  'Price': 9110,\n",
       "  'Quantity': 93,\n",
       "  'Width': 3.1051984364538763,\n",
       "  'Height': 7.156432589184741,\n",
       "  'Quality': 53.53524771405921,\n",
       "  'Score': 55.67783088742501,\n",
       "  'Difference': 0.5677830887425008,\n",
       "  'Color': 'green',\n",
       "  'Shape': 'square'},\n",
       " {'Date': Timestamp('1997-08-11 00:00:00'),\n",
       "  'Price': 4768,\n",
       "  'Quantity': 60,\n",
       "  'Width': 0.8273548925340335,\n",
       "  'Height': 6.754864430044265,\n",
       "  'Quality': 42.36944529758153,\n",
       "  'Score': 54.65282343506052,\n",
       "  'Difference': 0.4652823435060517,\n",
       "  'Color': 'red',\n",
       "  'Shape': 'circle'},\n",
       " {'Date': Timestamp('1997-08-12 00:00:00'),\n",
       "  'Price': 3180,\n",
       "  'Quantity': 59,\n",
       "  'Width': 8.585246688775271,\n",
       "  'Height': 6.9289688411650605,\n",
       "  'Quality': 48.899921322401376,\n",
       "  'Score': 38.34626916821501,\n",
       "  'Difference': -1.1653730831784992,\n",
       "  'Color': 'blue',\n",
       "  'Shape': 'square'},\n",
       " {'Date': Timestamp('1997-08-13 00:00:00'),\n",
       "  'Price': 535,\n",
       "  'Quantity': 70,\n",
       "  'Width': 7.850836912639295,\n",
       "  'Height': 3.532812517806195,\n",
       "  'Quality': 57.75964868314398,\n",
       "  'Score': 29.6400520892793,\n",
       "  'Difference': -2.0359947910720697,\n",
       "  'Color': 'blue',\n",
       "  'Shape': 'square'},\n",
       " {'Date': Timestamp('1997-08-14 00:00:00'),\n",
       "  'Price': 2431,\n",
       "  'Quantity': 18,\n",
       "  'Width': 2.2019206904373743,\n",
       "  'Height': 2.4537239045975,\n",
       "  'Quality': 55.9453545999062,\n",
       "  'Score': 38.445867051753176,\n",
       "  'Difference': -1.1554132948246822,\n",
       "  'Color': 'green',\n",
       "  'Shape': 'triangle'},\n",
       " {'Date': Timestamp('1997-08-15 00:00:00'),\n",
       "  'Price': 4063,\n",
       "  'Quantity': 61,\n",
       "  'Width': 7.2741251557423094,\n",
       "  'Height': 0.6412777290220895,\n",
       "  'Quality': 41.359574565272524,\n",
       "  'Score': 83.45157394902942,\n",
       "  'Difference': 3.3451573949029427,\n",
       "  'Color': 'red',\n",
       "  'Shape': 'triangle'},\n",
       " {'Date': Timestamp('1997-08-16 00:00:00'),\n",
       "  'Price': 6307,\n",
       "  'Quantity': 37,\n",
       "  'Width': 4.537374619422069,\n",
       "  'Height': 4.876773294685483,\n",
       "  'Quality': 59.21575512933556,\n",
       "  'Score': 51.2672721124555,\n",
       "  'Difference': 0.12672721124555006,\n",
       "  'Color': 'green',\n",
       "  'Shape': 'square'},\n",
       " {'Date': Timestamp('1997-08-17 00:00:00'),\n",
       "  'Price': 1150,\n",
       "  'Quantity': 97,\n",
       "  'Width': 6.408748294444948,\n",
       "  'Height': 1.0616885236333873,\n",
       "  'Quality': 53.18410784752044,\n",
       "  'Score': 43.05821103558776,\n",
       "  'Difference': -0.6941788964412238,\n",
       "  'Color': 'red',\n",
       "  'Shape': 'triangle'},\n",
       " {'Date': Timestamp('1997-08-18 00:00:00'),\n",
       "  'Price': 3263,\n",
       "  'Quantity': 73,\n",
       "  'Width': 5.736099378010375,\n",
       "  'Height': 9.603457940240444,\n",
       "  'Quality': 54.375521664488694,\n",
       "  'Score': 55.57674430896591,\n",
       "  'Difference': 0.5576744308965906,\n",
       "  'Color': 'blue',\n",
       "  'Shape': 'triangle'},\n",
       " {'Date': Timestamp('1997-08-19 00:00:00'),\n",
       "  'Price': 7708,\n",
       "  'Quantity': 36,\n",
       "  'Width': 5.156805801975399,\n",
       "  'Height': 5.698250458948468,\n",
       "  'Quality': 54.871535302681934,\n",
       "  'Score': 50.9914659997752,\n",
       "  'Difference': 0.09914659997752008,\n",
       "  'Color': 'blue',\n",
       "  'Shape': 'triangle'},\n",
       " {'Date': Timestamp('1997-08-20 00:00:00'),\n",
       "  'Price': 722,\n",
       "  'Quantity': 66,\n",
       "  'Width': 9.880066615714263,\n",
       "  'Height': 8.328709350690627,\n",
       "  'Quality': 57.75472703771274,\n",
       "  'Score': 56.37926174238758,\n",
       "  'Difference': 0.6379261742387575,\n",
       "  'Color': 'red',\n",
       "  'Shape': 'circle'},\n",
       " {'Date': Timestamp('1997-08-21 00:00:00'),\n",
       "  'Price': 1838,\n",
       "  'Quantity': 67,\n",
       "  'Width': 4.981436821039962,\n",
       "  'Height': 0.8015133786402995,\n",
       "  'Quality': 42.67891335151586,\n",
       "  'Score': 57.03110681028184,\n",
       "  'Difference': 0.7031106810281837,\n",
       "  'Color': 'green',\n",
       "  'Shape': 'triangle'},\n",
       " {'Date': Timestamp('1997-08-22 00:00:00'),\n",
       "  'Price': 4710,\n",
       "  'Quantity': 89,\n",
       "  'Width': 8.710469940649624,\n",
       "  'Height': 7.130864089874244,\n",
       "  'Quality': 55.539491612111604,\n",
       "  'Score': 40.83906846217205,\n",
       "  'Difference': -0.9160931537827953,\n",
       "  'Color': 'blue',\n",
       "  'Shape': 'triangle'},\n",
       " {'Date': Timestamp('1997-08-23 00:00:00'),\n",
       "  'Price': 1429,\n",
       "  'Quantity': 84,\n",
       "  'Width': 7.32112043534634,\n",
       "  'Height': 8.236199870200153,\n",
       "  'Quality': 56.75983024390651,\n",
       "  'Score': 42.13985771956767,\n",
       "  'Difference': -0.7860142280432331,\n",
       "  'Color': 'blue',\n",
       "  'Shape': 'circle'},\n",
       " {'Date': Timestamp('1997-08-24 00:00:00'),\n",
       "  'Price': 3349,\n",
       "  'Quantity': 12,\n",
       "  'Width': 7.449792112168064,\n",
       "  'Height': 4.130626280958577,\n",
       "  'Quality': 56.586095278168564,\n",
       "  'Score': 61.19181796437911,\n",
       "  'Difference': 1.1191817964379116,\n",
       "  'Color': 'blue',\n",
       "  'Shape': 'circle'},\n",
       " {'Date': Timestamp('1997-08-25 00:00:00'),\n",
       "  'Price': 9900,\n",
       "  'Quantity': 59,\n",
       "  'Width': 5.147053338756159,\n",
       "  'Height': 8.465414951170501,\n",
       "  'Quality': 40.58313993039618,\n",
       "  'Score': 40.166038908804296,\n",
       "  'Difference': -0.9833961091195702,\n",
       "  'Color': 'green',\n",
       "  'Shape': 'square'},\n",
       " {'Date': Timestamp('1997-08-26 00:00:00'),\n",
       "  'Price': 1584,\n",
       "  'Quantity': 98,\n",
       "  'Width': 8.588620568468965,\n",
       "  'Height': 3.105036139431915,\n",
       "  'Quality': 47.80748982553169,\n",
       "  'Score': 52.44520020995672,\n",
       "  'Difference': 0.24452002099567186,\n",
       "  'Color': 'red',\n",
       "  'Shape': 'square'},\n",
       " {'Date': Timestamp('1997-08-27 00:00:00'),\n",
       "  'Price': 888,\n",
       "  'Quantity': 59,\n",
       "  'Width': 1.1938639397855333,\n",
       "  'Height': 5.209594813305007,\n",
       "  'Quality': 48.745039843360814,\n",
       "  'Score': 44.18590261551242,\n",
       "  'Difference': -0.5814097384487584,\n",
       "  'Color': 'green',\n",
       "  'Shape': 'triangle'},\n",
       " {'Date': Timestamp('1997-08-28 00:00:00'),\n",
       "  'Price': 4467,\n",
       "  'Quantity': 82,\n",
       "  'Width': 4.489500682970284,\n",
       "  'Height': 8.97287274931809,\n",
       "  'Quality': 50.412701270226634,\n",
       "  'Score': 54.29563902276162,\n",
       "  'Difference': 0.42956390227616237,\n",
       "  'Color': 'red',\n",
       "  'Shape': 'circle'},\n",
       " {'Date': Timestamp('1997-08-29 00:00:00'),\n",
       "  'Price': 7304,\n",
       "  'Quantity': 74,\n",
       "  'Width': 4.931023385865267,\n",
       "  'Height': 5.044775179915911,\n",
       "  'Quality': 49.857453483313684,\n",
       "  'Score': 57.984019883508374,\n",
       "  'Difference': 0.7984019883508374,\n",
       "  'Color': 'red',\n",
       "  'Shape': 'triangle'},\n",
       " {'Date': Timestamp('1997-08-30 00:00:00'),\n",
       "  'Price': 3649,\n",
       "  'Quantity': 86,\n",
       "  'Width': 3.6512364939040607,\n",
       "  'Height': 7.830061210921407,\n",
       "  'Quality': 42.60858564417238,\n",
       "  'Score': 43.89929951332232,\n",
       "  'Difference': -0.6100700486677683,\n",
       "  'Color': 'red',\n",
       "  'Shape': 'circle'},\n",
       " {'Date': Timestamp('1997-08-31 00:00:00'),\n",
       "  'Price': 639,\n",
       "  'Quantity': 30,\n",
       "  'Width': 9.479230192085655,\n",
       "  'Height': 1.300150130737544,\n",
       "  'Quality': 59.687670619889445,\n",
       "  'Score': 61.85404207127762,\n",
       "  'Difference': 1.1854042071277622,\n",
       "  'Color': 'red',\n",
       "  'Shape': 'triangle'},\n",
       " {'Date': Timestamp('1997-09-01 00:00:00'),\n",
       "  'Price': 3863,\n",
       "  'Quantity': 25,\n",
       "  'Width': 6.611126735260707,\n",
       "  'Height': 1.6373230849016773,\n",
       "  'Quality': 41.31404643836171,\n",
       "  'Score': 42.891659945382116,\n",
       "  'Difference': -0.7108340054617888,\n",
       "  'Color': 'green',\n",
       "  'Shape': 'square'},\n",
       " {'Date': Timestamp('1997-09-02 00:00:00'),\n",
       "  'Price': 7409,\n",
       "  'Quantity': 46,\n",
       "  'Width': 3.0893876440744794,\n",
       "  'Height': 9.666301542725805,\n",
       "  'Quality': 51.585681554881404,\n",
       "  'Score': 42.18871069477737,\n",
       "  'Difference': -0.7811289305222626,\n",
       "  'Color': 'blue',\n",
       "  'Shape': 'circle'},\n",
       " {'Date': Timestamp('1997-09-03 00:00:00'),\n",
       "  'Price': 3193,\n",
       "  'Quantity': 37,\n",
       "  'Width': 4.828546746654463,\n",
       "  'Height': 5.407474451942931,\n",
       "  'Quality': 51.615496501734555,\n",
       "  'Score': 47.69627021981439,\n",
       "  'Difference': -0.2303729780185615,\n",
       "  'Color': 'red',\n",
       "  'Shape': 'square'},\n",
       " {'Date': Timestamp('1997-09-04 00:00:00'),\n",
       "  'Price': 1648,\n",
       "  'Quantity': 45,\n",
       "  'Width': 7.1117313506881885,\n",
       "  'Height': 6.8743174406629866,\n",
       "  'Quality': 59.086757311138484,\n",
       "  'Score': 51.20195082858019,\n",
       "  'Difference': 0.12019508285801855,\n",
       "  'Color': 'red',\n",
       "  'Shape': 'triangle'},\n",
       " {'Date': Timestamp('1997-09-05 00:00:00'),\n",
       "  'Price': 9085,\n",
       "  'Quantity': 61,\n",
       "  'Width': 0.3696914756503811,\n",
       "  'Height': 8.881705659558571,\n",
       "  'Quality': 43.948875550273506,\n",
       "  'Score': 42.115301645938196,\n",
       "  'Difference': -0.7884698354061802,\n",
       "  'Color': 'green',\n",
       "  'Shape': 'square'},\n",
       " {'Date': Timestamp('1997-09-06 00:00:00'),\n",
       "  'Price': 975,\n",
       "  'Quantity': 93,\n",
       "  'Width': 1.8858420803313158,\n",
       "  'Height': 7.820277580280447,\n",
       "  'Quality': 41.6665080126081,\n",
       "  'Score': 20.398773808972997,\n",
       "  'Difference': -2.9601226191027004,\n",
       "  'Color': 'green',\n",
       "  'Shape': 'square'},\n",
       " {'Date': Timestamp('1997-09-07 00:00:00'),\n",
       "  'Price': 3773,\n",
       "  'Quantity': 23,\n",
       "  'Width': 6.439261219721384,\n",
       "  'Height': 4.853989861018971,\n",
       "  'Quality': 57.67728435466474,\n",
       "  'Score': 42.044188839785406,\n",
       "  'Difference': -0.7955811160214592,\n",
       "  'Color': 'red',\n",
       "  'Shape': 'square'},\n",
       " {'Date': Timestamp('1997-09-08 00:00:00'),\n",
       "  'Price': 7399,\n",
       "  'Quantity': 17,\n",
       "  'Width': 9.290449450991957,\n",
       "  'Height': 2.6988141269516275,\n",
       "  'Quality': 40.31392385901887,\n",
       "  'Score': 52.845822497822944,\n",
       "  'Difference': 0.2845822497822942,\n",
       "  'Color': 'green',\n",
       "  'Shape': 'triangle'},\n",
       " {'Date': Timestamp('1997-09-09 00:00:00'),\n",
       "  'Price': 5294,\n",
       "  'Quantity': 31,\n",
       "  'Width': 8.141789859746345,\n",
       "  'Height': 6.950420734041188,\n",
       "  'Quality': 55.911892947070484,\n",
       "  'Score': 55.22537281967607,\n",
       "  'Difference': 0.5225372819676067,\n",
       "  'Color': 'red',\n",
       "  'Shape': 'triangle'},\n",
       " {'Date': Timestamp('1997-09-10 00:00:00'),\n",
       "  'Price': 4513,\n",
       "  'Quantity': 22,\n",
       "  'Width': 2.355311918944123,\n",
       "  'Height': 9.533026918410357,\n",
       "  'Quality': 55.363808788566246,\n",
       "  'Score': 50.83554443906464,\n",
       "  'Difference': 0.0835544439064642,\n",
       "  'Color': 'green',\n",
       "  'Shape': 'triangle'},\n",
       " {'Date': Timestamp('1997-09-11 00:00:00'),\n",
       "  'Price': 1991,\n",
       "  'Quantity': 27,\n",
       "  'Width': 5.85435708539726,\n",
       "  'Height': 5.830664686753533,\n",
       "  'Quality': 57.44087571906341,\n",
       "  'Score': 77.2079558955734,\n",
       "  'Difference': 2.7207955895573415,\n",
       "  'Color': 'green',\n",
       "  'Shape': 'circle'},\n",
       " {'Date': Timestamp('1997-09-12 00:00:00'),\n",
       "  'Price': 5535,\n",
       "  'Quantity': 35,\n",
       "  'Width': 1.5720954243394458,\n",
       "  'Height': 4.25240464086586,\n",
       "  'Quality': 58.322201727791104,\n",
       "  'Score': 56.11007882578642,\n",
       "  'Difference': 0.6110078825786414,\n",
       "  'Color': 'red',\n",
       "  'Shape': 'triangle'},\n",
       " {'Date': Timestamp('1997-09-13 00:00:00'),\n",
       "  'Price': 5523,\n",
       "  'Quantity': 94,\n",
       "  'Width': 2.350219143212403,\n",
       "  'Height': 6.005073266197362,\n",
       "  'Quality': 45.476263858355686,\n",
       "  'Score': 41.640560045943374,\n",
       "  'Difference': -0.8359439954056626,\n",
       "  'Color': 'green',\n",
       "  'Shape': 'square'},\n",
       " {'Date': Timestamp('1997-09-14 00:00:00'),\n",
       "  'Price': 6801,\n",
       "  'Quantity': 99,\n",
       "  'Width': 3.6060842250420375,\n",
       "  'Height': 1.688734483529436,\n",
       "  'Quality': 44.72762252765199,\n",
       "  'Score': 49.96303959167492,\n",
       "  'Difference': -0.0036960408325081625,\n",
       "  'Color': 'blue',\n",
       "  'Shape': 'square'},\n",
       " {'Date': Timestamp('1997-09-15 00:00:00'),\n",
       "  'Price': 5985,\n",
       "  'Quantity': 13,\n",
       "  'Width': 3.472464490172318,\n",
       "  'Height': 2.145170196857751,\n",
       "  'Quality': 46.21039687290775,\n",
       "  'Score': 53.93094680159767,\n",
       "  'Difference': 0.3930946801597674,\n",
       "  'Color': 'green',\n",
       "  'Shape': 'square'},\n",
       " {'Date': Timestamp('1997-09-16 00:00:00'),\n",
       "  'Price': 6354,\n",
       "  'Quantity': 84,\n",
       "  'Width': 7.945282929965258,\n",
       "  'Height': 7.917093180964536,\n",
       "  'Quality': 54.31286517836948,\n",
       "  'Score': 56.84495084174127,\n",
       "  'Difference': 0.6844950841741272,\n",
       "  'Color': 'green',\n",
       "  'Shape': 'triangle'},\n",
       " {'Date': Timestamp('1997-09-17 00:00:00'),\n",
       "  'Price': 1554,\n",
       "  'Quantity': 71,\n",
       "  'Width': 1.6454035686442858,\n",
       "  'Height': 7.503640485122624,\n",
       "  'Quality': 41.654709785068064,\n",
       "  'Score': 57.752016829723935,\n",
       "  'Difference': 0.7752016829723937,\n",
       "  'Color': 'green',\n",
       "  'Shape': 'square'},\n",
       " {'Date': Timestamp('1997-09-18 00:00:00'),\n",
       "  'Price': 4239,\n",
       "  'Quantity': 69,\n",
       "  'Width': 0.5589661884601338,\n",
       "  'Height': 2.3247042560172018,\n",
       "  'Quality': 53.50972886008853,\n",
       "  'Score': 55.5600288611062,\n",
       "  'Difference': 0.5560028861106198,\n",
       "  'Color': 'blue',\n",
       "  'Shape': 'circle'},\n",
       " {'Date': Timestamp('1997-09-19 00:00:00'),\n",
       "  'Price': 5511,\n",
       "  'Quantity': 43,\n",
       "  'Width': 6.500964314948689,\n",
       "  'Height': 7.182417639248644,\n",
       "  'Quality': 57.17049337755054,\n",
       "  'Score': 44.59020099984377,\n",
       "  'Difference': -0.5409799000156229,\n",
       "  'Color': 'green',\n",
       "  'Shape': 'triangle'},\n",
       " {'Date': Timestamp('1997-09-20 00:00:00'),\n",
       "  'Price': 4002,\n",
       "  'Quantity': 57,\n",
       "  'Width': 4.8004946350055455,\n",
       "  'Height': 3.3761466765737644,\n",
       "  'Quality': 53.85793768233012,\n",
       "  'Score': 65.2441724758026,\n",
       "  'Difference': 1.5244172475802602,\n",
       "  'Color': 'green',\n",
       "  'Shape': 'triangle'},\n",
       " {'Date': Timestamp('1997-09-21 00:00:00'),\n",
       "  'Price': 7804,\n",
       "  'Quantity': 23,\n",
       "  'Width': 3.8970628932173135,\n",
       "  'Height': 8.587971938450034,\n",
       "  'Quality': 55.70167382527859,\n",
       "  'Score': 62.08385130518589,\n",
       "  'Difference': 1.2083851305185886,\n",
       "  'Color': 'blue',\n",
       "  'Shape': 'circle'},\n",
       " {'Date': Timestamp('1997-09-22 00:00:00'),\n",
       "  'Price': 2343,\n",
       "  'Quantity': 16,\n",
       "  'Width': 5.113856111287997,\n",
       "  'Height': 8.746900143158227,\n",
       "  'Quality': 47.06562503561239,\n",
       "  'Score': 50.512772843800526,\n",
       "  'Difference': 0.05127728438005245,\n",
       "  'Color': 'green',\n",
       "  'Shape': 'circle'},\n",
       " {'Date': Timestamp('1997-09-23 00:00:00'),\n",
       "  'Price': 4086,\n",
       "  'Quantity': 55,\n",
       "  'Width': 9.46438554154552,\n",
       "  'Height': 9.357337114048233,\n",
       "  'Quality': 44.40384138087475,\n",
       "  'Score': 45.73368790590062,\n",
       "  'Difference': -0.42663120940993826,\n",
       "  'Color': 'blue',\n",
       "  'Shape': 'triangle'},\n",
       " {'Date': Timestamp('1997-09-24 00:00:00'),\n",
       "  'Price': 9187,\n",
       "  'Quantity': 75,\n",
       "  'Width': 4.9303793193710295,\n",
       "  'Height': 6.00518275557823,\n",
       "  'Quality': 44.907447809195,\n",
       "  'Score': 58.07940227831214,\n",
       "  'Difference': 0.8079402278312136,\n",
       "  'Color': 'blue',\n",
       "  'Shape': 'square'},\n",
       " {'Date': Timestamp('1997-09-25 00:00:00'),\n",
       "  'Price': 4236,\n",
       "  'Quantity': 56,\n",
       "  'Width': 2.0717010014018156,\n",
       "  'Height': 9.561882720451141,\n",
       "  'Quality': 54.54825031148462,\n",
       "  'Score': 50.57279761808299,\n",
       "  'Difference': 0.05727976180829884,\n",
       "  'Color': 'blue',\n",
       "  'Shape': 'square'},\n",
       " {'Date': Timestamp('1997-09-26 00:00:00'),\n",
       "  'Price': 2854,\n",
       "  'Quantity': 53,\n",
       "  'Width': 9.868104591813472,\n",
       "  'Height': 8.29378843353453,\n",
       "  'Quality': 41.28255545804418,\n",
       "  'Score': 39.59828425611842,\n",
       "  'Difference': -1.0401715743881583,\n",
       "  'Color': 'red',\n",
       "  'Shape': 'triangle'},\n",
       " {'Date': Timestamp('1997-09-27 00:00:00'),\n",
       "  'Price': 1864,\n",
       "  'Quantity': 45,\n",
       "  'Width': 5.378894596918018,\n",
       "  'Height': 0.8353762038601176,\n",
       "  'Quality': 49.074749238844134,\n",
       "  'Score': 59.34148085696067,\n",
       "  'Difference': 0.9341480856960672,\n",
       "  'Color': 'blue',\n",
       "  'Shape': 'square'},\n",
       " {'Date': Timestamp('1997-09-28 00:00:00'),\n",
       "  'Price': 6035,\n",
       "  'Quantity': 72,\n",
       "  'Width': 3.1388748900192964,\n",
       "  'Height': 1.0611344922958055,\n",
       "  'Quality': 49.75354658937097,\n",
       "  'Score': 48.799654582859944,\n",
       "  'Difference': -0.1200345417140056,\n",
       "  'Color': 'blue',\n",
       "  'Shape': 'circle'},\n",
       " {'Date': Timestamp('1997-09-29 00:00:00'),\n",
       "  'Price': 7975,\n",
       "  'Quantity': 24,\n",
       "  'Width': 2.049086457938701,\n",
       "  'Height': 3.255183963122801,\n",
       "  'Quality': 52.817496588889895,\n",
       "  'Score': 72.07016309092374,\n",
       "  'Difference': 2.2070163090923742,\n",
       "  'Color': 'red',\n",
       "  'Shape': 'circle'},\n",
       " {'Date': Timestamp('1997-09-30 00:00:00'),\n",
       "  'Price': 8538,\n",
       "  'Quantity': 34,\n",
       "  'Width': 5.016089872551187,\n",
       "  'Height': 8.783187538109141,\n",
       "  'Quality': 42.12337704726677,\n",
       "  'Score': 16.000692207775693,\n",
       "  'Difference': -3.3999307792224305,\n",
       "  'Color': 'blue',\n",
       "  'Shape': 'triangle'},\n",
       " {'Date': Timestamp('1997-10-01 00:00:00'),\n",
       "  'Price': 1702,\n",
       "  'Quantity': 77,\n",
       "  'Width': 2.6100894336112903,\n",
       "  'Height': 5.301367725528584,\n",
       "  'Quality': 51.47219875602075,\n",
       "  'Score': 62.33528896151288,\n",
       "  'Difference': 1.2335288961512878,\n",
       "  'Color': 'green',\n",
       "  'Shape': 'circle'},\n",
       " {'Date': Timestamp('1997-10-02 00:00:00'),\n",
       "  'Price': 860,\n",
       "  'Quantity': 20,\n",
       "  'Width': 8.438626421168804,\n",
       "  'Height': 1.365644864046166,\n",
       "  'Quality': 59.20691588048089,\n",
       "  'Score': 44.1211916108981,\n",
       "  'Difference': -0.5878808389101897,\n",
       "  'Color': 'red',\n",
       "  'Shape': 'circle'},\n",
       " {'Date': Timestamp('1997-10-03 00:00:00'),\n",
       "  'Price': 2078,\n",
       "  'Quantity': 28,\n",
       "  'Width': 4.002240102892996,\n",
       "  'Height': 5.684852865557973,\n",
       "  'Quality': 50.3136116039508,\n",
       "  'Score': 40.23063079121675,\n",
       "  'Difference': -0.9769369208783253,\n",
       "  'Color': 'red',\n",
       "  'Shape': 'circle'},\n",
       " {'Date': Timestamp('1997-10-04 00:00:00'),\n",
       "  'Price': 2427,\n",
       "  'Quantity': 66,\n",
       "  'Width': 1.860412125600558,\n",
       "  'Height': 0.13715933293031335,\n",
       "  'Quality': 51.39650091789694,\n",
       "  'Score': 54.680702998326325,\n",
       "  'Difference': 0.46807029983263265,\n",
       "  'Color': 'red',\n",
       "  'Shape': 'circle'},\n",
       " {'Date': Timestamp('1997-10-05 00:00:00'),\n",
       "  'Price': 8057,\n",
       "  'Quantity': 60,\n",
       "  'Width': 5.927890557476298,\n",
       "  'Height': 0.1571523208981529,\n",
       "  'Quality': 59.760133231428526,\n",
       "  'Score': 78.7112692412324,\n",
       "  'Difference': 2.8711269241232396,\n",
       "  'Color': 'blue',\n",
       "  'Shape': 'square'},\n",
       " {'Date': Timestamp('1997-10-06 00:00:00'),\n",
       "  'Price': 7691,\n",
       "  'Quantity': 11,\n",
       "  'Width': 5.859937235721215,\n",
       "  'Height': 4.086629013157247,\n",
       "  'Quality': 56.65741870138125,\n",
       "  'Score': 37.91914316194138,\n",
       "  'Difference': -1.208085683805862,\n",
       "  'Color': 'green',\n",
       "  'Shape': 'circle'},\n",
       " {'Date': Timestamp('1997-10-07 00:00:00'),\n",
       "  'Price': 9991,\n",
       "  'Quantity': 14,\n",
       "  'Width': 2.2862394187870496,\n",
       "  'Height': 1.8988373787072155,\n",
       "  'Quality': 49.96287364207993,\n",
       "  'Score': 60.03603180153984,\n",
       "  'Difference': 1.003603180153984,\n",
       "  'Color': 'red',\n",
       "  'Shape': 'square'},\n",
       " {'Date': Timestamp('1997-10-08 00:00:00'),\n",
       "  'Price': 4285,\n",
       "  'Quantity': 50,\n",
       "  'Width': 9.13302919964726,\n",
       "  'Height': 5.902203718852678,\n",
       "  'Quality': 41.6030267572806,\n",
       "  'Score': 61.30726446440085,\n",
       "  'Difference': 1.130726446440085,\n",
       "  'Color': 'blue',\n",
       "  'Shape': 'circle'},\n",
       " {'Date': Timestamp('1997-10-09 00:00:00'),\n",
       "  'Price': 9714,\n",
       "  'Quantity': 76,\n",
       "  'Width': 1.7119434728109106,\n",
       "  'Height': 7.14474477740643,\n",
       "  'Quality': 57.42093988129925,\n",
       "  'Score': 55.60039692192107,\n",
       "  'Difference': 0.5600396921921065,\n",
       "  'Color': 'red',\n",
       "  'Shape': 'triangle'},\n",
       " {'Date': Timestamp('1997-10-10 00:00:00'),\n",
       "  'Price': 5113,\n",
       "  'Quantity': 62,\n",
       "  'Width': 2.384460588643033,\n",
       "  'Height': 9.218051432493947,\n",
       "  'Quality': 54.26172817974849,\n",
       "  'Score': 43.816026993359166,\n",
       "  'Difference': -0.6183973006640832,\n",
       "  'Color': 'blue',\n",
       "  'Shape': 'square'},\n",
       " {'Date': Timestamp('1997-10-11 00:00:00'),\n",
       "  'Price': 5916,\n",
       "  'Quantity': 57,\n",
       "  'Width': 7.212738667495619,\n",
       "  'Height': 6.769229790876689,\n",
       "  'Quality': 54.64224087069268,\n",
       "  'Score': 47.752012808065864,\n",
       "  'Difference': -0.22479871919341382,\n",
       "  'Color': 'blue',\n",
       "  'Shape': 'circle'},\n",
       " {'Date': Timestamp('1997-10-12 00:00:00'),\n",
       "  'Price': 1578,\n",
       "  'Quantity': 77,\n",
       "  'Width': 9.868105563430492,\n",
       "  'Height': 5.3974519649749055,\n",
       "  'Quality': 56.472399740400306,\n",
       "  'Score': 72.1590145065307,\n",
       "  'Difference': 2.215901450653069,\n",
       "  'Color': 'red',\n",
       "  'Shape': 'circle'}]"
      ]
     },
     "execution_count": 95,
     "metadata": {},
     "output_type": "execute_result"
    }
   ],
   "source": [
    "df.to_dict()\n",
    "df.to_dict(orient='records')\n",
    "# orient='records'でサンプルごとを取り出せる"
   ]
  },
  {
   "cell_type": "markdown",
   "id": "d2951ede",
   "metadata": {
    "id": "d2951ede"
   },
   "source": [
    "Seriesの作成"
   ]
  },
  {
   "cell_type": "code",
   "execution_count": 96,
   "id": "6a4459eb",
   "metadata": {
    "id": "6a4459eb"
   },
   "outputs": [
    {
     "data": {
      "text/plain": [
       "A    84\n",
       "B    10\n",
       "C    31\n",
       "D    92\n",
       "E    42\n",
       "F    67\n",
       "G     7\n",
       "H    61\n",
       "Name: sample, dtype: int64"
      ]
     },
     "execution_count": 96,
     "metadata": {},
     "output_type": "execute_result"
    }
   ],
   "source": [
    "arr = np.random.randint(0, 100, 8)\n",
    "pd.Series(arr, name='sample', index=list('ABCDEFGH'))"
   ]
  },
  {
   "cell_type": "code",
   "execution_count": 97,
   "id": "MDqQ4Y_oHeLH",
   "metadata": {
    "id": "MDqQ4Y_oHeLH"
   },
   "outputs": [
    {
     "data": {
      "text/plain": [
       "A    1\n",
       "B    2\n",
       "C    3\n",
       "Name: sample, dtype: int64"
      ]
     },
     "execution_count": 97,
     "metadata": {},
     "output_type": "execute_result"
    }
   ],
   "source": [
    "pd.Series({\"A\":1, \"B\":2, \"C\":3}, name='sample')"
   ]
  },
  {
   "cell_type": "markdown",
   "id": "21e391e4",
   "metadata": {
    "id": "21e391e4"
   },
   "source": [
    "DataFrameの作成"
   ]
  },
  {
   "cell_type": "code",
   "execution_count": 98,
   "id": "c6ec9798",
   "metadata": {
    "id": "c6ec9798"
   },
   "outputs": [
    {
     "data": {
      "text/html": [
       "<div>\n",
       "<style scoped>\n",
       "    .dataframe tbody tr th:only-of-type {\n",
       "        vertical-align: middle;\n",
       "    }\n",
       "\n",
       "    .dataframe tbody tr th {\n",
       "        vertical-align: top;\n",
       "    }\n",
       "\n",
       "    .dataframe thead th {\n",
       "        text-align: right;\n",
       "    }\n",
       "</style>\n",
       "<table border=\"1\" class=\"dataframe\">\n",
       "  <thead>\n",
       "    <tr style=\"text-align: right;\">\n",
       "      <th></th>\n",
       "      <th>A</th>\n",
       "      <th>B</th>\n",
       "      <th>C</th>\n",
       "    </tr>\n",
       "  </thead>\n",
       "  <tbody>\n",
       "    <tr>\n",
       "      <th>x</th>\n",
       "      <td>1</td>\n",
       "      <td>2</td>\n",
       "      <td>3</td>\n",
       "    </tr>\n",
       "    <tr>\n",
       "      <th>y</th>\n",
       "      <td>10</td>\n",
       "      <td>20</td>\n",
       "      <td>30</td>\n",
       "    </tr>\n",
       "  </tbody>\n",
       "</table>\n",
       "</div>"
      ],
      "text/plain": [
       "    A   B   C\n",
       "x   1   2   3\n",
       "y  10  20  30"
      ]
     },
     "execution_count": 98,
     "metadata": {},
     "output_type": "execute_result"
    }
   ],
   "source": [
    "pd.DataFrame([{\"A\":1, \"B\":2, \"C\":3}, {\"A\":10, \"C\":30, \"B\":20}], index=[\"x\", \"y\"])\n",
    "# キーがカラム名"
   ]
  },
  {
   "cell_type": "code",
   "execution_count": 99,
   "id": "Fz0qa1U8KQdu",
   "metadata": {
    "id": "Fz0qa1U8KQdu"
   },
   "outputs": [
    {
     "data": {
      "text/html": [
       "<div>\n",
       "<style scoped>\n",
       "    .dataframe tbody tr th:only-of-type {\n",
       "        vertical-align: middle;\n",
       "    }\n",
       "\n",
       "    .dataframe tbody tr th {\n",
       "        vertical-align: top;\n",
       "    }\n",
       "\n",
       "    .dataframe thead th {\n",
       "        text-align: right;\n",
       "    }\n",
       "</style>\n",
       "<table border=\"1\" class=\"dataframe\">\n",
       "  <thead>\n",
       "    <tr style=\"text-align: right;\">\n",
       "      <th></th>\n",
       "      <th>0</th>\n",
       "      <th>1</th>\n",
       "      <th>2</th>\n",
       "      <th>3</th>\n",
       "      <th>4</th>\n",
       "      <th>5</th>\n",
       "      <th>6</th>\n",
       "      <th>7</th>\n",
       "      <th>8</th>\n",
       "      <th>9</th>\n",
       "    </tr>\n",
       "  </thead>\n",
       "  <tbody>\n",
       "    <tr>\n",
       "      <th>0</th>\n",
       "      <td>0.132036</td>\n",
       "      <td>0.529263</td>\n",
       "      <td>0.135220</td>\n",
       "      <td>0.276802</td>\n",
       "      <td>0.004602</td>\n",
       "      <td>0.431318</td>\n",
       "      <td>0.233486</td>\n",
       "      <td>0.001938</td>\n",
       "      <td>0.816954</td>\n",
       "      <td>0.617396</td>\n",
       "    </tr>\n",
       "    <tr>\n",
       "      <th>1</th>\n",
       "      <td>-0.483602</td>\n",
       "      <td>0.869613</td>\n",
       "      <td>-0.398346</td>\n",
       "      <td>0.449468</td>\n",
       "      <td>2.978047</td>\n",
       "      <td>0.960284</td>\n",
       "      <td>0.970523</td>\n",
       "      <td>-1.682364</td>\n",
       "      <td>1.329373</td>\n",
       "      <td>-0.654708</td>\n",
       "    </tr>\n",
       "  </tbody>\n",
       "</table>\n",
       "</div>"
      ],
      "text/plain": [
       "          0         1         2         3         4         5         6   \n",
       "0  0.132036  0.529263  0.135220  0.276802  0.004602  0.431318  0.233486  \\\n",
       "1 -0.483602  0.869613 -0.398346  0.449468  2.978047  0.960284  0.970523   \n",
       "\n",
       "          7         8         9  \n",
       "0  0.001938  0.816954  0.617396  \n",
       "1 -1.682364  1.329373 -0.654708  "
      ]
     },
     "execution_count": 99,
     "metadata": {},
     "output_type": "execute_result"
    }
   ],
   "source": [
    "arr1 = np.random.rand(10)\n",
    "arr2 = np.random.randn(10)\n",
    "pd.DataFrame([arr1, arr2])"
   ]
  },
  {
   "cell_type": "markdown",
   "id": "7fcaac03",
   "metadata": {
    "id": "7fcaac03"
   },
   "source": [
    "---\n",
    "<a id=3></a>\n",
    "[Topへ](#0)\n",
    "\n",
    "---\n",
    "## 3.DataFrameの基礎データとaxisの理解"
   ]
  },
  {
   "cell_type": "markdown",
   "id": "c7a44bed",
   "metadata": {
    "id": "c7a44bed"
   },
   "source": [
    "* len(df) : レコード数\n",
    "* df.info() : null, dtypeなど\n",
    "* df.size : 要素数\n",
    "* df.shape : index * columns\n",
    "* df.count : 個数（要素の数）\n",
    "* df.sum() : 合計（要素の値の合計）\n",
    "---"
   ]
  },
  {
   "cell_type": "markdown",
   "id": "e0821cfe",
   "metadata": {
    "id": "e0821cfe"
   },
   "source": [
    "len(df) : レコード数"
   ]
  },
  {
   "cell_type": "code",
   "execution_count": 100,
   "id": "a577dff9",
   "metadata": {
    "id": "a577dff9"
   },
   "outputs": [
    {
     "data": {
      "text/plain": [
       "100"
      ]
     },
     "execution_count": 100,
     "metadata": {},
     "output_type": "execute_result"
    }
   ],
   "source": [
    "len(df)"
   ]
  },
  {
   "cell_type": "markdown",
   "id": "9c19cadc",
   "metadata": {
    "id": "9c19cadc"
   },
   "source": [
    "df.info() : null, dtypeなど"
   ]
  },
  {
   "cell_type": "code",
   "execution_count": 101,
   "id": "a5ede561",
   "metadata": {
    "id": "a5ede561",
    "scrolled": true
   },
   "outputs": [
    {
     "name": "stdout",
     "output_type": "stream",
     "text": [
      "<class 'pandas.core.frame.DataFrame'>\n",
      "RangeIndex: 100 entries, 0 to 99\n",
      "Data columns (total 10 columns):\n",
      " #   Column      Non-Null Count  Dtype         \n",
      "---  ------      --------------  -----         \n",
      " 0   Date        100 non-null    datetime64[ns]\n",
      " 1   Price       100 non-null    int64         \n",
      " 2   Quantity    100 non-null    int64         \n",
      " 3   Width       100 non-null    float64       \n",
      " 4   Height      100 non-null    float64       \n",
      " 5   Quality     100 non-null    float64       \n",
      " 6   Score       100 non-null    float64       \n",
      " 7   Difference  100 non-null    float64       \n",
      " 8   Color       100 non-null    object        \n",
      " 9   Shape       100 non-null    object        \n",
      "dtypes: datetime64[ns](1), float64(5), int64(2), object(2)\n",
      "memory usage: 7.9+ KB\n"
     ]
    }
   ],
   "source": [
    "df.info()"
   ]
  },
  {
   "cell_type": "markdown",
   "id": "1661cc32",
   "metadata": {
    "id": "1661cc32"
   },
   "source": [
    "df.size : 要素数"
   ]
  },
  {
   "cell_type": "code",
   "execution_count": 102,
   "id": "8ec49949",
   "metadata": {
    "id": "8ec49949"
   },
   "outputs": [
    {
     "data": {
      "text/plain": [
       "1000"
      ]
     },
     "execution_count": 102,
     "metadata": {},
     "output_type": "execute_result"
    }
   ],
   "source": [
    "# rows * columns\n",
    "df.size"
   ]
  },
  {
   "cell_type": "markdown",
   "id": "b7a2c4c8",
   "metadata": {
    "id": "b7a2c4c8"
   },
   "source": [
    "df.shape : index * columns"
   ]
  },
  {
   "cell_type": "code",
   "execution_count": 103,
   "id": "f3c926e7",
   "metadata": {
    "id": "f3c926e7"
   },
   "outputs": [
    {
     "data": {
      "text/plain": [
       "(100, 10)"
      ]
     },
     "execution_count": 103,
     "metadata": {},
     "output_type": "execute_result"
    }
   ],
   "source": [
    "df.shape"
   ]
  },
  {
   "cell_type": "markdown",
   "id": "188eefc8",
   "metadata": {
    "id": "188eefc8"
   },
   "source": [
    "df.count() : 個数（要素の数）"
   ]
  },
  {
   "cell_type": "code",
   "execution_count": 104,
   "id": "05b6655b",
   "metadata": {
    "id": "05b6655b"
   },
   "outputs": [
    {
     "data": {
      "text/plain": [
       "Date          100\n",
       "Price         100\n",
       "Quantity      100\n",
       "Width         100\n",
       "Height        100\n",
       "Quality       100\n",
       "Score         100\n",
       "Difference    100\n",
       "Color         100\n",
       "Shape         100\n",
       "dtype: int64"
      ]
     },
     "execution_count": 104,
     "metadata": {},
     "output_type": "execute_result"
    }
   ],
   "source": [
    "df.count()"
   ]
  },
  {
   "cell_type": "code",
   "execution_count": 105,
   "id": "gvZsYvZSjSSH",
   "metadata": {
    "id": "gvZsYvZSjSSH"
   },
   "outputs": [],
   "source": [
    "# df.count(axis=1)"
   ]
  },
  {
   "cell_type": "code",
   "execution_count": 106,
   "id": "uLTfeSUHj0as",
   "metadata": {
    "id": "uLTfeSUHj0as"
   },
   "outputs": [
    {
     "data": {
      "text/plain": [
       "10"
      ]
     },
     "execution_count": 106,
     "metadata": {},
     "output_type": "execute_result"
    }
   ],
   "source": [
    "df.count().count()\n",
    "# 数値の足し合わせではなく、あくまでも個数を数える"
   ]
  },
  {
   "cell_type": "code",
   "execution_count": 110,
   "id": "6jyrwMz3ke96",
   "metadata": {
    "id": "6jyrwMz3ke96"
   },
   "outputs": [
    {
     "data": {
      "text/plain": [
       "pandas.core.series.Series"
      ]
     },
     "execution_count": 110,
     "metadata": {},
     "output_type": "execute_result"
    }
   ],
   "source": [
    "type(df.count())"
   ]
  },
  {
   "cell_type": "markdown",
   "id": "ddbbb4c5",
   "metadata": {
    "id": "ddbbb4c5"
   },
   "source": [
    "df.sum() : 合計（要素の値の合計）"
   ]
  },
  {
   "cell_type": "code",
   "execution_count": 109,
   "id": "4b4262d8",
   "metadata": {
    "id": "4b4262d8"
   },
   "outputs": [
    {
     "ename": "TypeError",
     "evalue": "'DatetimeArray' with dtype datetime64[ns] does not support reduction 'sum'",
     "output_type": "error",
     "traceback": [
      "\u001b[0;31m---------------------------------------------------------------------------\u001b[0m",
      "\u001b[0;31mTypeError\u001b[0m                                 Traceback (most recent call last)",
      "Cell \u001b[0;32mIn[109], line 1\u001b[0m\n\u001b[0;32m----> 1\u001b[0m df\u001b[39m.\u001b[39;49msum()\n",
      "File \u001b[0;32m~/Documents/myscript/python-data-analytics-udemy-business/.venv/lib/python3.11/site-packages/pandas/core/generic.py:11512\u001b[0m, in \u001b[0;36mNDFrame._add_numeric_operations.<locals>.sum\u001b[0;34m(self, axis, skipna, numeric_only, min_count, **kwargs)\u001b[0m\n\u001b[1;32m  11493\u001b[0m \u001b[39m@doc\u001b[39m(  \u001b[39m# type: ignore[misc]\u001b[39;00m\n\u001b[1;32m  11494\u001b[0m     _num_doc,\n\u001b[1;32m  11495\u001b[0m     desc\u001b[39m=\u001b[39m\u001b[39m\"\u001b[39m\u001b[39mReturn the sum of the values over the requested axis.\u001b[39m\u001b[39m\\n\u001b[39;00m\u001b[39m\\n\u001b[39;00m\u001b[39m\"\u001b[39m\n\u001b[0;32m   (...)\u001b[0m\n\u001b[1;32m  11510\u001b[0m     \u001b[39m*\u001b[39m\u001b[39m*\u001b[39mkwargs,\n\u001b[1;32m  11511\u001b[0m ):\n\u001b[0;32m> 11512\u001b[0m     \u001b[39mreturn\u001b[39;00m NDFrame\u001b[39m.\u001b[39;49msum(\u001b[39mself\u001b[39;49m, axis, skipna, numeric_only, min_count, \u001b[39m*\u001b[39;49m\u001b[39m*\u001b[39;49mkwargs)\n",
      "File \u001b[0;32m~/Documents/myscript/python-data-analytics-udemy-business/.venv/lib/python3.11/site-packages/pandas/core/generic.py:11280\u001b[0m, in \u001b[0;36mNDFrame.sum\u001b[0;34m(self, axis, skipna, numeric_only, min_count, **kwargs)\u001b[0m\n\u001b[1;32m  11272\u001b[0m \u001b[39mdef\u001b[39;00m \u001b[39msum\u001b[39m(\n\u001b[1;32m  11273\u001b[0m     \u001b[39mself\u001b[39m,\n\u001b[1;32m  11274\u001b[0m     axis: Axis \u001b[39m|\u001b[39m \u001b[39mNone\u001b[39;00m \u001b[39m=\u001b[39m \u001b[39mNone\u001b[39;00m,\n\u001b[0;32m   (...)\u001b[0m\n\u001b[1;32m  11278\u001b[0m     \u001b[39m*\u001b[39m\u001b[39m*\u001b[39mkwargs,\n\u001b[1;32m  11279\u001b[0m ):\n\u001b[0;32m> 11280\u001b[0m     \u001b[39mreturn\u001b[39;00m \u001b[39mself\u001b[39;49m\u001b[39m.\u001b[39;49m_min_count_stat_function(\n\u001b[1;32m  11281\u001b[0m         \u001b[39m\"\u001b[39;49m\u001b[39msum\u001b[39;49m\u001b[39m\"\u001b[39;49m, nanops\u001b[39m.\u001b[39;49mnansum, axis, skipna, numeric_only, min_count, \u001b[39m*\u001b[39;49m\u001b[39m*\u001b[39;49mkwargs\n\u001b[1;32m  11282\u001b[0m     )\n",
      "File \u001b[0;32m~/Documents/myscript/python-data-analytics-udemy-business/.venv/lib/python3.11/site-packages/pandas/core/generic.py:11263\u001b[0m, in \u001b[0;36mNDFrame._min_count_stat_function\u001b[0;34m(self, name, func, axis, skipna, numeric_only, min_count, **kwargs)\u001b[0m\n\u001b[1;32m  11260\u001b[0m \u001b[39mif\u001b[39;00m axis \u001b[39mis\u001b[39;00m \u001b[39mNone\u001b[39;00m:\n\u001b[1;32m  11261\u001b[0m     axis \u001b[39m=\u001b[39m \u001b[39mself\u001b[39m\u001b[39m.\u001b[39m_stat_axis_number\n\u001b[0;32m> 11263\u001b[0m \u001b[39mreturn\u001b[39;00m \u001b[39mself\u001b[39;49m\u001b[39m.\u001b[39;49m_reduce(\n\u001b[1;32m  11264\u001b[0m     func,\n\u001b[1;32m  11265\u001b[0m     name\u001b[39m=\u001b[39;49mname,\n\u001b[1;32m  11266\u001b[0m     axis\u001b[39m=\u001b[39;49maxis,\n\u001b[1;32m  11267\u001b[0m     skipna\u001b[39m=\u001b[39;49mskipna,\n\u001b[1;32m  11268\u001b[0m     numeric_only\u001b[39m=\u001b[39;49mnumeric_only,\n\u001b[1;32m  11269\u001b[0m     min_count\u001b[39m=\u001b[39;49mmin_count,\n\u001b[1;32m  11270\u001b[0m )\n",
      "File \u001b[0;32m~/Documents/myscript/python-data-analytics-udemy-business/.venv/lib/python3.11/site-packages/pandas/core/frame.py:10524\u001b[0m, in \u001b[0;36mDataFrame._reduce\u001b[0;34m(self, op, name, axis, skipna, numeric_only, filter_type, **kwds)\u001b[0m\n\u001b[1;32m  10520\u001b[0m     df \u001b[39m=\u001b[39m df\u001b[39m.\u001b[39mT\n\u001b[1;32m  10522\u001b[0m \u001b[39m# After possibly _get_data and transposing, we are now in the\u001b[39;00m\n\u001b[1;32m  10523\u001b[0m \u001b[39m#  simple case where we can use BlockManager.reduce\u001b[39;00m\n\u001b[0;32m> 10524\u001b[0m res \u001b[39m=\u001b[39m df\u001b[39m.\u001b[39;49m_mgr\u001b[39m.\u001b[39;49mreduce(blk_func)\n\u001b[1;32m  10525\u001b[0m out \u001b[39m=\u001b[39m df\u001b[39m.\u001b[39m_constructor(res)\u001b[39m.\u001b[39miloc[\u001b[39m0\u001b[39m]\n\u001b[1;32m  10526\u001b[0m \u001b[39mif\u001b[39;00m out_dtype \u001b[39mis\u001b[39;00m \u001b[39mnot\u001b[39;00m \u001b[39mNone\u001b[39;00m:\n",
      "File \u001b[0;32m~/Documents/myscript/python-data-analytics-udemy-business/.venv/lib/python3.11/site-packages/pandas/core/internals/managers.py:1534\u001b[0m, in \u001b[0;36mBlockManager.reduce\u001b[0;34m(self, func)\u001b[0m\n\u001b[1;32m   1532\u001b[0m res_blocks: \u001b[39mlist\u001b[39m[Block] \u001b[39m=\u001b[39m []\n\u001b[1;32m   1533\u001b[0m \u001b[39mfor\u001b[39;00m blk \u001b[39min\u001b[39;00m \u001b[39mself\u001b[39m\u001b[39m.\u001b[39mblocks:\n\u001b[0;32m-> 1534\u001b[0m     nbs \u001b[39m=\u001b[39m blk\u001b[39m.\u001b[39;49mreduce(func)\n\u001b[1;32m   1535\u001b[0m     res_blocks\u001b[39m.\u001b[39mextend(nbs)\n\u001b[1;32m   1537\u001b[0m index \u001b[39m=\u001b[39m Index([\u001b[39mNone\u001b[39;00m])  \u001b[39m# placeholder\u001b[39;00m\n",
      "File \u001b[0;32m~/Documents/myscript/python-data-analytics-udemy-business/.venv/lib/python3.11/site-packages/pandas/core/internals/blocks.py:339\u001b[0m, in \u001b[0;36mBlock.reduce\u001b[0;34m(self, func)\u001b[0m\n\u001b[1;32m    333\u001b[0m \u001b[39m@final\u001b[39m\n\u001b[1;32m    334\u001b[0m \u001b[39mdef\u001b[39;00m \u001b[39mreduce\u001b[39m(\u001b[39mself\u001b[39m, func) \u001b[39m-\u001b[39m\u001b[39m>\u001b[39m \u001b[39mlist\u001b[39m[Block]:\n\u001b[1;32m    335\u001b[0m     \u001b[39m# We will apply the function and reshape the result into a single-row\u001b[39;00m\n\u001b[1;32m    336\u001b[0m     \u001b[39m#  Block with the same mgr_locs; squeezing will be done at a higher level\u001b[39;00m\n\u001b[1;32m    337\u001b[0m     \u001b[39massert\u001b[39;00m \u001b[39mself\u001b[39m\u001b[39m.\u001b[39mndim \u001b[39m==\u001b[39m \u001b[39m2\u001b[39m\n\u001b[0;32m--> 339\u001b[0m     result \u001b[39m=\u001b[39m func(\u001b[39mself\u001b[39;49m\u001b[39m.\u001b[39;49mvalues)\n\u001b[1;32m    341\u001b[0m     \u001b[39mif\u001b[39;00m \u001b[39mself\u001b[39m\u001b[39m.\u001b[39mvalues\u001b[39m.\u001b[39mndim \u001b[39m==\u001b[39m \u001b[39m1\u001b[39m:\n\u001b[1;32m    342\u001b[0m         \u001b[39m# TODO(EA2D): special case not needed with 2D EAs\u001b[39;00m\n\u001b[1;32m    343\u001b[0m         res_values \u001b[39m=\u001b[39m np\u001b[39m.\u001b[39marray([[result]])\n",
      "File \u001b[0;32m~/Documents/myscript/python-data-analytics-udemy-business/.venv/lib/python3.11/site-packages/pandas/core/frame.py:10484\u001b[0m, in \u001b[0;36mDataFrame._reduce.<locals>.blk_func\u001b[0;34m(values, axis)\u001b[0m\n\u001b[1;32m  10480\u001b[0m \u001b[39mif\u001b[39;00m \u001b[39misinstance\u001b[39m(values, ExtensionArray):\n\u001b[1;32m  10481\u001b[0m     \u001b[39mif\u001b[39;00m \u001b[39mnot\u001b[39;00m is_1d_only_ea_dtype(values\u001b[39m.\u001b[39mdtype) \u001b[39mand\u001b[39;00m \u001b[39mnot\u001b[39;00m \u001b[39misinstance\u001b[39m(\n\u001b[1;32m  10482\u001b[0m         \u001b[39mself\u001b[39m\u001b[39m.\u001b[39m_mgr, ArrayManager\n\u001b[1;32m  10483\u001b[0m     ):\n\u001b[0;32m> 10484\u001b[0m         \u001b[39mreturn\u001b[39;00m values\u001b[39m.\u001b[39;49m_reduce(name, axis\u001b[39m=\u001b[39;49m\u001b[39m1\u001b[39;49m, skipna\u001b[39m=\u001b[39;49mskipna, \u001b[39m*\u001b[39;49m\u001b[39m*\u001b[39;49mkwds)\n\u001b[1;32m  10485\u001b[0m     \u001b[39mreturn\u001b[39;00m values\u001b[39m.\u001b[39m_reduce(name, skipna\u001b[39m=\u001b[39mskipna, \u001b[39m*\u001b[39m\u001b[39m*\u001b[39mkwds)\n\u001b[1;32m  10486\u001b[0m \u001b[39melse\u001b[39;00m:\n",
      "File \u001b[0;32m~/Documents/myscript/python-data-analytics-udemy-business/.venv/lib/python3.11/site-packages/pandas/core/arrays/base.py:1440\u001b[0m, in \u001b[0;36mExtensionArray._reduce\u001b[0;34m(self, name, skipna, **kwargs)\u001b[0m\n\u001b[1;32m   1438\u001b[0m meth \u001b[39m=\u001b[39m \u001b[39mgetattr\u001b[39m(\u001b[39mself\u001b[39m, name, \u001b[39mNone\u001b[39;00m)\n\u001b[1;32m   1439\u001b[0m \u001b[39mif\u001b[39;00m meth \u001b[39mis\u001b[39;00m \u001b[39mNone\u001b[39;00m:\n\u001b[0;32m-> 1440\u001b[0m     \u001b[39mraise\u001b[39;00m \u001b[39mTypeError\u001b[39;00m(\n\u001b[1;32m   1441\u001b[0m         \u001b[39mf\u001b[39m\u001b[39m\"\u001b[39m\u001b[39m'\u001b[39m\u001b[39m{\u001b[39;00m\u001b[39mtype\u001b[39m(\u001b[39mself\u001b[39m)\u001b[39m.\u001b[39m\u001b[39m__name__\u001b[39m\u001b[39m}\u001b[39;00m\u001b[39m'\u001b[39m\u001b[39m with dtype \u001b[39m\u001b[39m{\u001b[39;00m\u001b[39mself\u001b[39m\u001b[39m.\u001b[39mdtype\u001b[39m}\u001b[39;00m\u001b[39m \u001b[39m\u001b[39m\"\u001b[39m\n\u001b[1;32m   1442\u001b[0m         \u001b[39mf\u001b[39m\u001b[39m\"\u001b[39m\u001b[39mdoes not support reduction \u001b[39m\u001b[39m'\u001b[39m\u001b[39m{\u001b[39;00mname\u001b[39m}\u001b[39;00m\u001b[39m'\u001b[39m\u001b[39m\"\u001b[39m\n\u001b[1;32m   1443\u001b[0m     )\n\u001b[1;32m   1444\u001b[0m \u001b[39mreturn\u001b[39;00m meth(skipna\u001b[39m=\u001b[39mskipna, \u001b[39m*\u001b[39m\u001b[39m*\u001b[39mkwargs)\n",
      "\u001b[0;31mTypeError\u001b[0m: 'DatetimeArray' with dtype datetime64[ns] does not support reduction 'sum'"
     ]
    }
   ],
   "source": [
    "df.sum()"
   ]
  },
  {
   "cell_type": "code",
   "execution_count": 111,
   "id": "X8AiWDq8k8lV",
   "metadata": {
    "id": "X8AiWDq8k8lV"
   },
   "outputs": [
    {
     "data": {
      "text/plain": [
       "Price         475938.000000\n",
       "Quantity        5014.000000\n",
       "Width            517.582747\n",
       "Height           512.554742\n",
       "Quality         5020.788093\n",
       "Score           5111.509794\n",
       "Difference        11.150979\n",
       "dtype: float64"
      ]
     },
     "execution_count": 111,
     "metadata": {},
     "output_type": "execute_result"
    }
   ],
   "source": [
    "df.sum(numeric_only=True)"
   ]
  },
  {
   "cell_type": "code",
   "execution_count": 112,
   "id": "bt3W6O3llFDe",
   "metadata": {
    "id": "bt3W6O3llFDe"
   },
   "outputs": [
    {
     "data": {
      "text/plain": [
       "Price         475938.000000\n",
       "Quantity        5014.000000\n",
       "Width            517.582747\n",
       "Height           512.554742\n",
       "Quality         5020.788093\n",
       "Score           5111.509794\n",
       "Difference        11.150979\n",
       "dtype: float64"
      ]
     },
     "execution_count": 112,
     "metadata": {},
     "output_type": "execute_result"
    }
   ],
   "source": [
    "df.select_dtypes(include=['int', 'float']).sum()"
   ]
  },
  {
   "cell_type": "code",
   "execution_count": 113,
   "id": "Ik1GgIn3lox8",
   "metadata": {
    "id": "Ik1GgIn3lox8"
   },
   "outputs": [
    {
     "ename": "TypeError",
     "evalue": "Addition/subtraction of integers and integer-arrays with Timestamp is no longer supported.  Instead of adding/subtracting `n`, use `n * obj.freq`",
     "output_type": "error",
     "traceback": [
      "\u001b[0;31m---------------------------------------------------------------------------\u001b[0m",
      "\u001b[0;31mTypeError\u001b[0m                                 Traceback (most recent call last)",
      "Cell \u001b[0;32mIn[113], line 1\u001b[0m\n\u001b[0;32m----> 1\u001b[0m df\u001b[39m.\u001b[39;49msum(axis\u001b[39m=\u001b[39;49m\u001b[39m1\u001b[39;49m)[:\u001b[39m2\u001b[39m]\n",
      "File \u001b[0;32m~/Documents/myscript/python-data-analytics-udemy-business/.venv/lib/python3.11/site-packages/pandas/core/generic.py:11512\u001b[0m, in \u001b[0;36mNDFrame._add_numeric_operations.<locals>.sum\u001b[0;34m(self, axis, skipna, numeric_only, min_count, **kwargs)\u001b[0m\n\u001b[1;32m  11493\u001b[0m \u001b[39m@doc\u001b[39m(  \u001b[39m# type: ignore[misc]\u001b[39;00m\n\u001b[1;32m  11494\u001b[0m     _num_doc,\n\u001b[1;32m  11495\u001b[0m     desc\u001b[39m=\u001b[39m\u001b[39m\"\u001b[39m\u001b[39mReturn the sum of the values over the requested axis.\u001b[39m\u001b[39m\\n\u001b[39;00m\u001b[39m\\n\u001b[39;00m\u001b[39m\"\u001b[39m\n\u001b[0;32m   (...)\u001b[0m\n\u001b[1;32m  11510\u001b[0m     \u001b[39m*\u001b[39m\u001b[39m*\u001b[39mkwargs,\n\u001b[1;32m  11511\u001b[0m ):\n\u001b[0;32m> 11512\u001b[0m     \u001b[39mreturn\u001b[39;00m NDFrame\u001b[39m.\u001b[39;49msum(\u001b[39mself\u001b[39;49m, axis, skipna, numeric_only, min_count, \u001b[39m*\u001b[39;49m\u001b[39m*\u001b[39;49mkwargs)\n",
      "File \u001b[0;32m~/Documents/myscript/python-data-analytics-udemy-business/.venv/lib/python3.11/site-packages/pandas/core/generic.py:11280\u001b[0m, in \u001b[0;36mNDFrame.sum\u001b[0;34m(self, axis, skipna, numeric_only, min_count, **kwargs)\u001b[0m\n\u001b[1;32m  11272\u001b[0m \u001b[39mdef\u001b[39;00m \u001b[39msum\u001b[39m(\n\u001b[1;32m  11273\u001b[0m     \u001b[39mself\u001b[39m,\n\u001b[1;32m  11274\u001b[0m     axis: Axis \u001b[39m|\u001b[39m \u001b[39mNone\u001b[39;00m \u001b[39m=\u001b[39m \u001b[39mNone\u001b[39;00m,\n\u001b[0;32m   (...)\u001b[0m\n\u001b[1;32m  11278\u001b[0m     \u001b[39m*\u001b[39m\u001b[39m*\u001b[39mkwargs,\n\u001b[1;32m  11279\u001b[0m ):\n\u001b[0;32m> 11280\u001b[0m     \u001b[39mreturn\u001b[39;00m \u001b[39mself\u001b[39;49m\u001b[39m.\u001b[39;49m_min_count_stat_function(\n\u001b[1;32m  11281\u001b[0m         \u001b[39m\"\u001b[39;49m\u001b[39msum\u001b[39;49m\u001b[39m\"\u001b[39;49m, nanops\u001b[39m.\u001b[39;49mnansum, axis, skipna, numeric_only, min_count, \u001b[39m*\u001b[39;49m\u001b[39m*\u001b[39;49mkwargs\n\u001b[1;32m  11282\u001b[0m     )\n",
      "File \u001b[0;32m~/Documents/myscript/python-data-analytics-udemy-business/.venv/lib/python3.11/site-packages/pandas/core/generic.py:11263\u001b[0m, in \u001b[0;36mNDFrame._min_count_stat_function\u001b[0;34m(self, name, func, axis, skipna, numeric_only, min_count, **kwargs)\u001b[0m\n\u001b[1;32m  11260\u001b[0m \u001b[39mif\u001b[39;00m axis \u001b[39mis\u001b[39;00m \u001b[39mNone\u001b[39;00m:\n\u001b[1;32m  11261\u001b[0m     axis \u001b[39m=\u001b[39m \u001b[39mself\u001b[39m\u001b[39m.\u001b[39m_stat_axis_number\n\u001b[0;32m> 11263\u001b[0m \u001b[39mreturn\u001b[39;00m \u001b[39mself\u001b[39;49m\u001b[39m.\u001b[39;49m_reduce(\n\u001b[1;32m  11264\u001b[0m     func,\n\u001b[1;32m  11265\u001b[0m     name\u001b[39m=\u001b[39;49mname,\n\u001b[1;32m  11266\u001b[0m     axis\u001b[39m=\u001b[39;49maxis,\n\u001b[1;32m  11267\u001b[0m     skipna\u001b[39m=\u001b[39;49mskipna,\n\u001b[1;32m  11268\u001b[0m     numeric_only\u001b[39m=\u001b[39;49mnumeric_only,\n\u001b[1;32m  11269\u001b[0m     min_count\u001b[39m=\u001b[39;49mmin_count,\n\u001b[1;32m  11270\u001b[0m )\n",
      "File \u001b[0;32m~/Documents/myscript/python-data-analytics-udemy-business/.venv/lib/python3.11/site-packages/pandas/core/frame.py:10524\u001b[0m, in \u001b[0;36mDataFrame._reduce\u001b[0;34m(self, op, name, axis, skipna, numeric_only, filter_type, **kwds)\u001b[0m\n\u001b[1;32m  10520\u001b[0m     df \u001b[39m=\u001b[39m df\u001b[39m.\u001b[39mT\n\u001b[1;32m  10522\u001b[0m \u001b[39m# After possibly _get_data and transposing, we are now in the\u001b[39;00m\n\u001b[1;32m  10523\u001b[0m \u001b[39m#  simple case where we can use BlockManager.reduce\u001b[39;00m\n\u001b[0;32m> 10524\u001b[0m res \u001b[39m=\u001b[39m df\u001b[39m.\u001b[39;49m_mgr\u001b[39m.\u001b[39;49mreduce(blk_func)\n\u001b[1;32m  10525\u001b[0m out \u001b[39m=\u001b[39m df\u001b[39m.\u001b[39m_constructor(res)\u001b[39m.\u001b[39miloc[\u001b[39m0\u001b[39m]\n\u001b[1;32m  10526\u001b[0m \u001b[39mif\u001b[39;00m out_dtype \u001b[39mis\u001b[39;00m \u001b[39mnot\u001b[39;00m \u001b[39mNone\u001b[39;00m:\n",
      "File \u001b[0;32m~/Documents/myscript/python-data-analytics-udemy-business/.venv/lib/python3.11/site-packages/pandas/core/internals/managers.py:1534\u001b[0m, in \u001b[0;36mBlockManager.reduce\u001b[0;34m(self, func)\u001b[0m\n\u001b[1;32m   1532\u001b[0m res_blocks: \u001b[39mlist\u001b[39m[Block] \u001b[39m=\u001b[39m []\n\u001b[1;32m   1533\u001b[0m \u001b[39mfor\u001b[39;00m blk \u001b[39min\u001b[39;00m \u001b[39mself\u001b[39m\u001b[39m.\u001b[39mblocks:\n\u001b[0;32m-> 1534\u001b[0m     nbs \u001b[39m=\u001b[39m blk\u001b[39m.\u001b[39;49mreduce(func)\n\u001b[1;32m   1535\u001b[0m     res_blocks\u001b[39m.\u001b[39mextend(nbs)\n\u001b[1;32m   1537\u001b[0m index \u001b[39m=\u001b[39m Index([\u001b[39mNone\u001b[39;00m])  \u001b[39m# placeholder\u001b[39;00m\n",
      "File \u001b[0;32m~/Documents/myscript/python-data-analytics-udemy-business/.venv/lib/python3.11/site-packages/pandas/core/internals/blocks.py:339\u001b[0m, in \u001b[0;36mBlock.reduce\u001b[0;34m(self, func)\u001b[0m\n\u001b[1;32m    333\u001b[0m \u001b[39m@final\u001b[39m\n\u001b[1;32m    334\u001b[0m \u001b[39mdef\u001b[39;00m \u001b[39mreduce\u001b[39m(\u001b[39mself\u001b[39m, func) \u001b[39m-\u001b[39m\u001b[39m>\u001b[39m \u001b[39mlist\u001b[39m[Block]:\n\u001b[1;32m    335\u001b[0m     \u001b[39m# We will apply the function and reshape the result into a single-row\u001b[39;00m\n\u001b[1;32m    336\u001b[0m     \u001b[39m#  Block with the same mgr_locs; squeezing will be done at a higher level\u001b[39;00m\n\u001b[1;32m    337\u001b[0m     \u001b[39massert\u001b[39;00m \u001b[39mself\u001b[39m\u001b[39m.\u001b[39mndim \u001b[39m==\u001b[39m \u001b[39m2\u001b[39m\n\u001b[0;32m--> 339\u001b[0m     result \u001b[39m=\u001b[39m func(\u001b[39mself\u001b[39;49m\u001b[39m.\u001b[39;49mvalues)\n\u001b[1;32m    341\u001b[0m     \u001b[39mif\u001b[39;00m \u001b[39mself\u001b[39m\u001b[39m.\u001b[39mvalues\u001b[39m.\u001b[39mndim \u001b[39m==\u001b[39m \u001b[39m1\u001b[39m:\n\u001b[1;32m    342\u001b[0m         \u001b[39m# TODO(EA2D): special case not needed with 2D EAs\u001b[39;00m\n\u001b[1;32m    343\u001b[0m         res_values \u001b[39m=\u001b[39m np\u001b[39m.\u001b[39marray([[result]])\n",
      "File \u001b[0;32m~/Documents/myscript/python-data-analytics-udemy-business/.venv/lib/python3.11/site-packages/pandas/core/frame.py:10487\u001b[0m, in \u001b[0;36mDataFrame._reduce.<locals>.blk_func\u001b[0;34m(values, axis)\u001b[0m\n\u001b[1;32m  10485\u001b[0m     \u001b[39mreturn\u001b[39;00m values\u001b[39m.\u001b[39m_reduce(name, skipna\u001b[39m=\u001b[39mskipna, \u001b[39m*\u001b[39m\u001b[39m*\u001b[39mkwds)\n\u001b[1;32m  10486\u001b[0m \u001b[39melse\u001b[39;00m:\n\u001b[0;32m> 10487\u001b[0m     \u001b[39mreturn\u001b[39;00m op(values, axis\u001b[39m=\u001b[39;49maxis, skipna\u001b[39m=\u001b[39;49mskipna, \u001b[39m*\u001b[39;49m\u001b[39m*\u001b[39;49mkwds)\n",
      "File \u001b[0;32m~/Documents/myscript/python-data-analytics-udemy-business/.venv/lib/python3.11/site-packages/pandas/core/nanops.py:96\u001b[0m, in \u001b[0;36mdisallow.__call__.<locals>._f\u001b[0;34m(*args, **kwargs)\u001b[0m\n\u001b[1;32m     94\u001b[0m \u001b[39mtry\u001b[39;00m:\n\u001b[1;32m     95\u001b[0m     \u001b[39mwith\u001b[39;00m np\u001b[39m.\u001b[39merrstate(invalid\u001b[39m=\u001b[39m\u001b[39m\"\u001b[39m\u001b[39mignore\u001b[39m\u001b[39m\"\u001b[39m):\n\u001b[0;32m---> 96\u001b[0m         \u001b[39mreturn\u001b[39;00m f(\u001b[39m*\u001b[39;49margs, \u001b[39m*\u001b[39;49m\u001b[39m*\u001b[39;49mkwargs)\n\u001b[1;32m     97\u001b[0m \u001b[39mexcept\u001b[39;00m \u001b[39mValueError\u001b[39;00m \u001b[39mas\u001b[39;00m e:\n\u001b[1;32m     98\u001b[0m     \u001b[39m# we want to transform an object array\u001b[39;00m\n\u001b[1;32m     99\u001b[0m     \u001b[39m# ValueError message to the more typical TypeError\u001b[39;00m\n\u001b[1;32m    100\u001b[0m     \u001b[39m# e.g. this is normally a disallowed function on\u001b[39;00m\n\u001b[1;32m    101\u001b[0m     \u001b[39m# object arrays that contain strings\u001b[39;00m\n\u001b[1;32m    102\u001b[0m     \u001b[39mif\u001b[39;00m is_object_dtype(args[\u001b[39m0\u001b[39m]):\n",
      "File \u001b[0;32m~/Documents/myscript/python-data-analytics-udemy-business/.venv/lib/python3.11/site-packages/pandas/core/nanops.py:421\u001b[0m, in \u001b[0;36m_datetimelike_compat.<locals>.new_func\u001b[0;34m(values, axis, skipna, mask, **kwargs)\u001b[0m\n\u001b[1;32m    418\u001b[0m \u001b[39mif\u001b[39;00m datetimelike \u001b[39mand\u001b[39;00m mask \u001b[39mis\u001b[39;00m \u001b[39mNone\u001b[39;00m:\n\u001b[1;32m    419\u001b[0m     mask \u001b[39m=\u001b[39m isna(values)\n\u001b[0;32m--> 421\u001b[0m result \u001b[39m=\u001b[39m func(values, axis\u001b[39m=\u001b[39;49maxis, skipna\u001b[39m=\u001b[39;49mskipna, mask\u001b[39m=\u001b[39;49mmask, \u001b[39m*\u001b[39;49m\u001b[39m*\u001b[39;49mkwargs)\n\u001b[1;32m    423\u001b[0m \u001b[39mif\u001b[39;00m datetimelike:\n\u001b[1;32m    424\u001b[0m     result \u001b[39m=\u001b[39m _wrap_results(result, orig_values\u001b[39m.\u001b[39mdtype, fill_value\u001b[39m=\u001b[39miNaT)\n",
      "File \u001b[0;32m~/Documents/myscript/python-data-analytics-udemy-business/.venv/lib/python3.11/site-packages/pandas/core/nanops.py:494\u001b[0m, in \u001b[0;36mmaybe_operate_rowwise.<locals>.newfunc\u001b[0;34m(values, axis, **kwargs)\u001b[0m\n\u001b[1;32m    491\u001b[0m         results \u001b[39m=\u001b[39m [func(x, \u001b[39m*\u001b[39m\u001b[39m*\u001b[39mkwargs) \u001b[39mfor\u001b[39;00m x \u001b[39min\u001b[39;00m arrs]\n\u001b[1;32m    492\u001b[0m     \u001b[39mreturn\u001b[39;00m np\u001b[39m.\u001b[39marray(results)\n\u001b[0;32m--> 494\u001b[0m \u001b[39mreturn\u001b[39;00m func(values, axis\u001b[39m=\u001b[39;49maxis, \u001b[39m*\u001b[39;49m\u001b[39m*\u001b[39;49mkwargs)\n",
      "File \u001b[0;32m~/Documents/myscript/python-data-analytics-udemy-business/.venv/lib/python3.11/site-packages/pandas/core/nanops.py:652\u001b[0m, in \u001b[0;36mnansum\u001b[0;34m(values, axis, skipna, min_count, mask)\u001b[0m\n\u001b[1;32m    649\u001b[0m \u001b[39melif\u001b[39;00m is_timedelta64_dtype(dtype):\n\u001b[1;32m    650\u001b[0m     dtype_sum \u001b[39m=\u001b[39m np\u001b[39m.\u001b[39mdtype(np\u001b[39m.\u001b[39mfloat64)\n\u001b[0;32m--> 652\u001b[0m the_sum \u001b[39m=\u001b[39m values\u001b[39m.\u001b[39;49msum(axis, dtype\u001b[39m=\u001b[39;49mdtype_sum)\n\u001b[1;32m    653\u001b[0m the_sum \u001b[39m=\u001b[39m _maybe_null_out(the_sum, axis, mask, values\u001b[39m.\u001b[39mshape, min_count\u001b[39m=\u001b[39mmin_count)\n\u001b[1;32m    655\u001b[0m \u001b[39mreturn\u001b[39;00m the_sum\n",
      "File \u001b[0;32m~/Documents/myscript/python-data-analytics-udemy-business/.venv/lib/python3.11/site-packages/numpy/core/_methods.py:49\u001b[0m, in \u001b[0;36m_sum\u001b[0;34m(a, axis, dtype, out, keepdims, initial, where)\u001b[0m\n\u001b[1;32m     47\u001b[0m \u001b[39mdef\u001b[39;00m \u001b[39m_sum\u001b[39m(a, axis\u001b[39m=\u001b[39m\u001b[39mNone\u001b[39;00m, dtype\u001b[39m=\u001b[39m\u001b[39mNone\u001b[39;00m, out\u001b[39m=\u001b[39m\u001b[39mNone\u001b[39;00m, keepdims\u001b[39m=\u001b[39m\u001b[39mFalse\u001b[39;00m,\n\u001b[1;32m     48\u001b[0m          initial\u001b[39m=\u001b[39m_NoValue, where\u001b[39m=\u001b[39m\u001b[39mTrue\u001b[39;00m):\n\u001b[0;32m---> 49\u001b[0m     \u001b[39mreturn\u001b[39;00m umr_sum(a, axis, dtype, out, keepdims, initial, where)\n",
      "File \u001b[0;32m~/Documents/myscript/python-data-analytics-udemy-business/.venv/lib/python3.11/site-packages/pandas/_libs/tslibs/timestamps.pyx:461\u001b[0m, in \u001b[0;36mpandas._libs.tslibs.timestamps._Timestamp.__add__\u001b[0;34m()\u001b[0m\n",
      "\u001b[0;31mTypeError\u001b[0m: Addition/subtraction of integers and integer-arrays with Timestamp is no longer supported.  Instead of adding/subtracting `n`, use `n * obj.freq`"
     ]
    }
   ],
   "source": [
    "df.sum(axis=1)[:2]"
   ]
  },
  {
   "cell_type": "markdown",
   "id": "b2b2ebd1",
   "metadata": {
    "id": "b2b2ebd1"
   },
   "source": [
    "axisの理解"
   ]
  },
  {
   "cell_type": "code",
   "execution_count": 114,
   "id": "2e966e5c",
   "metadata": {
    "id": "2e966e5c",
    "scrolled": true
   },
   "outputs": [
    {
     "data": {
      "text/plain": [
       "array([[ 0,  1,  2,  3],\n",
       "       [ 4,  5,  6,  7],\n",
       "       [ 8,  9, 10, 11]])"
      ]
     },
     "execution_count": 114,
     "metadata": {},
     "output_type": "execute_result"
    }
   ],
   "source": [
    "arr = np.arange(12).reshape(3, 4)\n",
    "arr"
   ]
  },
  {
   "cell_type": "code",
   "execution_count": 115,
   "id": "dbrZgWexnjyp",
   "metadata": {
    "id": "dbrZgWexnjyp"
   },
   "outputs": [
    {
     "data": {
      "text/plain": [
       "(3, 4)"
      ]
     },
     "execution_count": 115,
     "metadata": {},
     "output_type": "execute_result"
    }
   ],
   "source": [
    "arr.shape"
   ]
  },
  {
   "cell_type": "code",
   "execution_count": 116,
   "id": "fQdmjVhNUdUT",
   "metadata": {
    "id": "fQdmjVhNUdUT"
   },
   "outputs": [
    {
     "data": {
      "text/plain": [
       "(66, 11)"
      ]
     },
     "execution_count": 116,
     "metadata": {},
     "output_type": "execute_result"
    }
   ],
   "source": [
    "arr.sum(), arr.max()\n",
    "# axisを指定しなければ全要素を対象にする"
   ]
  },
  {
   "cell_type": "code",
   "execution_count": 117,
   "id": "xSkstGceUhoY",
   "metadata": {
    "id": "xSkstGceUhoY"
   },
   "outputs": [
    {
     "data": {
      "text/plain": [
       "(array([12, 15, 18, 21]), array([ 8,  9, 10, 11]))"
      ]
     },
     "execution_count": 117,
     "metadata": {},
     "output_type": "execute_result"
    }
   ],
   "source": [
    "arr.sum(axis=0), arr.max(axis=0)"
   ]
  },
  {
   "cell_type": "code",
   "execution_count": 118,
   "id": "k_z5XxfAUjv-",
   "metadata": {
    "id": "k_z5XxfAUjv-"
   },
   "outputs": [
    {
     "data": {
      "text/plain": [
       "(array([ 6, 22, 38]), array([ 3,  7, 11]))"
      ]
     },
     "execution_count": 118,
     "metadata": {},
     "output_type": "execute_result"
    }
   ],
   "source": [
    "arr.sum(axis=1), arr.max(axis=1)"
   ]
  },
  {
   "cell_type": "code",
   "execution_count": 119,
   "id": "q3ff81_bm6Vg",
   "metadata": {
    "id": "q3ff81_bm6Vg"
   },
   "outputs": [
    {
     "data": {
      "text/plain": [
       "array([12, 15, 18, 21])"
      ]
     },
     "execution_count": 119,
     "metadata": {},
     "output_type": "execute_result"
    }
   ],
   "source": [
    "arr.sum(axis=0)"
   ]
  },
  {
   "cell_type": "code",
   "execution_count": 120,
   "id": "qcUC7odcnD4J",
   "metadata": {
    "id": "qcUC7odcnD4J"
   },
   "outputs": [
    {
     "data": {
      "text/plain": [
       "array([ 6, 22, 38])"
      ]
     },
     "execution_count": 120,
     "metadata": {},
     "output_type": "execute_result"
    }
   ],
   "source": [
    "arr.sum(axis=1)"
   ]
  },
  {
   "cell_type": "code",
   "execution_count": 121,
   "id": "kn1v2OcUpSjf",
   "metadata": {
    "id": "kn1v2OcUpSjf"
   },
   "outputs": [
    {
     "data": {
      "text/plain": [
       "array([[[ 0,  1],\n",
       "        [ 2,  3],\n",
       "        [ 4,  5]],\n",
       "\n",
       "       [[ 6,  7],\n",
       "        [ 8,  9],\n",
       "        [10, 11]]])"
      ]
     },
     "execution_count": 121,
     "metadata": {},
     "output_type": "execute_result"
    }
   ],
   "source": [
    "arr = arr.reshape(2, 3, 2)\n",
    "arr"
   ]
  },
  {
   "cell_type": "code",
   "execution_count": 122,
   "id": "F7YvLthYpX3o",
   "metadata": {
    "id": "F7YvLthYpX3o"
   },
   "outputs": [
    {
     "data": {
      "text/plain": [
       "array([[ 6,  9],\n",
       "       [24, 27]])"
      ]
     },
     "execution_count": 122,
     "metadata": {},
     "output_type": "execute_result"
    }
   ],
   "source": [
    "arr.sum(axis=1)"
   ]
  },
  {
   "cell_type": "code",
   "execution_count": 123,
   "id": "qF1pmsEI3PwB",
   "metadata": {
    "id": "qF1pmsEI3PwB"
   },
   "outputs": [
    {
     "data": {
      "text/plain": [
       "array([[ 1,  5,  9],\n",
       "       [13, 17, 21]])"
      ]
     },
     "execution_count": 123,
     "metadata": {},
     "output_type": "execute_result"
    }
   ],
   "source": [
    "arr.sum(axis=2)"
   ]
  },
  {
   "cell_type": "markdown",
   "id": "0007a8fe",
   "metadata": {
    "id": "0007a8fe"
   },
   "source": [
    "---\n",
    "<a id=4></a>\n",
    "[Topへ](#0)\n",
    "\n",
    "---\n",
    "## 4.IndexとColumnについて"
   ]
  },
  {
   "cell_type": "markdown",
   "id": "cb82e767",
   "metadata": {
    "id": "cb82e767"
   },
   "source": [
    "* indexとcolumnsの取得\n",
    "* indexの設定とリセット\n",
    "* indexラベル、columnラベルの変更\n",
    "---"
   ]
  },
  {
   "cell_type": "markdown",
   "id": "fdacedbc",
   "metadata": {
    "id": "fdacedbc"
   },
   "source": [
    "indexとcolumnsの取得"
   ]
  },
  {
   "cell_type": "code",
   "execution_count": 124,
   "id": "d6f378e5",
   "metadata": {
    "id": "d6f378e5",
    "scrolled": true
   },
   "outputs": [
    {
     "data": {
      "text/plain": [
       "RangeIndex(start=0, stop=100, step=1)"
      ]
     },
     "execution_count": 124,
     "metadata": {},
     "output_type": "execute_result"
    }
   ],
   "source": [
    "df.index"
   ]
  },
  {
   "cell_type": "code",
   "execution_count": 125,
   "id": "5UXXI2HlW3Zh",
   "metadata": {
    "id": "5UXXI2HlW3Zh"
   },
   "outputs": [
    {
     "data": {
      "text/plain": [
       "array([ 0,  1,  2,  3,  4,  5,  6,  7,  8,  9, 10, 11, 12, 13, 14, 15, 16,\n",
       "       17, 18, 19, 20, 21, 22, 23, 24, 25, 26, 27, 28, 29, 30, 31, 32, 33,\n",
       "       34, 35, 36, 37, 38, 39, 40, 41, 42, 43, 44, 45, 46, 47, 48, 49, 50,\n",
       "       51, 52, 53, 54, 55, 56, 57, 58, 59, 60, 61, 62, 63, 64, 65, 66, 67,\n",
       "       68, 69, 70, 71, 72, 73, 74, 75, 76, 77, 78, 79, 80, 81, 82, 83, 84,\n",
       "       85, 86, 87, 88, 89, 90, 91, 92, 93, 94, 95, 96, 97, 98, 99])"
      ]
     },
     "execution_count": 125,
     "metadata": {},
     "output_type": "execute_result"
    }
   ],
   "source": [
    "df.index.values"
   ]
  },
  {
   "cell_type": "code",
   "execution_count": 126,
   "id": "-x0wxJyBXN0B",
   "metadata": {
    "id": "-x0wxJyBXN0B"
   },
   "outputs": [
    {
     "data": {
      "text/plain": [
       "array([ 1,  5,  9, 13, 17])"
      ]
     },
     "execution_count": 126,
     "metadata": {},
     "output_type": "execute_result"
    }
   ],
   "source": [
    "pd.RangeIndex(1, 20, 4).values\n",
    "# 無理に使う必要はない。ndarrayをindexに指定すればよい"
   ]
  },
  {
   "cell_type": "code",
   "execution_count": 127,
   "id": "tamTs0hRX2J4",
   "metadata": {
    "id": "tamTs0hRX2J4"
   },
   "outputs": [
    {
     "data": {
      "text/plain": [
       "Index(['Date', 'Price', 'Quantity', 'Width', 'Height', 'Quality', 'Score',\n",
       "       'Difference', 'Color', 'Shape'],\n",
       "      dtype='object')"
      ]
     },
     "execution_count": 127,
     "metadata": {},
     "output_type": "execute_result"
    }
   ],
   "source": [
    "df.columns"
   ]
  },
  {
   "cell_type": "code",
   "execution_count": 128,
   "id": "a55dfbf7",
   "metadata": {
    "id": "a55dfbf7",
    "scrolled": true
   },
   "outputs": [
    {
     "data": {
      "text/plain": [
       "pandas.core.indexes.base.Index"
      ]
     },
     "execution_count": 128,
     "metadata": {},
     "output_type": "execute_result"
    }
   ],
   "source": [
    "type(df.columns)\n",
    "# いろいろな「型」が存在するが、詳細まで知っていなくてもよい"
   ]
  },
  {
   "cell_type": "markdown",
   "id": "288f110d",
   "metadata": {
    "id": "288f110d"
   },
   "source": [
    "indexの設定とリセット"
   ]
  },
  {
   "cell_type": "code",
   "execution_count": 129,
   "id": "OdQM0WfwY_5U",
   "metadata": {
    "id": "OdQM0WfwY_5U"
   },
   "outputs": [
    {
     "data": {
      "text/html": [
       "<div>\n",
       "<style scoped>\n",
       "    .dataframe tbody tr th:only-of-type {\n",
       "        vertical-align: middle;\n",
       "    }\n",
       "\n",
       "    .dataframe tbody tr th {\n",
       "        vertical-align: top;\n",
       "    }\n",
       "\n",
       "    .dataframe thead th {\n",
       "        text-align: right;\n",
       "    }\n",
       "</style>\n",
       "<table border=\"1\" class=\"dataframe\">\n",
       "  <thead>\n",
       "    <tr style=\"text-align: right;\">\n",
       "      <th></th>\n",
       "      <th>Date</th>\n",
       "      <th>Price</th>\n",
       "      <th>Quantity</th>\n",
       "      <th>Width</th>\n",
       "      <th>Height</th>\n",
       "      <th>Quality</th>\n",
       "      <th>Score</th>\n",
       "      <th>Difference</th>\n",
       "      <th>Color</th>\n",
       "      <th>Shape</th>\n",
       "    </tr>\n",
       "  </thead>\n",
       "  <tbody>\n",
       "    <tr>\n",
       "      <th>0</th>\n",
       "      <td>1997-07-05</td>\n",
       "      <td>2291</td>\n",
       "      <td>25</td>\n",
       "      <td>2.946650</td>\n",
       "      <td>5.305868</td>\n",
       "      <td>45.893300</td>\n",
       "      <td>52.762659</td>\n",
       "      <td>0.276266</td>\n",
       "      <td>green</td>\n",
       "      <td>triangle</td>\n",
       "    </tr>\n",
       "    <tr>\n",
       "      <th>1</th>\n",
       "      <td>1997-07-06</td>\n",
       "      <td>506</td>\n",
       "      <td>16</td>\n",
       "      <td>1.915208</td>\n",
       "      <td>0.679004</td>\n",
       "      <td>50.611735</td>\n",
       "      <td>31.453719</td>\n",
       "      <td>-1.854628</td>\n",
       "      <td>blue</td>\n",
       "      <td>triangle</td>\n",
       "    </tr>\n",
       "    <tr>\n",
       "      <th>2</th>\n",
       "      <td>1997-07-07</td>\n",
       "      <td>9629</td>\n",
       "      <td>32</td>\n",
       "      <td>7.869855</td>\n",
       "      <td>6.563335</td>\n",
       "      <td>43.830416</td>\n",
       "      <td>56.239011</td>\n",
       "      <td>0.623901</td>\n",
       "      <td>blue</td>\n",
       "      <td>square</td>\n",
       "    </tr>\n",
       "  </tbody>\n",
       "</table>\n",
       "</div>"
      ],
      "text/plain": [
       "        Date  Price  Quantity     Width    Height    Quality      Score   \n",
       "0 1997-07-05   2291        25  2.946650  5.305868  45.893300  52.762659  \\\n",
       "1 1997-07-06    506        16  1.915208  0.679004  50.611735  31.453719   \n",
       "2 1997-07-07   9629        32  7.869855  6.563335  43.830416  56.239011   \n",
       "\n",
       "   Difference  Color     Shape  \n",
       "0    0.276266  green  triangle  \n",
       "1   -1.854628   blue  triangle  \n",
       "2    0.623901   blue    square  "
      ]
     },
     "execution_count": 129,
     "metadata": {},
     "output_type": "execute_result"
    }
   ],
   "source": [
    "df.head(3)"
   ]
  },
  {
   "cell_type": "code",
   "execution_count": 130,
   "id": "vPGlpJ-_ZI0E",
   "metadata": {
    "id": "vPGlpJ-_ZI0E"
   },
   "outputs": [],
   "source": [
    "df.set_index('Date', inplace=True)\n",
    "# カラム名を指定し、インデックスとする"
   ]
  },
  {
   "cell_type": "code",
   "execution_count": 131,
   "id": "-qa2sRELZY40",
   "metadata": {
    "id": "-qa2sRELZY40"
   },
   "outputs": [
    {
     "data": {
      "text/html": [
       "<div>\n",
       "<style scoped>\n",
       "    .dataframe tbody tr th:only-of-type {\n",
       "        vertical-align: middle;\n",
       "    }\n",
       "\n",
       "    .dataframe tbody tr th {\n",
       "        vertical-align: top;\n",
       "    }\n",
       "\n",
       "    .dataframe thead th {\n",
       "        text-align: right;\n",
       "    }\n",
       "</style>\n",
       "<table border=\"1\" class=\"dataframe\">\n",
       "  <thead>\n",
       "    <tr style=\"text-align: right;\">\n",
       "      <th></th>\n",
       "      <th>Price</th>\n",
       "      <th>Quantity</th>\n",
       "      <th>Width</th>\n",
       "      <th>Height</th>\n",
       "      <th>Quality</th>\n",
       "      <th>Score</th>\n",
       "      <th>Difference</th>\n",
       "      <th>Color</th>\n",
       "      <th>Shape</th>\n",
       "    </tr>\n",
       "    <tr>\n",
       "      <th>Date</th>\n",
       "      <th></th>\n",
       "      <th></th>\n",
       "      <th></th>\n",
       "      <th></th>\n",
       "      <th></th>\n",
       "      <th></th>\n",
       "      <th></th>\n",
       "      <th></th>\n",
       "      <th></th>\n",
       "    </tr>\n",
       "  </thead>\n",
       "  <tbody>\n",
       "    <tr>\n",
       "      <th>1997-07-05</th>\n",
       "      <td>2291</td>\n",
       "      <td>25</td>\n",
       "      <td>2.946650</td>\n",
       "      <td>5.305868</td>\n",
       "      <td>45.893300</td>\n",
       "      <td>52.762659</td>\n",
       "      <td>0.276266</td>\n",
       "      <td>green</td>\n",
       "      <td>triangle</td>\n",
       "    </tr>\n",
       "    <tr>\n",
       "      <th>1997-07-06</th>\n",
       "      <td>506</td>\n",
       "      <td>16</td>\n",
       "      <td>1.915208</td>\n",
       "      <td>0.679004</td>\n",
       "      <td>50.611735</td>\n",
       "      <td>31.453719</td>\n",
       "      <td>-1.854628</td>\n",
       "      <td>blue</td>\n",
       "      <td>triangle</td>\n",
       "    </tr>\n",
       "    <tr>\n",
       "      <th>1997-07-07</th>\n",
       "      <td>9629</td>\n",
       "      <td>32</td>\n",
       "      <td>7.869855</td>\n",
       "      <td>6.563335</td>\n",
       "      <td>43.830416</td>\n",
       "      <td>56.239011</td>\n",
       "      <td>0.623901</td>\n",
       "      <td>blue</td>\n",
       "      <td>square</td>\n",
       "    </tr>\n",
       "  </tbody>\n",
       "</table>\n",
       "</div>"
      ],
      "text/plain": [
       "            Price  Quantity     Width    Height    Quality      Score   \n",
       "Date                                                                    \n",
       "1997-07-05   2291        25  2.946650  5.305868  45.893300  52.762659  \\\n",
       "1997-07-06    506        16  1.915208  0.679004  50.611735  31.453719   \n",
       "1997-07-07   9629        32  7.869855  6.563335  43.830416  56.239011   \n",
       "\n",
       "            Difference  Color     Shape  \n",
       "Date                                     \n",
       "1997-07-05    0.276266  green  triangle  \n",
       "1997-07-06   -1.854628   blue  triangle  \n",
       "1997-07-07    0.623901   blue    square  "
      ]
     },
     "execution_count": 131,
     "metadata": {},
     "output_type": "execute_result"
    }
   ],
   "source": [
    "df.head(3)"
   ]
  },
  {
   "cell_type": "code",
   "execution_count": 132,
   "id": "r9Tt25wGbtfs",
   "metadata": {
    "id": "r9Tt25wGbtfs"
   },
   "outputs": [
    {
     "data": {
      "text/html": [
       "<div>\n",
       "<style scoped>\n",
       "    .dataframe tbody tr th:only-of-type {\n",
       "        vertical-align: middle;\n",
       "    }\n",
       "\n",
       "    .dataframe tbody tr th {\n",
       "        vertical-align: top;\n",
       "    }\n",
       "\n",
       "    .dataframe thead th {\n",
       "        text-align: right;\n",
       "    }\n",
       "</style>\n",
       "<table border=\"1\" class=\"dataframe\">\n",
       "  <thead>\n",
       "    <tr style=\"text-align: right;\">\n",
       "      <th></th>\n",
       "      <th>Date</th>\n",
       "      <th>Price</th>\n",
       "      <th>Quantity</th>\n",
       "      <th>Width</th>\n",
       "      <th>Height</th>\n",
       "      <th>Quality</th>\n",
       "      <th>Score</th>\n",
       "      <th>Difference</th>\n",
       "      <th>Color</th>\n",
       "      <th>Shape</th>\n",
       "    </tr>\n",
       "  </thead>\n",
       "  <tbody>\n",
       "    <tr>\n",
       "      <th>0</th>\n",
       "      <td>1997-07-05</td>\n",
       "      <td>2291</td>\n",
       "      <td>25</td>\n",
       "      <td>2.946650</td>\n",
       "      <td>5.305868</td>\n",
       "      <td>45.893300</td>\n",
       "      <td>52.762659</td>\n",
       "      <td>0.276266</td>\n",
       "      <td>green</td>\n",
       "      <td>triangle</td>\n",
       "    </tr>\n",
       "    <tr>\n",
       "      <th>1</th>\n",
       "      <td>1997-07-06</td>\n",
       "      <td>506</td>\n",
       "      <td>16</td>\n",
       "      <td>1.915208</td>\n",
       "      <td>0.679004</td>\n",
       "      <td>50.611735</td>\n",
       "      <td>31.453719</td>\n",
       "      <td>-1.854628</td>\n",
       "      <td>blue</td>\n",
       "      <td>triangle</td>\n",
       "    </tr>\n",
       "    <tr>\n",
       "      <th>2</th>\n",
       "      <td>1997-07-07</td>\n",
       "      <td>9629</td>\n",
       "      <td>32</td>\n",
       "      <td>7.869855</td>\n",
       "      <td>6.563335</td>\n",
       "      <td>43.830416</td>\n",
       "      <td>56.239011</td>\n",
       "      <td>0.623901</td>\n",
       "      <td>blue</td>\n",
       "      <td>square</td>\n",
       "    </tr>\n",
       "  </tbody>\n",
       "</table>\n",
       "</div>"
      ],
      "text/plain": [
       "        Date  Price  Quantity     Width    Height    Quality      Score   \n",
       "0 1997-07-05   2291        25  2.946650  5.305868  45.893300  52.762659  \\\n",
       "1 1997-07-06    506        16  1.915208  0.679004  50.611735  31.453719   \n",
       "2 1997-07-07   9629        32  7.869855  6.563335  43.830416  56.239011   \n",
       "\n",
       "   Difference  Color     Shape  \n",
       "0    0.276266  green  triangle  \n",
       "1   -1.854628   blue  triangle  \n",
       "2    0.623901   blue    square  "
      ]
     },
     "execution_count": 132,
     "metadata": {},
     "output_type": "execute_result"
    }
   ],
   "source": [
    "df.reset_index(inplace=True)\n",
    "df.head(3)"
   ]
  },
  {
   "cell_type": "markdown",
   "id": "3fc836da",
   "metadata": {
    "id": "3fc836da"
   },
   "source": [
    "indexラベル、columnラベルの変更"
   ]
  },
  {
   "cell_type": "code",
   "execution_count": 133,
   "id": "21bb7ee6",
   "metadata": {
    "id": "21bb7ee6"
   },
   "outputs": [],
   "source": [
    "cols = df.columns"
   ]
  },
  {
   "cell_type": "code",
   "execution_count": 134,
   "id": "nh4VlivdpQJ1",
   "metadata": {
    "id": "nh4VlivdpQJ1"
   },
   "outputs": [
    {
     "data": {
      "text/html": [
       "<div>\n",
       "<style scoped>\n",
       "    .dataframe tbody tr th:only-of-type {\n",
       "        vertical-align: middle;\n",
       "    }\n",
       "\n",
       "    .dataframe tbody tr th {\n",
       "        vertical-align: top;\n",
       "    }\n",
       "\n",
       "    .dataframe thead th {\n",
       "        text-align: right;\n",
       "    }\n",
       "</style>\n",
       "<table border=\"1\" class=\"dataframe\">\n",
       "  <thead>\n",
       "    <tr style=\"text-align: right;\">\n",
       "      <th></th>\n",
       "      <th>Time</th>\n",
       "      <th>Price</th>\n",
       "      <th>Quantity</th>\n",
       "      <th>Width</th>\n",
       "      <th>Height</th>\n",
       "      <th>Quality</th>\n",
       "      <th>Score</th>\n",
       "      <th>Difference</th>\n",
       "      <th>Color</th>\n",
       "      <th>Shape</th>\n",
       "    </tr>\n",
       "  </thead>\n",
       "  <tbody>\n",
       "    <tr>\n",
       "      <th>ZERO</th>\n",
       "      <td>1997-07-05</td>\n",
       "      <td>2291</td>\n",
       "      <td>25</td>\n",
       "      <td>2.946650</td>\n",
       "      <td>5.305868</td>\n",
       "      <td>45.893300</td>\n",
       "      <td>52.762659</td>\n",
       "      <td>0.276266</td>\n",
       "      <td>green</td>\n",
       "      <td>triangle</td>\n",
       "    </tr>\n",
       "    <tr>\n",
       "      <th>1</th>\n",
       "      <td>1997-07-06</td>\n",
       "      <td>506</td>\n",
       "      <td>16</td>\n",
       "      <td>1.915208</td>\n",
       "      <td>0.679004</td>\n",
       "      <td>50.611735</td>\n",
       "      <td>31.453719</td>\n",
       "      <td>-1.854628</td>\n",
       "      <td>blue</td>\n",
       "      <td>triangle</td>\n",
       "    </tr>\n",
       "    <tr>\n",
       "      <th>2</th>\n",
       "      <td>1997-07-07</td>\n",
       "      <td>9629</td>\n",
       "      <td>32</td>\n",
       "      <td>7.869855</td>\n",
       "      <td>6.563335</td>\n",
       "      <td>43.830416</td>\n",
       "      <td>56.239011</td>\n",
       "      <td>0.623901</td>\n",
       "      <td>blue</td>\n",
       "      <td>square</td>\n",
       "    </tr>\n",
       "    <tr>\n",
       "      <th>3</th>\n",
       "      <td>1997-07-08</td>\n",
       "      <td>6161</td>\n",
       "      <td>67</td>\n",
       "      <td>6.375209</td>\n",
       "      <td>5.756029</td>\n",
       "      <td>41.358007</td>\n",
       "      <td>61.453113</td>\n",
       "      <td>1.145311</td>\n",
       "      <td>green</td>\n",
       "      <td>square</td>\n",
       "    </tr>\n",
       "    <tr>\n",
       "      <th>4</th>\n",
       "      <td>1997-07-09</td>\n",
       "      <td>8570</td>\n",
       "      <td>55</td>\n",
       "      <td>0.390629</td>\n",
       "      <td>3.578136</td>\n",
       "      <td>55.739709</td>\n",
       "      <td>60.371905</td>\n",
       "      <td>1.037190</td>\n",
       "      <td>red</td>\n",
       "      <td>square</td>\n",
       "    </tr>\n",
       "    <tr>\n",
       "      <th>...</th>\n",
       "      <td>...</td>\n",
       "      <td>...</td>\n",
       "      <td>...</td>\n",
       "      <td>...</td>\n",
       "      <td>...</td>\n",
       "      <td>...</td>\n",
       "      <td>...</td>\n",
       "      <td>...</td>\n",
       "      <td>...</td>\n",
       "      <td>...</td>\n",
       "    </tr>\n",
       "    <tr>\n",
       "      <th>95</th>\n",
       "      <td>1997-10-08</td>\n",
       "      <td>4285</td>\n",
       "      <td>50</td>\n",
       "      <td>9.133029</td>\n",
       "      <td>5.902204</td>\n",
       "      <td>41.603027</td>\n",
       "      <td>61.307264</td>\n",
       "      <td>1.130726</td>\n",
       "      <td>blue</td>\n",
       "      <td>circle</td>\n",
       "    </tr>\n",
       "    <tr>\n",
       "      <th>96</th>\n",
       "      <td>1997-10-09</td>\n",
       "      <td>9714</td>\n",
       "      <td>76</td>\n",
       "      <td>1.711943</td>\n",
       "      <td>7.144745</td>\n",
       "      <td>57.420940</td>\n",
       "      <td>55.600397</td>\n",
       "      <td>0.560040</td>\n",
       "      <td>red</td>\n",
       "      <td>triangle</td>\n",
       "    </tr>\n",
       "    <tr>\n",
       "      <th>97</th>\n",
       "      <td>1997-10-10</td>\n",
       "      <td>5113</td>\n",
       "      <td>62</td>\n",
       "      <td>2.384461</td>\n",
       "      <td>9.218051</td>\n",
       "      <td>54.261728</td>\n",
       "      <td>43.816027</td>\n",
       "      <td>-0.618397</td>\n",
       "      <td>blue</td>\n",
       "      <td>square</td>\n",
       "    </tr>\n",
       "    <tr>\n",
       "      <th>98</th>\n",
       "      <td>1997-10-11</td>\n",
       "      <td>5916</td>\n",
       "      <td>57</td>\n",
       "      <td>7.212739</td>\n",
       "      <td>6.769230</td>\n",
       "      <td>54.642241</td>\n",
       "      <td>47.752013</td>\n",
       "      <td>-0.224799</td>\n",
       "      <td>blue</td>\n",
       "      <td>circle</td>\n",
       "    </tr>\n",
       "    <tr>\n",
       "      <th>99</th>\n",
       "      <td>1997-10-12</td>\n",
       "      <td>1578</td>\n",
       "      <td>77</td>\n",
       "      <td>9.868106</td>\n",
       "      <td>5.397452</td>\n",
       "      <td>56.472400</td>\n",
       "      <td>72.159015</td>\n",
       "      <td>2.215901</td>\n",
       "      <td>red</td>\n",
       "      <td>circle</td>\n",
       "    </tr>\n",
       "  </tbody>\n",
       "</table>\n",
       "<p>100 rows × 10 columns</p>\n",
       "</div>"
      ],
      "text/plain": [
       "           Time  Price  Quantity     Width    Height    Quality      Score   \n",
       "ZERO 1997-07-05   2291        25  2.946650  5.305868  45.893300  52.762659  \\\n",
       "1    1997-07-06    506        16  1.915208  0.679004  50.611735  31.453719   \n",
       "2    1997-07-07   9629        32  7.869855  6.563335  43.830416  56.239011   \n",
       "3    1997-07-08   6161        67  6.375209  5.756029  41.358007  61.453113   \n",
       "4    1997-07-09   8570        55  0.390629  3.578136  55.739709  60.371905   \n",
       "...         ...    ...       ...       ...       ...        ...        ...   \n",
       "95   1997-10-08   4285        50  9.133029  5.902204  41.603027  61.307264   \n",
       "96   1997-10-09   9714        76  1.711943  7.144745  57.420940  55.600397   \n",
       "97   1997-10-10   5113        62  2.384461  9.218051  54.261728  43.816027   \n",
       "98   1997-10-11   5916        57  7.212739  6.769230  54.642241  47.752013   \n",
       "99   1997-10-12   1578        77  9.868106  5.397452  56.472400  72.159015   \n",
       "\n",
       "      Difference  Color     Shape  \n",
       "ZERO    0.276266  green  triangle  \n",
       "1      -1.854628   blue  triangle  \n",
       "2       0.623901   blue    square  \n",
       "3       1.145311  green    square  \n",
       "4       1.037190    red    square  \n",
       "...          ...    ...       ...  \n",
       "95      1.130726   blue    circle  \n",
       "96      0.560040    red  triangle  \n",
       "97     -0.618397   blue    square  \n",
       "98     -0.224799   blue    circle  \n",
       "99      2.215901    red    circle  \n",
       "\n",
       "[100 rows x 10 columns]"
      ]
     },
     "execution_count": 134,
     "metadata": {},
     "output_type": "execute_result"
    }
   ],
   "source": [
    "df.rename(index={0:'ZERO'}, columns={'Date':'Time'})   # inplace=Trueは設定せず"
   ]
  },
  {
   "cell_type": "code",
   "execution_count": 135,
   "id": "C2068G5xpUSz",
   "metadata": {
    "id": "C2068G5xpUSz"
   },
   "outputs": [
    {
     "data": {
      "text/html": [
       "<div>\n",
       "<style scoped>\n",
       "    .dataframe tbody tr th:only-of-type {\n",
       "        vertical-align: middle;\n",
       "    }\n",
       "\n",
       "    .dataframe tbody tr th {\n",
       "        vertical-align: top;\n",
       "    }\n",
       "\n",
       "    .dataframe thead th {\n",
       "        text-align: right;\n",
       "    }\n",
       "</style>\n",
       "<table border=\"1\" class=\"dataframe\">\n",
       "  <thead>\n",
       "    <tr style=\"text-align: right;\">\n",
       "      <th></th>\n",
       "      <th>Date</th>\n",
       "      <th>Price</th>\n",
       "      <th>Quantity</th>\n",
       "      <th>Width</th>\n",
       "      <th>Height</th>\n",
       "      <th>Quality</th>\n",
       "      <th>Score</th>\n",
       "      <th>Difference</th>\n",
       "      <th>Color</th>\n",
       "      <th>Shape</th>\n",
       "    </tr>\n",
       "  </thead>\n",
       "  <tbody>\n",
       "    <tr>\n",
       "      <th>100</th>\n",
       "      <td>1997-07-05</td>\n",
       "      <td>2291</td>\n",
       "      <td>25</td>\n",
       "      <td>2.946650</td>\n",
       "      <td>5.305868</td>\n",
       "      <td>45.893300</td>\n",
       "      <td>52.762659</td>\n",
       "      <td>0.276266</td>\n",
       "      <td>green</td>\n",
       "      <td>triangle</td>\n",
       "    </tr>\n",
       "    <tr>\n",
       "      <th>101</th>\n",
       "      <td>1997-07-06</td>\n",
       "      <td>506</td>\n",
       "      <td>16</td>\n",
       "      <td>1.915208</td>\n",
       "      <td>0.679004</td>\n",
       "      <td>50.611735</td>\n",
       "      <td>31.453719</td>\n",
       "      <td>-1.854628</td>\n",
       "      <td>blue</td>\n",
       "      <td>triangle</td>\n",
       "    </tr>\n",
       "    <tr>\n",
       "      <th>102</th>\n",
       "      <td>1997-07-07</td>\n",
       "      <td>9629</td>\n",
       "      <td>32</td>\n",
       "      <td>7.869855</td>\n",
       "      <td>6.563335</td>\n",
       "      <td>43.830416</td>\n",
       "      <td>56.239011</td>\n",
       "      <td>0.623901</td>\n",
       "      <td>blue</td>\n",
       "      <td>square</td>\n",
       "    </tr>\n",
       "  </tbody>\n",
       "</table>\n",
       "</div>"
      ],
      "text/plain": [
       "          Date  Price  Quantity     Width    Height    Quality      Score   \n",
       "100 1997-07-05   2291        25  2.946650  5.305868  45.893300  52.762659  \\\n",
       "101 1997-07-06    506        16  1.915208  0.679004  50.611735  31.453719   \n",
       "102 1997-07-07   9629        32  7.869855  6.563335  43.830416  56.239011   \n",
       "\n",
       "     Difference  Color     Shape  \n",
       "100    0.276266  green  triangle  \n",
       "101   -1.854628   blue  triangle  \n",
       "102    0.623901   blue    square  "
      ]
     },
     "execution_count": 135,
     "metadata": {},
     "output_type": "execute_result"
    }
   ],
   "source": [
    "# 直接書き換える\n",
    "df.index = np.arange(100, 200)\n",
    "df.head(3) "
   ]
  },
  {
   "cell_type": "code",
   "execution_count": 136,
   "id": "DxhQQvjEpME8",
   "metadata": {
    "id": "DxhQQvjEpME8"
   },
   "outputs": [
    {
     "data": {
      "text/html": [
       "<div>\n",
       "<style scoped>\n",
       "    .dataframe tbody tr th:only-of-type {\n",
       "        vertical-align: middle;\n",
       "    }\n",
       "\n",
       "    .dataframe tbody tr th {\n",
       "        vertical-align: top;\n",
       "    }\n",
       "\n",
       "    .dataframe thead th {\n",
       "        text-align: right;\n",
       "    }\n",
       "</style>\n",
       "<table border=\"1\" class=\"dataframe\">\n",
       "  <thead>\n",
       "    <tr style=\"text-align: right;\">\n",
       "      <th></th>\n",
       "      <th>A</th>\n",
       "      <th>B</th>\n",
       "      <th>C</th>\n",
       "      <th>D</th>\n",
       "      <th>E</th>\n",
       "      <th>F</th>\n",
       "      <th>G</th>\n",
       "      <th>H</th>\n",
       "      <th>I</th>\n",
       "      <th>J</th>\n",
       "    </tr>\n",
       "  </thead>\n",
       "  <tbody>\n",
       "    <tr>\n",
       "      <th>100</th>\n",
       "      <td>1997-07-05</td>\n",
       "      <td>2291</td>\n",
       "      <td>25</td>\n",
       "      <td>2.946650</td>\n",
       "      <td>5.305868</td>\n",
       "      <td>45.893300</td>\n",
       "      <td>52.762659</td>\n",
       "      <td>0.276266</td>\n",
       "      <td>green</td>\n",
       "      <td>triangle</td>\n",
       "    </tr>\n",
       "    <tr>\n",
       "      <th>101</th>\n",
       "      <td>1997-07-06</td>\n",
       "      <td>506</td>\n",
       "      <td>16</td>\n",
       "      <td>1.915208</td>\n",
       "      <td>0.679004</td>\n",
       "      <td>50.611735</td>\n",
       "      <td>31.453719</td>\n",
       "      <td>-1.854628</td>\n",
       "      <td>blue</td>\n",
       "      <td>triangle</td>\n",
       "    </tr>\n",
       "    <tr>\n",
       "      <th>102</th>\n",
       "      <td>1997-07-07</td>\n",
       "      <td>9629</td>\n",
       "      <td>32</td>\n",
       "      <td>7.869855</td>\n",
       "      <td>6.563335</td>\n",
       "      <td>43.830416</td>\n",
       "      <td>56.239011</td>\n",
       "      <td>0.623901</td>\n",
       "      <td>blue</td>\n",
       "      <td>square</td>\n",
       "    </tr>\n",
       "  </tbody>\n",
       "</table>\n",
       "</div>"
      ],
      "text/plain": [
       "             A     B   C         D         E          F          G         H   \n",
       "100 1997-07-05  2291  25  2.946650  5.305868  45.893300  52.762659  0.276266  \\\n",
       "101 1997-07-06   506  16  1.915208  0.679004  50.611735  31.453719 -1.854628   \n",
       "102 1997-07-07  9629  32  7.869855  6.563335  43.830416  56.239011  0.623901   \n",
       "\n",
       "         I         J  \n",
       "100  green  triangle  \n",
       "101   blue  triangle  \n",
       "102   blue    square  "
      ]
     },
     "execution_count": 136,
     "metadata": {},
     "output_type": "execute_result"
    }
   ],
   "source": [
    "# 直接書き換える\n",
    "df.columns = list('ABCDEFGHIJ')\n",
    "df.head(3)"
   ]
  },
  {
   "cell_type": "code",
   "execution_count": 137,
   "id": "JxOni1-yqxz5",
   "metadata": {
    "id": "JxOni1-yqxz5"
   },
   "outputs": [
    {
     "data": {
      "text/html": [
       "<div>\n",
       "<style scoped>\n",
       "    .dataframe tbody tr th:only-of-type {\n",
       "        vertical-align: middle;\n",
       "    }\n",
       "\n",
       "    .dataframe tbody tr th {\n",
       "        vertical-align: top;\n",
       "    }\n",
       "\n",
       "    .dataframe thead th {\n",
       "        text-align: right;\n",
       "    }\n",
       "</style>\n",
       "<table border=\"1\" class=\"dataframe\">\n",
       "  <thead>\n",
       "    <tr style=\"text-align: right;\">\n",
       "      <th></th>\n",
       "      <th>#A</th>\n",
       "      <th>#B</th>\n",
       "      <th>#C</th>\n",
       "      <th>#D</th>\n",
       "      <th>#E</th>\n",
       "      <th>#F</th>\n",
       "      <th>#G</th>\n",
       "      <th>#H</th>\n",
       "      <th>#I</th>\n",
       "      <th>#J</th>\n",
       "    </tr>\n",
       "  </thead>\n",
       "  <tbody>\n",
       "    <tr>\n",
       "      <th>100</th>\n",
       "      <td>1997-07-05</td>\n",
       "      <td>2291</td>\n",
       "      <td>25</td>\n",
       "      <td>2.946650</td>\n",
       "      <td>5.305868</td>\n",
       "      <td>45.893300</td>\n",
       "      <td>52.762659</td>\n",
       "      <td>0.276266</td>\n",
       "      <td>green</td>\n",
       "      <td>triangle</td>\n",
       "    </tr>\n",
       "    <tr>\n",
       "      <th>101</th>\n",
       "      <td>1997-07-06</td>\n",
       "      <td>506</td>\n",
       "      <td>16</td>\n",
       "      <td>1.915208</td>\n",
       "      <td>0.679004</td>\n",
       "      <td>50.611735</td>\n",
       "      <td>31.453719</td>\n",
       "      <td>-1.854628</td>\n",
       "      <td>blue</td>\n",
       "      <td>triangle</td>\n",
       "    </tr>\n",
       "    <tr>\n",
       "      <th>102</th>\n",
       "      <td>1997-07-07</td>\n",
       "      <td>9629</td>\n",
       "      <td>32</td>\n",
       "      <td>7.869855</td>\n",
       "      <td>6.563335</td>\n",
       "      <td>43.830416</td>\n",
       "      <td>56.239011</td>\n",
       "      <td>0.623901</td>\n",
       "      <td>blue</td>\n",
       "      <td>square</td>\n",
       "    </tr>\n",
       "  </tbody>\n",
       "</table>\n",
       "</div>"
      ],
      "text/plain": [
       "            #A    #B  #C        #D        #E         #F         #G        #H   \n",
       "100 1997-07-05  2291  25  2.946650  5.305868  45.893300  52.762659  0.276266  \\\n",
       "101 1997-07-06   506  16  1.915208  0.679004  50.611735  31.453719 -1.854628   \n",
       "102 1997-07-07  9629  32  7.869855  6.563335  43.830416  56.239011  0.623901   \n",
       "\n",
       "        #I        #J  \n",
       "100  green  triangle  \n",
       "101   blue  triangle  \n",
       "102   blue    square  "
      ]
     },
     "execution_count": 137,
     "metadata": {},
     "output_type": "execute_result"
    }
   ],
   "source": [
    "df = df.add_prefix('#')\n",
    "df.head(3)\n",
    "# suffix"
   ]
  },
  {
   "cell_type": "code",
   "execution_count": 138,
   "id": "aWK9u0jzr10O",
   "metadata": {
    "id": "aWK9u0jzr10O"
   },
   "outputs": [
    {
     "data": {
      "text/html": [
       "<div>\n",
       "<style scoped>\n",
       "    .dataframe tbody tr th:only-of-type {\n",
       "        vertical-align: middle;\n",
       "    }\n",
       "\n",
       "    .dataframe tbody tr th {\n",
       "        vertical-align: top;\n",
       "    }\n",
       "\n",
       "    .dataframe thead th {\n",
       "        text-align: right;\n",
       "    }\n",
       "</style>\n",
       "<table border=\"1\" class=\"dataframe\">\n",
       "  <thead>\n",
       "    <tr style=\"text-align: right;\">\n",
       "      <th></th>\n",
       "      <th>#A</th>\n",
       "      <th>#B</th>\n",
       "      <th>#C</th>\n",
       "      <th>#D</th>\n",
       "      <th>#E</th>\n",
       "      <th>#F</th>\n",
       "      <th>#G</th>\n",
       "      <th>#H</th>\n",
       "      <th>#I</th>\n",
       "      <th>#J</th>\n",
       "    </tr>\n",
       "  </thead>\n",
       "  <tbody>\n",
       "    <tr>\n",
       "      <th>0</th>\n",
       "      <td>1997-07-05</td>\n",
       "      <td>2291</td>\n",
       "      <td>25</td>\n",
       "      <td>2.946650</td>\n",
       "      <td>5.305868</td>\n",
       "      <td>45.893300</td>\n",
       "      <td>52.762659</td>\n",
       "      <td>0.276266</td>\n",
       "      <td>green</td>\n",
       "      <td>triangle</td>\n",
       "    </tr>\n",
       "    <tr>\n",
       "      <th>1</th>\n",
       "      <td>1997-07-06</td>\n",
       "      <td>506</td>\n",
       "      <td>16</td>\n",
       "      <td>1.915208</td>\n",
       "      <td>0.679004</td>\n",
       "      <td>50.611735</td>\n",
       "      <td>31.453719</td>\n",
       "      <td>-1.854628</td>\n",
       "      <td>blue</td>\n",
       "      <td>triangle</td>\n",
       "    </tr>\n",
       "    <tr>\n",
       "      <th>2</th>\n",
       "      <td>1997-07-07</td>\n",
       "      <td>9629</td>\n",
       "      <td>32</td>\n",
       "      <td>7.869855</td>\n",
       "      <td>6.563335</td>\n",
       "      <td>43.830416</td>\n",
       "      <td>56.239011</td>\n",
       "      <td>0.623901</td>\n",
       "      <td>blue</td>\n",
       "      <td>square</td>\n",
       "    </tr>\n",
       "  </tbody>\n",
       "</table>\n",
       "</div>"
      ],
      "text/plain": [
       "          #A    #B  #C        #D        #E         #F         #G        #H   \n",
       "0 1997-07-05  2291  25  2.946650  5.305868  45.893300  52.762659  0.276266  \\\n",
       "1 1997-07-06   506  16  1.915208  0.679004  50.611735  31.453719 -1.854628   \n",
       "2 1997-07-07  9629  32  7.869855  6.563335  43.830416  56.239011  0.623901   \n",
       "\n",
       "      #I        #J  \n",
       "0  green  triangle  \n",
       "1   blue  triangle  \n",
       "2   blue    square  "
      ]
     },
     "execution_count": 138,
     "metadata": {},
     "output_type": "execute_result"
    }
   ],
   "source": [
    "# dropで以前のインデックスを削除する\n",
    "df.reset_index(inplace=True, drop=True)\n",
    "df.head(3)"
   ]
  },
  {
   "cell_type": "code",
   "execution_count": 139,
   "id": "yKSvwUkcsq2i",
   "metadata": {
    "id": "yKSvwUkcsq2i"
   },
   "outputs": [
    {
     "data": {
      "text/html": [
       "<div>\n",
       "<style scoped>\n",
       "    .dataframe tbody tr th:only-of-type {\n",
       "        vertical-align: middle;\n",
       "    }\n",
       "\n",
       "    .dataframe tbody tr th {\n",
       "        vertical-align: top;\n",
       "    }\n",
       "\n",
       "    .dataframe thead th {\n",
       "        text-align: right;\n",
       "    }\n",
       "</style>\n",
       "<table border=\"1\" class=\"dataframe\">\n",
       "  <thead>\n",
       "    <tr style=\"text-align: right;\">\n",
       "      <th></th>\n",
       "      <th>Date</th>\n",
       "      <th>Price</th>\n",
       "      <th>Quantity</th>\n",
       "      <th>Width</th>\n",
       "      <th>Height</th>\n",
       "      <th>Quality</th>\n",
       "      <th>Score</th>\n",
       "      <th>Difference</th>\n",
       "      <th>Color</th>\n",
       "      <th>Shape</th>\n",
       "    </tr>\n",
       "  </thead>\n",
       "  <tbody>\n",
       "    <tr>\n",
       "      <th>0</th>\n",
       "      <td>1997-07-05</td>\n",
       "      <td>2291</td>\n",
       "      <td>25</td>\n",
       "      <td>2.946650</td>\n",
       "      <td>5.305868</td>\n",
       "      <td>45.893300</td>\n",
       "      <td>52.762659</td>\n",
       "      <td>0.276266</td>\n",
       "      <td>green</td>\n",
       "      <td>triangle</td>\n",
       "    </tr>\n",
       "    <tr>\n",
       "      <th>1</th>\n",
       "      <td>1997-07-06</td>\n",
       "      <td>506</td>\n",
       "      <td>16</td>\n",
       "      <td>1.915208</td>\n",
       "      <td>0.679004</td>\n",
       "      <td>50.611735</td>\n",
       "      <td>31.453719</td>\n",
       "      <td>-1.854628</td>\n",
       "      <td>blue</td>\n",
       "      <td>triangle</td>\n",
       "    </tr>\n",
       "    <tr>\n",
       "      <th>2</th>\n",
       "      <td>1997-07-07</td>\n",
       "      <td>9629</td>\n",
       "      <td>32</td>\n",
       "      <td>7.869855</td>\n",
       "      <td>6.563335</td>\n",
       "      <td>43.830416</td>\n",
       "      <td>56.239011</td>\n",
       "      <td>0.623901</td>\n",
       "      <td>blue</td>\n",
       "      <td>square</td>\n",
       "    </tr>\n",
       "  </tbody>\n",
       "</table>\n",
       "</div>"
      ],
      "text/plain": [
       "        Date  Price  Quantity     Width    Height    Quality      Score   \n",
       "0 1997-07-05   2291        25  2.946650  5.305868  45.893300  52.762659  \\\n",
       "1 1997-07-06    506        16  1.915208  0.679004  50.611735  31.453719   \n",
       "2 1997-07-07   9629        32  7.869855  6.563335  43.830416  56.239011   \n",
       "\n",
       "   Difference  Color     Shape  \n",
       "0    0.276266  green  triangle  \n",
       "1   -1.854628   blue  triangle  \n",
       "2    0.623901   blue    square  "
      ]
     },
     "execution_count": 139,
     "metadata": {},
     "output_type": "execute_result"
    }
   ],
   "source": [
    "df.columns = cols\n",
    "df.head(3)"
   ]
  },
  {
   "cell_type": "markdown",
   "id": "cb604e7b",
   "metadata": {
    "id": "cb604e7b"
   },
   "source": [
    "---\n",
    "<a id=5></a>\n",
    "[Topへ](#0)\n",
    "\n",
    "---\n",
    "## 5.欠損値"
   ]
  },
  {
   "cell_type": "markdown",
   "id": "608d2bdf",
   "metadata": {
    "id": "608d2bdf"
   },
   "source": [
    "* None, null, np.nanを確認\n",
    "* DataFrameの欠損値はNoneもしくはnp.nanで置き換える\n",
    "* df.isnull()の使い方\n",
    "* 欠損値のある行を表示\n",
    "* nullは平均値の計算などに影響するか\n",
    "* 欠損値を視覚化\n",
    "---"
   ]
  },
  {
   "cell_type": "markdown",
   "id": "1a69e05a",
   "metadata": {
    "id": "1a69e05a"
   },
   "source": [
    "None, null, np.nanを確認"
   ]
  },
  {
   "cell_type": "code",
   "execution_count": 140,
   "id": "fd1ca400",
   "metadata": {
    "id": "fd1ca400"
   },
   "outputs": [
    {
     "name": "stdout",
     "output_type": "stream",
     "text": [
      "None\n"
     ]
    }
   ],
   "source": [
    "print(None)"
   ]
  },
  {
   "cell_type": "code",
   "execution_count": 141,
   "id": "3FXg6x-ZDV5d",
   "metadata": {
    "id": "3FXg6x-ZDV5d"
   },
   "outputs": [
    {
     "name": "stdout",
     "output_type": "stream",
     "text": [
      "nan\n"
     ]
    }
   ],
   "source": [
    "print(np.nan)"
   ]
  },
  {
   "cell_type": "markdown",
   "id": "063e6357",
   "metadata": {
    "id": "063e6357"
   },
   "source": [
    "DataFrameの欠損値はNoneもしくはnp.nanで置き換える"
   ]
  },
  {
   "cell_type": "code",
   "execution_count": 142,
   "id": "62da6db6",
   "metadata": {
    "id": "62da6db6"
   },
   "outputs": [],
   "source": [
    "null_values = [None, np.nan]"
   ]
  },
  {
   "cell_type": "code",
   "execution_count": 143,
   "id": "__O36LFRFA_c",
   "metadata": {
    "id": "__O36LFRFA_c"
   },
   "outputs": [],
   "source": [
    "for i in range(30):\n",
    "  np.random.seed(i)   # ひとつの数字ではs, t, uは常に同じ数字になってしまう\n",
    "  s = np.random.randint(0, 100)\n",
    "  t = np.random.randint(0, 10)\n",
    "  u = np.random.randint(0, 2)\n",
    "  df.iloc[s, t] = null_values[u]"
   ]
  },
  {
   "cell_type": "code",
   "execution_count": 144,
   "id": "7x5or97EG0s8",
   "metadata": {
    "id": "7x5or97EG0s8"
   },
   "outputs": [
    {
     "data": {
      "text/html": [
       "<div>\n",
       "<style scoped>\n",
       "    .dataframe tbody tr th:only-of-type {\n",
       "        vertical-align: middle;\n",
       "    }\n",
       "\n",
       "    .dataframe tbody tr th {\n",
       "        vertical-align: top;\n",
       "    }\n",
       "\n",
       "    .dataframe thead th {\n",
       "        text-align: right;\n",
       "    }\n",
       "</style>\n",
       "<table border=\"1\" class=\"dataframe\">\n",
       "  <thead>\n",
       "    <tr style=\"text-align: right;\">\n",
       "      <th></th>\n",
       "      <th>Date</th>\n",
       "      <th>Price</th>\n",
       "      <th>Quantity</th>\n",
       "      <th>Width</th>\n",
       "      <th>Height</th>\n",
       "      <th>Quality</th>\n",
       "      <th>Score</th>\n",
       "      <th>Difference</th>\n",
       "      <th>Color</th>\n",
       "      <th>Shape</th>\n",
       "    </tr>\n",
       "  </thead>\n",
       "  <tbody>\n",
       "    <tr>\n",
       "      <th>12</th>\n",
       "      <td>1997-07-17</td>\n",
       "      <td>4678</td>\n",
       "      <td>11</td>\n",
       "      <td>4.184844</td>\n",
       "      <td>1.439039</td>\n",
       "      <td>57.280842</td>\n",
       "      <td>31.811877</td>\n",
       "      <td>-1.818812</td>\n",
       "      <td>green</td>\n",
       "      <td>triangle</td>\n",
       "    </tr>\n",
       "    <tr>\n",
       "      <th>89</th>\n",
       "      <td>1997-10-02</td>\n",
       "      <td>860</td>\n",
       "      <td>20</td>\n",
       "      <td>8.438626</td>\n",
       "      <td>1.365645</td>\n",
       "      <td>59.206916</td>\n",
       "      <td>44.121192</td>\n",
       "      <td>-0.587881</td>\n",
       "      <td>red</td>\n",
       "      <td>circle</td>\n",
       "    </tr>\n",
       "    <tr>\n",
       "      <th>7</th>\n",
       "      <td>1997-07-12</td>\n",
       "      <td>4664</td>\n",
       "      <td>78</td>\n",
       "      <td>0.511937</td>\n",
       "      <td>6.524186</td>\n",
       "      <td>51.512058</td>\n",
       "      <td>46.378987</td>\n",
       "      <td>-0.362101</td>\n",
       "      <td>red</td>\n",
       "      <td>square</td>\n",
       "    </tr>\n",
       "    <tr>\n",
       "      <th>76</th>\n",
       "      <td>1997-09-19</td>\n",
       "      <td>5511</td>\n",
       "      <td>43</td>\n",
       "      <td>6.500964</td>\n",
       "      <td>7.182418</td>\n",
       "      <td>57.170493</td>\n",
       "      <td>44.590201</td>\n",
       "      <td>-0.540980</td>\n",
       "      <td>green</td>\n",
       "      <td>triangle</td>\n",
       "    </tr>\n",
       "    <tr>\n",
       "      <th>8</th>\n",
       "      <td>1997-07-13</td>\n",
       "      <td>3045</td>\n",
       "      <td>49</td>\n",
       "      <td>5.517514</td>\n",
       "      <td>5.975133</td>\n",
       "      <td>40.781258</td>\n",
       "      <td>51.486750</td>\n",
       "      <td>0.148675</td>\n",
       "      <td>red</td>\n",
       "      <td>triangle</td>\n",
       "    </tr>\n",
       "  </tbody>\n",
       "</table>\n",
       "</div>"
      ],
      "text/plain": [
       "         Date  Price  Quantity     Width    Height    Quality      Score   \n",
       "12 1997-07-17   4678        11  4.184844  1.439039  57.280842  31.811877  \\\n",
       "89 1997-10-02    860        20  8.438626  1.365645  59.206916  44.121192   \n",
       "7  1997-07-12   4664        78  0.511937  6.524186  51.512058  46.378987   \n",
       "76 1997-09-19   5511        43  6.500964  7.182418  57.170493  44.590201   \n",
       "8  1997-07-13   3045        49  5.517514  5.975133  40.781258  51.486750   \n",
       "\n",
       "    Difference  Color     Shape  \n",
       "12   -1.818812  green  triangle  \n",
       "89   -0.587881    red    circle  \n",
       "7    -0.362101    red    square  \n",
       "76   -0.540980  green  triangle  \n",
       "8     0.148675    red  triangle  "
      ]
     },
     "execution_count": 144,
     "metadata": {},
     "output_type": "execute_result"
    }
   ],
   "source": [
    "df.sample(5)"
   ]
  },
  {
   "cell_type": "markdown",
   "id": "1259d5ba",
   "metadata": {
    "id": "1259d5ba"
   },
   "source": [
    "df.isnull()の使い方"
   ]
  },
  {
   "cell_type": "code",
   "execution_count": 145,
   "id": "70cbcb99",
   "metadata": {
    "id": "70cbcb99",
    "scrolled": true
   },
   "outputs": [
    {
     "data": {
      "text/html": [
       "<div>\n",
       "<style scoped>\n",
       "    .dataframe tbody tr th:only-of-type {\n",
       "        vertical-align: middle;\n",
       "    }\n",
       "\n",
       "    .dataframe tbody tr th {\n",
       "        vertical-align: top;\n",
       "    }\n",
       "\n",
       "    .dataframe thead th {\n",
       "        text-align: right;\n",
       "    }\n",
       "</style>\n",
       "<table border=\"1\" class=\"dataframe\">\n",
       "  <thead>\n",
       "    <tr style=\"text-align: right;\">\n",
       "      <th></th>\n",
       "      <th>Date</th>\n",
       "      <th>Price</th>\n",
       "      <th>Quantity</th>\n",
       "      <th>Width</th>\n",
       "      <th>Height</th>\n",
       "      <th>Quality</th>\n",
       "      <th>Score</th>\n",
       "      <th>Difference</th>\n",
       "      <th>Color</th>\n",
       "      <th>Shape</th>\n",
       "    </tr>\n",
       "  </thead>\n",
       "  <tbody>\n",
       "    <tr>\n",
       "      <th>0</th>\n",
       "      <td>False</td>\n",
       "      <td>False</td>\n",
       "      <td>False</td>\n",
       "      <td>False</td>\n",
       "      <td>False</td>\n",
       "      <td>False</td>\n",
       "      <td>False</td>\n",
       "      <td>False</td>\n",
       "      <td>False</td>\n",
       "      <td>False</td>\n",
       "    </tr>\n",
       "    <tr>\n",
       "      <th>1</th>\n",
       "      <td>False</td>\n",
       "      <td>False</td>\n",
       "      <td>False</td>\n",
       "      <td>False</td>\n",
       "      <td>False</td>\n",
       "      <td>False</td>\n",
       "      <td>False</td>\n",
       "      <td>False</td>\n",
       "      <td>False</td>\n",
       "      <td>True</td>\n",
       "    </tr>\n",
       "    <tr>\n",
       "      <th>2</th>\n",
       "      <td>False</td>\n",
       "      <td>False</td>\n",
       "      <td>False</td>\n",
       "      <td>False</td>\n",
       "      <td>False</td>\n",
       "      <td>False</td>\n",
       "      <td>False</td>\n",
       "      <td>False</td>\n",
       "      <td>False</td>\n",
       "      <td>False</td>\n",
       "    </tr>\n",
       "    <tr>\n",
       "      <th>3</th>\n",
       "      <td>False</td>\n",
       "      <td>False</td>\n",
       "      <td>False</td>\n",
       "      <td>False</td>\n",
       "      <td>False</td>\n",
       "      <td>False</td>\n",
       "      <td>False</td>\n",
       "      <td>False</td>\n",
       "      <td>False</td>\n",
       "      <td>False</td>\n",
       "    </tr>\n",
       "    <tr>\n",
       "      <th>4</th>\n",
       "      <td>True</td>\n",
       "      <td>False</td>\n",
       "      <td>False</td>\n",
       "      <td>False</td>\n",
       "      <td>False</td>\n",
       "      <td>False</td>\n",
       "      <td>True</td>\n",
       "      <td>False</td>\n",
       "      <td>False</td>\n",
       "      <td>False</td>\n",
       "    </tr>\n",
       "    <tr>\n",
       "      <th>...</th>\n",
       "      <td>...</td>\n",
       "      <td>...</td>\n",
       "      <td>...</td>\n",
       "      <td>...</td>\n",
       "      <td>...</td>\n",
       "      <td>...</td>\n",
       "      <td>...</td>\n",
       "      <td>...</td>\n",
       "      <td>...</td>\n",
       "      <td>...</td>\n",
       "    </tr>\n",
       "    <tr>\n",
       "      <th>95</th>\n",
       "      <td>False</td>\n",
       "      <td>False</td>\n",
       "      <td>False</td>\n",
       "      <td>False</td>\n",
       "      <td>False</td>\n",
       "      <td>False</td>\n",
       "      <td>False</td>\n",
       "      <td>False</td>\n",
       "      <td>False</td>\n",
       "      <td>False</td>\n",
       "    </tr>\n",
       "    <tr>\n",
       "      <th>96</th>\n",
       "      <td>False</td>\n",
       "      <td>False</td>\n",
       "      <td>False</td>\n",
       "      <td>False</td>\n",
       "      <td>False</td>\n",
       "      <td>False</td>\n",
       "      <td>False</td>\n",
       "      <td>False</td>\n",
       "      <td>False</td>\n",
       "      <td>False</td>\n",
       "    </tr>\n",
       "    <tr>\n",
       "      <th>97</th>\n",
       "      <td>False</td>\n",
       "      <td>False</td>\n",
       "      <td>False</td>\n",
       "      <td>False</td>\n",
       "      <td>False</td>\n",
       "      <td>False</td>\n",
       "      <td>False</td>\n",
       "      <td>False</td>\n",
       "      <td>False</td>\n",
       "      <td>False</td>\n",
       "    </tr>\n",
       "    <tr>\n",
       "      <th>98</th>\n",
       "      <td>False</td>\n",
       "      <td>False</td>\n",
       "      <td>False</td>\n",
       "      <td>False</td>\n",
       "      <td>False</td>\n",
       "      <td>False</td>\n",
       "      <td>False</td>\n",
       "      <td>False</td>\n",
       "      <td>False</td>\n",
       "      <td>False</td>\n",
       "    </tr>\n",
       "    <tr>\n",
       "      <th>99</th>\n",
       "      <td>False</td>\n",
       "      <td>False</td>\n",
       "      <td>False</td>\n",
       "      <td>False</td>\n",
       "      <td>False</td>\n",
       "      <td>False</td>\n",
       "      <td>True</td>\n",
       "      <td>False</td>\n",
       "      <td>False</td>\n",
       "      <td>True</td>\n",
       "    </tr>\n",
       "  </tbody>\n",
       "</table>\n",
       "<p>100 rows × 10 columns</p>\n",
       "</div>"
      ],
      "text/plain": [
       "     Date  Price  Quantity  Width  Height  Quality  Score  Difference  Color   \n",
       "0   False  False     False  False   False    False  False       False  False  \\\n",
       "1   False  False     False  False   False    False  False       False  False   \n",
       "2   False  False     False  False   False    False  False       False  False   \n",
       "3   False  False     False  False   False    False  False       False  False   \n",
       "4    True  False     False  False   False    False   True       False  False   \n",
       "..    ...    ...       ...    ...     ...      ...    ...         ...    ...   \n",
       "95  False  False     False  False   False    False  False       False  False   \n",
       "96  False  False     False  False   False    False  False       False  False   \n",
       "97  False  False     False  False   False    False  False       False  False   \n",
       "98  False  False     False  False   False    False  False       False  False   \n",
       "99  False  False     False  False   False    False   True       False  False   \n",
       "\n",
       "    Shape  \n",
       "0   False  \n",
       "1    True  \n",
       "2   False  \n",
       "3   False  \n",
       "4   False  \n",
       "..    ...  \n",
       "95  False  \n",
       "96  False  \n",
       "97  False  \n",
       "98  False  \n",
       "99   True  \n",
       "\n",
       "[100 rows x 10 columns]"
      ]
     },
     "execution_count": 145,
     "metadata": {},
     "output_type": "execute_result"
    }
   ],
   "source": [
    "df.isnull()"
   ]
  },
  {
   "cell_type": "code",
   "execution_count": 146,
   "id": "22JqD17_IL8S",
   "metadata": {
    "id": "22JqD17_IL8S"
   },
   "outputs": [
    {
     "data": {
      "text/plain": [
       "Date          3\n",
       "Price         0\n",
       "Quantity      0\n",
       "Width         3\n",
       "Height        3\n",
       "Quality       4\n",
       "Score         7\n",
       "Difference    1\n",
       "Color         4\n",
       "Shape         5\n",
       "dtype: int64"
      ]
     },
     "execution_count": 146,
     "metadata": {},
     "output_type": "execute_result"
    }
   ],
   "source": [
    "df.isnull().sum()"
   ]
  },
  {
   "cell_type": "code",
   "execution_count": 147,
   "id": "h0bJWiydIjhs",
   "metadata": {
    "id": "h0bJWiydIjhs"
   },
   "outputs": [
    {
     "data": {
      "text/plain": [
       "30"
      ]
     },
     "execution_count": 147,
     "metadata": {},
     "output_type": "execute_result"
    }
   ],
   "source": [
    "df.isnull().sum().sum()"
   ]
  },
  {
   "cell_type": "code",
   "execution_count": 148,
   "id": "rNANinenIyGe",
   "metadata": {
    "id": "rNANinenIyGe"
   },
   "outputs": [
    {
     "name": "stdout",
     "output_type": "stream",
     "text": [
      "<class 'pandas.core.frame.DataFrame'>\n",
      "RangeIndex: 100 entries, 0 to 99\n",
      "Data columns (total 10 columns):\n",
      " #   Column      Non-Null Count  Dtype         \n",
      "---  ------      --------------  -----         \n",
      " 0   Date        97 non-null     datetime64[ns]\n",
      " 1   Price       100 non-null    int64         \n",
      " 2   Quantity    100 non-null    int64         \n",
      " 3   Width       97 non-null     float64       \n",
      " 4   Height      97 non-null     float64       \n",
      " 5   Quality     96 non-null     float64       \n",
      " 6   Score       93 non-null     float64       \n",
      " 7   Difference  99 non-null     float64       \n",
      " 8   Color       96 non-null     object        \n",
      " 9   Shape       95 non-null     object        \n",
      "dtypes: datetime64[ns](1), float64(5), int64(2), object(2)\n",
      "memory usage: 7.9+ KB\n"
     ]
    }
   ],
   "source": [
    "df.info()"
   ]
  },
  {
   "cell_type": "code",
   "execution_count": 149,
   "id": "Z8jr-e9XJCmg",
   "metadata": {
    "id": "Z8jr-e9XJCmg"
   },
   "outputs": [
    {
     "data": {
      "text/plain": [
       "Date          100\n",
       "Price         100\n",
       "Quantity      100\n",
       "Width         100\n",
       "Height        100\n",
       "Quality       100\n",
       "Score         100\n",
       "Difference    100\n",
       "Color         100\n",
       "Shape         100\n",
       "dtype: int64"
      ]
     },
     "execution_count": 149,
     "metadata": {},
     "output_type": "execute_result"
    }
   ],
   "source": [
    "df.isnull().count()\n",
    "# True, Falseそれぞれをひとつの値としてカウントする"
   ]
  },
  {
   "cell_type": "code",
   "execution_count": 150,
   "id": "ujoi-5bFJ1ST",
   "metadata": {
    "id": "ujoi-5bFJ1ST"
   },
   "outputs": [
    {
     "data": {
      "text/plain": [
       "1000"
      ]
     },
     "execution_count": 150,
     "metadata": {},
     "output_type": "execute_result"
    }
   ],
   "source": [
    "df.isnull().size\n",
    "# rows * columns"
   ]
  },
  {
   "cell_type": "code",
   "execution_count": 151,
   "id": "8PQeaNDhJ8VP",
   "metadata": {
    "id": "8PQeaNDhJ8VP"
   },
   "outputs": [
    {
     "data": {
      "text/plain": [
       "Date           97\n",
       "Price         100\n",
       "Quantity      100\n",
       "Width          97\n",
       "Height         97\n",
       "Quality        96\n",
       "Score          93\n",
       "Difference     99\n",
       "Color          96\n",
       "Shape          95\n",
       "dtype: int64"
      ]
     },
     "execution_count": 151,
     "metadata": {},
     "output_type": "execute_result"
    }
   ],
   "source": [
    "df.count()\n",
    "# nullをカウントしない"
   ]
  },
  {
   "cell_type": "markdown",
   "id": "07acea96",
   "metadata": {
    "id": "07acea96"
   },
   "source": [
    "欠損値のある行を表示"
   ]
  },
  {
   "cell_type": "code",
   "execution_count": 152,
   "id": "7643c09a",
   "metadata": {
    "id": "7643c09a",
    "scrolled": true
   },
   "outputs": [
    {
     "data": {
      "text/plain": [
       "Date          3\n",
       "Price         0\n",
       "Quantity      0\n",
       "Width         3\n",
       "Height        3\n",
       "Quality       4\n",
       "Score         7\n",
       "Difference    1\n",
       "Color         4\n",
       "Shape         5\n",
       "dtype: int64"
      ]
     },
     "execution_count": 152,
     "metadata": {},
     "output_type": "execute_result"
    }
   ],
   "source": [
    "df.isnull().sum()"
   ]
  },
  {
   "cell_type": "code",
   "execution_count": 153,
   "id": "jfApb27ONmrj",
   "metadata": {
    "id": "jfApb27ONmrj"
   },
   "outputs": [
    {
     "data": {
      "text/plain": [
       "0     0\n",
       "1     1\n",
       "2     0\n",
       "3     0\n",
       "4     2\n",
       "     ..\n",
       "95    0\n",
       "96    0\n",
       "97    0\n",
       "98    0\n",
       "99    2\n",
       "Length: 100, dtype: int64"
      ]
     },
     "execution_count": 153,
     "metadata": {},
     "output_type": "execute_result"
    }
   ],
   "source": [
    "df.isnull().sum(axis=1)"
   ]
  },
  {
   "cell_type": "code",
   "execution_count": 154,
   "id": "Xaoj7eLvN3IQ",
   "metadata": {
    "id": "Xaoj7eLvN3IQ"
   },
   "outputs": [
    {
     "data": {
      "text/plain": [
       "0     False\n",
       "1      True\n",
       "2     False\n",
       "3     False\n",
       "4      True\n",
       "      ...  \n",
       "95    False\n",
       "96    False\n",
       "97    False\n",
       "98    False\n",
       "99     True\n",
       "Length: 100, dtype: bool"
      ]
     },
     "execution_count": 154,
     "metadata": {},
     "output_type": "execute_result"
    }
   ],
   "source": [
    "0 < df.isnull().sum(axis=1)"
   ]
  },
  {
   "cell_type": "code",
   "execution_count": 155,
   "id": "dsvyk8LRODtt",
   "metadata": {
    "id": "dsvyk8LRODtt"
   },
   "outputs": [],
   "source": [
    "# df[np.random.choice([True, False], 100)]\n",
    "# Trueならば抽出され、Falseならば抽出されない"
   ]
  },
  {
   "cell_type": "code",
   "execution_count": 156,
   "id": "FyZ-sZMdPTap",
   "metadata": {
    "id": "FyZ-sZMdPTap"
   },
   "outputs": [
    {
     "data": {
      "text/html": [
       "<div>\n",
       "<style scoped>\n",
       "    .dataframe tbody tr th:only-of-type {\n",
       "        vertical-align: middle;\n",
       "    }\n",
       "\n",
       "    .dataframe tbody tr th {\n",
       "        vertical-align: top;\n",
       "    }\n",
       "\n",
       "    .dataframe thead th {\n",
       "        text-align: right;\n",
       "    }\n",
       "</style>\n",
       "<table border=\"1\" class=\"dataframe\">\n",
       "  <thead>\n",
       "    <tr style=\"text-align: right;\">\n",
       "      <th></th>\n",
       "      <th>Date</th>\n",
       "      <th>Price</th>\n",
       "      <th>Quantity</th>\n",
       "      <th>Width</th>\n",
       "      <th>Height</th>\n",
       "      <th>Quality</th>\n",
       "      <th>Score</th>\n",
       "      <th>Difference</th>\n",
       "      <th>Color</th>\n",
       "      <th>Shape</th>\n",
       "    </tr>\n",
       "  </thead>\n",
       "  <tbody>\n",
       "    <tr>\n",
       "      <th>1</th>\n",
       "      <td>1997-07-06</td>\n",
       "      <td>506</td>\n",
       "      <td>16</td>\n",
       "      <td>1.915208</td>\n",
       "      <td>0.679004</td>\n",
       "      <td>50.611735</td>\n",
       "      <td>31.453719</td>\n",
       "      <td>-1.854628</td>\n",
       "      <td>blue</td>\n",
       "      <td>NaN</td>\n",
       "    </tr>\n",
       "    <tr>\n",
       "      <th>4</th>\n",
       "      <td>NaT</td>\n",
       "      <td>8570</td>\n",
       "      <td>55</td>\n",
       "      <td>0.390629</td>\n",
       "      <td>3.578136</td>\n",
       "      <td>55.739709</td>\n",
       "      <td>NaN</td>\n",
       "      <td>1.037190</td>\n",
       "      <td>red</td>\n",
       "      <td>square</td>\n",
       "    </tr>\n",
       "    <tr>\n",
       "      <th>9</th>\n",
       "      <td>1997-07-14</td>\n",
       "      <td>1874</td>\n",
       "      <td>94</td>\n",
       "      <td>4.835286</td>\n",
       "      <td>NaN</td>\n",
       "      <td>47.156272</td>\n",
       "      <td>45.622168</td>\n",
       "      <td>-0.437783</td>\n",
       "      <td>red</td>\n",
       "      <td>circle</td>\n",
       "    </tr>\n",
       "    <tr>\n",
       "      <th>10</th>\n",
       "      <td>1997-07-15</td>\n",
       "      <td>5916</td>\n",
       "      <td>54</td>\n",
       "      <td>2.977257</td>\n",
       "      <td>5.615089</td>\n",
       "      <td>58.913664</td>\n",
       "      <td>71.712570</td>\n",
       "      <td>2.171257</td>\n",
       "      <td>green</td>\n",
       "      <td>NaN</td>\n",
       "    </tr>\n",
       "    <tr>\n",
       "      <th>15</th>\n",
       "      <td>1997-07-20</td>\n",
       "      <td>7530</td>\n",
       "      <td>66</td>\n",
       "      <td>1.987739</td>\n",
       "      <td>8.313639</td>\n",
       "      <td>53.048372</td>\n",
       "      <td>NaN</td>\n",
       "      <td>-1.775282</td>\n",
       "      <td>blue</td>\n",
       "      <td>square</td>\n",
       "    </tr>\n",
       "    <tr>\n",
       "      <th>19</th>\n",
       "      <td>1997-07-24</td>\n",
       "      <td>4893</td>\n",
       "      <td>16</td>\n",
       "      <td>4.449961</td>\n",
       "      <td>8.879824</td>\n",
       "      <td>45.659763</td>\n",
       "      <td>47.499726</td>\n",
       "      <td>-0.250027</td>\n",
       "      <td>None</td>\n",
       "      <td>circle</td>\n",
       "    </tr>\n",
       "    <tr>\n",
       "      <th>24</th>\n",
       "      <td>1997-07-29</td>\n",
       "      <td>2180</td>\n",
       "      <td>27</td>\n",
       "      <td>7.769746</td>\n",
       "      <td>8.379915</td>\n",
       "      <td>48.369688</td>\n",
       "      <td>41.936399</td>\n",
       "      <td>-0.806360</td>\n",
       "      <td>green</td>\n",
       "      <td>NaN</td>\n",
       "    </tr>\n",
       "    <tr>\n",
       "      <th>25</th>\n",
       "      <td>NaT</td>\n",
       "      <td>2977</td>\n",
       "      <td>59</td>\n",
       "      <td>8.293048</td>\n",
       "      <td>0.291570</td>\n",
       "      <td>42.878078</td>\n",
       "      <td>51.312678</td>\n",
       "      <td>0.131268</td>\n",
       "      <td>green</td>\n",
       "      <td>triangle</td>\n",
       "    </tr>\n",
       "    <tr>\n",
       "      <th>34</th>\n",
       "      <td>1997-08-08</td>\n",
       "      <td>2894</td>\n",
       "      <td>66</td>\n",
       "      <td>NaN</td>\n",
       "      <td>9.161101</td>\n",
       "      <td>50.899971</td>\n",
       "      <td>59.682053</td>\n",
       "      <td>0.968205</td>\n",
       "      <td>blue</td>\n",
       "      <td>square</td>\n",
       "    </tr>\n",
       "    <tr>\n",
       "      <th>37</th>\n",
       "      <td>1997-08-11</td>\n",
       "      <td>4768</td>\n",
       "      <td>60</td>\n",
       "      <td>0.827355</td>\n",
       "      <td>6.754864</td>\n",
       "      <td>42.369445</td>\n",
       "      <td>54.652823</td>\n",
       "      <td>0.465282</td>\n",
       "      <td>NaN</td>\n",
       "      <td>circle</td>\n",
       "    </tr>\n",
       "    <tr>\n",
       "      <th>40</th>\n",
       "      <td>1997-08-14</td>\n",
       "      <td>2431</td>\n",
       "      <td>18</td>\n",
       "      <td>2.201921</td>\n",
       "      <td>2.453724</td>\n",
       "      <td>55.945355</td>\n",
       "      <td>38.445867</td>\n",
       "      <td>-1.155413</td>\n",
       "      <td>None</td>\n",
       "      <td>triangle</td>\n",
       "    </tr>\n",
       "    <tr>\n",
       "      <th>41</th>\n",
       "      <td>1997-08-15</td>\n",
       "      <td>4063</td>\n",
       "      <td>61</td>\n",
       "      <td>7.274125</td>\n",
       "      <td>0.641278</td>\n",
       "      <td>41.359575</td>\n",
       "      <td>83.451574</td>\n",
       "      <td>3.345157</td>\n",
       "      <td>red</td>\n",
       "      <td>NaN</td>\n",
       "    </tr>\n",
       "    <tr>\n",
       "      <th>42</th>\n",
       "      <td>1997-08-16</td>\n",
       "      <td>6307</td>\n",
       "      <td>37</td>\n",
       "      <td>NaN</td>\n",
       "      <td>4.876773</td>\n",
       "      <td>59.215755</td>\n",
       "      <td>51.267272</td>\n",
       "      <td>0.126727</td>\n",
       "      <td>green</td>\n",
       "      <td>square</td>\n",
       "    </tr>\n",
       "    <tr>\n",
       "      <th>44</th>\n",
       "      <td>1997-08-18</td>\n",
       "      <td>3263</td>\n",
       "      <td>73</td>\n",
       "      <td>5.736099</td>\n",
       "      <td>9.603458</td>\n",
       "      <td>NaN</td>\n",
       "      <td>55.576744</td>\n",
       "      <td>0.557674</td>\n",
       "      <td>blue</td>\n",
       "      <td>triangle</td>\n",
       "    </tr>\n",
       "    <tr>\n",
       "      <th>46</th>\n",
       "      <td>1997-08-20</td>\n",
       "      <td>722</td>\n",
       "      <td>66</td>\n",
       "      <td>9.880067</td>\n",
       "      <td>8.328709</td>\n",
       "      <td>57.754727</td>\n",
       "      <td>56.379262</td>\n",
       "      <td>NaN</td>\n",
       "      <td>red</td>\n",
       "      <td>circle</td>\n",
       "    </tr>\n",
       "    <tr>\n",
       "      <th>47</th>\n",
       "      <td>1997-08-21</td>\n",
       "      <td>1838</td>\n",
       "      <td>67</td>\n",
       "      <td>4.981437</td>\n",
       "      <td>NaN</td>\n",
       "      <td>42.678913</td>\n",
       "      <td>57.031107</td>\n",
       "      <td>0.703111</td>\n",
       "      <td>green</td>\n",
       "      <td>triangle</td>\n",
       "    </tr>\n",
       "    <tr>\n",
       "      <th>53</th>\n",
       "      <td>1997-08-27</td>\n",
       "      <td>888</td>\n",
       "      <td>59</td>\n",
       "      <td>1.193864</td>\n",
       "      <td>5.209595</td>\n",
       "      <td>48.745040</td>\n",
       "      <td>NaN</td>\n",
       "      <td>-0.581410</td>\n",
       "      <td>green</td>\n",
       "      <td>triangle</td>\n",
       "    </tr>\n",
       "    <tr>\n",
       "      <th>67</th>\n",
       "      <td>1997-09-10</td>\n",
       "      <td>4513</td>\n",
       "      <td>22</td>\n",
       "      <td>2.355312</td>\n",
       "      <td>NaN</td>\n",
       "      <td>55.363809</td>\n",
       "      <td>50.835544</td>\n",
       "      <td>0.083554</td>\n",
       "      <td>green</td>\n",
       "      <td>triangle</td>\n",
       "    </tr>\n",
       "    <tr>\n",
       "      <th>72</th>\n",
       "      <td>1997-09-15</td>\n",
       "      <td>5985</td>\n",
       "      <td>13</td>\n",
       "      <td>3.472464</td>\n",
       "      <td>2.145170</td>\n",
       "      <td>NaN</td>\n",
       "      <td>53.930947</td>\n",
       "      <td>0.393095</td>\n",
       "      <td>green</td>\n",
       "      <td>square</td>\n",
       "    </tr>\n",
       "    <tr>\n",
       "      <th>73</th>\n",
       "      <td>1997-09-16</td>\n",
       "      <td>6354</td>\n",
       "      <td>84</td>\n",
       "      <td>7.945283</td>\n",
       "      <td>7.917093</td>\n",
       "      <td>54.312865</td>\n",
       "      <td>56.844951</td>\n",
       "      <td>0.684495</td>\n",
       "      <td>None</td>\n",
       "      <td>triangle</td>\n",
       "    </tr>\n",
       "    <tr>\n",
       "      <th>75</th>\n",
       "      <td>1997-09-18</td>\n",
       "      <td>4239</td>\n",
       "      <td>69</td>\n",
       "      <td>0.558966</td>\n",
       "      <td>2.324704</td>\n",
       "      <td>53.509729</td>\n",
       "      <td>NaN</td>\n",
       "      <td>0.556003</td>\n",
       "      <td>blue</td>\n",
       "      <td>circle</td>\n",
       "    </tr>\n",
       "    <tr>\n",
       "      <th>82</th>\n",
       "      <td>NaT</td>\n",
       "      <td>4236</td>\n",
       "      <td>56</td>\n",
       "      <td>2.071701</td>\n",
       "      <td>9.561883</td>\n",
       "      <td>54.548250</td>\n",
       "      <td>50.572798</td>\n",
       "      <td>0.057280</td>\n",
       "      <td>blue</td>\n",
       "      <td>square</td>\n",
       "    </tr>\n",
       "    <tr>\n",
       "      <th>83</th>\n",
       "      <td>1997-09-26</td>\n",
       "      <td>2854</td>\n",
       "      <td>53</td>\n",
       "      <td>9.868105</td>\n",
       "      <td>8.293788</td>\n",
       "      <td>41.282555</td>\n",
       "      <td>NaN</td>\n",
       "      <td>-1.040172</td>\n",
       "      <td>red</td>\n",
       "      <td>triangle</td>\n",
       "    </tr>\n",
       "    <tr>\n",
       "      <th>85</th>\n",
       "      <td>1997-09-28</td>\n",
       "      <td>6035</td>\n",
       "      <td>72</td>\n",
       "      <td>NaN</td>\n",
       "      <td>1.061134</td>\n",
       "      <td>49.753547</td>\n",
       "      <td>48.799655</td>\n",
       "      <td>-0.120035</td>\n",
       "      <td>blue</td>\n",
       "      <td>circle</td>\n",
       "    </tr>\n",
       "    <tr>\n",
       "      <th>88</th>\n",
       "      <td>1997-10-01</td>\n",
       "      <td>1702</td>\n",
       "      <td>77</td>\n",
       "      <td>2.610089</td>\n",
       "      <td>5.301368</td>\n",
       "      <td>51.472199</td>\n",
       "      <td>NaN</td>\n",
       "      <td>1.233529</td>\n",
       "      <td>green</td>\n",
       "      <td>circle</td>\n",
       "    </tr>\n",
       "    <tr>\n",
       "      <th>92</th>\n",
       "      <td>1997-10-05</td>\n",
       "      <td>8057</td>\n",
       "      <td>60</td>\n",
       "      <td>5.927891</td>\n",
       "      <td>0.157152</td>\n",
       "      <td>NaN</td>\n",
       "      <td>78.711269</td>\n",
       "      <td>2.871127</td>\n",
       "      <td>blue</td>\n",
       "      <td>square</td>\n",
       "    </tr>\n",
       "    <tr>\n",
       "      <th>93</th>\n",
       "      <td>1997-10-06</td>\n",
       "      <td>7691</td>\n",
       "      <td>11</td>\n",
       "      <td>5.859937</td>\n",
       "      <td>4.086629</td>\n",
       "      <td>NaN</td>\n",
       "      <td>37.919143</td>\n",
       "      <td>-1.208086</td>\n",
       "      <td>green</td>\n",
       "      <td>circle</td>\n",
       "    </tr>\n",
       "    <tr>\n",
       "      <th>99</th>\n",
       "      <td>1997-10-12</td>\n",
       "      <td>1578</td>\n",
       "      <td>77</td>\n",
       "      <td>9.868106</td>\n",
       "      <td>5.397452</td>\n",
       "      <td>56.472400</td>\n",
       "      <td>NaN</td>\n",
       "      <td>2.215901</td>\n",
       "      <td>red</td>\n",
       "      <td>None</td>\n",
       "    </tr>\n",
       "  </tbody>\n",
       "</table>\n",
       "</div>"
      ],
      "text/plain": [
       "         Date  Price  Quantity     Width    Height    Quality      Score   \n",
       "1  1997-07-06    506        16  1.915208  0.679004  50.611735  31.453719  \\\n",
       "4         NaT   8570        55  0.390629  3.578136  55.739709        NaN   \n",
       "9  1997-07-14   1874        94  4.835286       NaN  47.156272  45.622168   \n",
       "10 1997-07-15   5916        54  2.977257  5.615089  58.913664  71.712570   \n",
       "15 1997-07-20   7530        66  1.987739  8.313639  53.048372        NaN   \n",
       "19 1997-07-24   4893        16  4.449961  8.879824  45.659763  47.499726   \n",
       "24 1997-07-29   2180        27  7.769746  8.379915  48.369688  41.936399   \n",
       "25        NaT   2977        59  8.293048  0.291570  42.878078  51.312678   \n",
       "34 1997-08-08   2894        66       NaN  9.161101  50.899971  59.682053   \n",
       "37 1997-08-11   4768        60  0.827355  6.754864  42.369445  54.652823   \n",
       "40 1997-08-14   2431        18  2.201921  2.453724  55.945355  38.445867   \n",
       "41 1997-08-15   4063        61  7.274125  0.641278  41.359575  83.451574   \n",
       "42 1997-08-16   6307        37       NaN  4.876773  59.215755  51.267272   \n",
       "44 1997-08-18   3263        73  5.736099  9.603458        NaN  55.576744   \n",
       "46 1997-08-20    722        66  9.880067  8.328709  57.754727  56.379262   \n",
       "47 1997-08-21   1838        67  4.981437       NaN  42.678913  57.031107   \n",
       "53 1997-08-27    888        59  1.193864  5.209595  48.745040        NaN   \n",
       "67 1997-09-10   4513        22  2.355312       NaN  55.363809  50.835544   \n",
       "72 1997-09-15   5985        13  3.472464  2.145170        NaN  53.930947   \n",
       "73 1997-09-16   6354        84  7.945283  7.917093  54.312865  56.844951   \n",
       "75 1997-09-18   4239        69  0.558966  2.324704  53.509729        NaN   \n",
       "82        NaT   4236        56  2.071701  9.561883  54.548250  50.572798   \n",
       "83 1997-09-26   2854        53  9.868105  8.293788  41.282555        NaN   \n",
       "85 1997-09-28   6035        72       NaN  1.061134  49.753547  48.799655   \n",
       "88 1997-10-01   1702        77  2.610089  5.301368  51.472199        NaN   \n",
       "92 1997-10-05   8057        60  5.927891  0.157152        NaN  78.711269   \n",
       "93 1997-10-06   7691        11  5.859937  4.086629        NaN  37.919143   \n",
       "99 1997-10-12   1578        77  9.868106  5.397452  56.472400        NaN   \n",
       "\n",
       "    Difference  Color     Shape  \n",
       "1    -1.854628   blue       NaN  \n",
       "4     1.037190    red    square  \n",
       "9    -0.437783    red    circle  \n",
       "10    2.171257  green       NaN  \n",
       "15   -1.775282   blue    square  \n",
       "19   -0.250027   None    circle  \n",
       "24   -0.806360  green       NaN  \n",
       "25    0.131268  green  triangle  \n",
       "34    0.968205   blue    square  \n",
       "37    0.465282    NaN    circle  \n",
       "40   -1.155413   None  triangle  \n",
       "41    3.345157    red       NaN  \n",
       "42    0.126727  green    square  \n",
       "44    0.557674   blue  triangle  \n",
       "46         NaN    red    circle  \n",
       "47    0.703111  green  triangle  \n",
       "53   -0.581410  green  triangle  \n",
       "67    0.083554  green  triangle  \n",
       "72    0.393095  green    square  \n",
       "73    0.684495   None  triangle  \n",
       "75    0.556003   blue    circle  \n",
       "82    0.057280   blue    square  \n",
       "83   -1.040172    red  triangle  \n",
       "85   -0.120035   blue    circle  \n",
       "88    1.233529  green    circle  \n",
       "92    2.871127   blue    square  \n",
       "93   -1.208086  green    circle  \n",
       "99    2.215901    red      None  "
      ]
     },
     "execution_count": 156,
     "metadata": {},
     "output_type": "execute_result"
    }
   ],
   "source": [
    "# df[CONDITION]\n",
    "df[0 < df.isnull().sum(axis=1)]"
   ]
  },
  {
   "cell_type": "code",
   "execution_count": 157,
   "id": "Eyev_tTqQZ-H",
   "metadata": {
    "id": "Eyev_tTqQZ-H"
   },
   "outputs": [
    {
     "ename": "TypeError",
     "evalue": "Styler.highlight_null() got an unexpected keyword argument 'null_color'",
     "output_type": "error",
     "traceback": [
      "\u001b[0;31m---------------------------------------------------------------------------\u001b[0m",
      "\u001b[0;31mTypeError\u001b[0m                                 Traceback (most recent call last)",
      "Cell \u001b[0;32mIn[157], line 1\u001b[0m\n\u001b[0;32m----> 1\u001b[0m df[\u001b[39m0\u001b[39;49m \u001b[39m<\u001b[39;49m df\u001b[39m.\u001b[39;49misnull()\u001b[39m.\u001b[39;49msum(axis\u001b[39m=\u001b[39;49m\u001b[39m1\u001b[39;49m)]\u001b[39m.\u001b[39;49mstyle\u001b[39m.\u001b[39;49mhighlight_null(null_color\u001b[39m=\u001b[39;49m\u001b[39m'\u001b[39;49m\u001b[39m#f00\u001b[39;49m\u001b[39m'\u001b[39;49m)\n",
      "\u001b[0;31mTypeError\u001b[0m: Styler.highlight_null() got an unexpected keyword argument 'null_color'"
     ]
    }
   ],
   "source": [
    "df[0 < df.isnull().sum(axis=1)].style.highlight_null(null_color='#f00')"
   ]
  },
  {
   "cell_type": "markdown",
   "id": "002ab684",
   "metadata": {
    "id": "002ab684"
   },
   "source": [
    "nullは平均値の計算などに影響するか"
   ]
  },
  {
   "cell_type": "code",
   "execution_count": 158,
   "id": "9fb55b9d",
   "metadata": {
    "id": "9fb55b9d"
   },
   "outputs": [
    {
     "data": {
      "text/plain": [
       "51.022066593933225"
      ]
     },
     "execution_count": 158,
     "metadata": {},
     "output_type": "execute_result"
    }
   ],
   "source": [
    "df['Score'].mean()"
   ]
  },
  {
   "cell_type": "code",
   "execution_count": 159,
   "id": "VfS2hefcRxE5",
   "metadata": {
    "id": "VfS2hefcRxE5"
   },
   "outputs": [
    {
     "data": {
      "text/plain": [
       "4745.05219323579"
      ]
     },
     "execution_count": 159,
     "metadata": {},
     "output_type": "execute_result"
    }
   ],
   "source": [
    "df['Score'].sum()"
   ]
  },
  {
   "cell_type": "code",
   "execution_count": 160,
   "id": "bRVWw7TzSGZM",
   "metadata": {
    "id": "bRVWw7TzSGZM"
   },
   "outputs": [
    {
     "data": {
      "text/plain": [
       "93.0"
      ]
     },
     "execution_count": 160,
     "metadata": {},
     "output_type": "execute_result"
    }
   ],
   "source": [
    "df['Score'].sum() / df['Score'].mean()"
   ]
  },
  {
   "cell_type": "code",
   "execution_count": 161,
   "id": "qXF1wju7SRVd",
   "metadata": {
    "id": "qXF1wju7SRVd"
   },
   "outputs": [
    {
     "data": {
      "text/plain": [
       "93"
      ]
     },
     "execution_count": 161,
     "metadata": {},
     "output_type": "execute_result"
    }
   ],
   "source": [
    "df['Score'].count()"
   ]
  },
  {
   "cell_type": "markdown",
   "id": "c956a442",
   "metadata": {
    "id": "c956a442"
   },
   "source": [
    "欠損値の有無を視覚化  \n",
    "※ seabornやグラフについての詳細は別のレクチャーで解説します"
   ]
  },
  {
   "cell_type": "code",
   "execution_count": 162,
   "id": "2bfde741",
   "metadata": {
    "id": "2bfde741"
   },
   "outputs": [
    {
     "data": {
      "image/png": "[encoded data removed]",
      "text/plain": [
       "<Figure size 1200x600 with 1 Axes>"
      ]
     },
     "metadata": {},
     "output_type": "display_data"
    }
   ],
   "source": [
    "plt.figure(figsize=(12, 6))\n",
    "sns.heatmap(df.isnull(), yticklabels=False, cbar=False)\n",
    "plt.show()"
   ]
  },
  {
   "cell_type": "markdown",
   "id": "3d0e4b43",
   "metadata": {
    "id": "3d0e4b43"
   },
   "source": [
    "---\n",
    "<a id=6></a>\n",
    "[Topへ](#0)\n",
    "\n",
    "---\n",
    "## 6.DataFrameを別のファイルとして保存\n",
    "---"
   ]
  },
  {
   "cell_type": "code",
   "execution_count": 163,
   "id": "ZHWLuhEjREia",
   "metadata": {
    "id": "ZHWLuhEjREia"
   },
   "outputs": [],
   "source": [
    "# ColaboratoryからDriveへアクセスできるようにする\n",
    "# from google.colab import drive"
   ]
  },
  {
   "cell_type": "code",
   "execution_count": 164,
   "id": "PQOhTyh4SSRB",
   "metadata": {
    "id": "PQOhTyh4SSRB"
   },
   "outputs": [],
   "source": [
    "# drive.mount('/drive')\n",
    "# # マウント = アクセスできる状態にすること"
   ]
  },
  {
   "cell_type": "code",
   "execution_count": 165,
   "id": "pfFT4mJuSbEA",
   "metadata": {
    "id": "pfFT4mJuSbEA"
   },
   "outputs": [],
   "source": [
    "# df.to_csv('/drive/My Drive/sample1_with_index.csv')\n",
    "df.to_csv('sample1_with_index.csv')"
   ]
  },
  {
   "cell_type": "code",
   "execution_count": 166,
   "id": "f9iX4ncPUDj6",
   "metadata": {
    "id": "f9iX4ncPUDj6"
   },
   "outputs": [],
   "source": [
    "# df.to_csv('/drive/My Drive/sample1_without_index.csv', index=False)\n",
    "df.to_csv('sample1_without_index.csv', index=False)"
   ]
  },
  {
   "cell_type": "code",
   "execution_count": 167,
   "id": "pfynBGz1UNQw",
   "metadata": {
    "id": "pfynBGz1UNQw"
   },
   "outputs": [],
   "source": [
    "# df.to_pickle('/drive/My Drive/sample1.pkl')\n",
    "df.to_pickle('sample1.pkl')"
   ]
  },
  {
   "cell_type": "markdown",
   "id": "ea75d049",
   "metadata": {
    "id": "ea75d049"
   },
   "source": [
    "---\n",
    "[Topへ](#0)\n",
    "\n",
    "---\n",
    "## 以上\n",
    "---"
   ]
  }
 ],
 "metadata": {
  "colab": {
   "provenance": []
  },
  "kernelspec": {
   "display_name": "Python 3",
   "language": "python",
   "name": "python3"
  },
  "language_info": {
   "codemirror_mode": {
    "name": "ipython",
    "version": 3
   },
   "file_extension": ".py",
   "mimetype": "text/x-python",
   "name": "python",
   "nbconvert_exporter": "python",
   "pygments_lexer": "ipython3",
   "version": "3.11.3"
  }
 },
 "nbformat": 4,
 "nbformat_minor": 5
}
