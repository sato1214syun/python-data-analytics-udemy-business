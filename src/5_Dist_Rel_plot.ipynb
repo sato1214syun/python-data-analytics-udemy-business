{
 "cells": [
  {
   "cell_type": "markdown",
   "id": "23c6d4cc",
   "metadata": {},
   "source": [
    "<a id=0></a>\n",
    "# 5.Distribution & Relational Plot"
   ]
  },
  {
   "cell_type": "markdown",
   "id": "cfd115fa",
   "metadata": {},
   "source": [
    "---\n",
    "### [1.SearbornのデータセットからDataFrameを作成 ](#1)\n",
    "### [2.Distribution Plot ](#2)\n",
    "### [3.Relational Plot](#3)\n",
    "### [4. Pandas Supplement : DatetimeIndex & map](#4)\n",
    "---"
   ]
  },
  {
   "cell_type": "code",
   "execution_count": null,
   "id": "5f4b23d4",
   "metadata": {
    "scrolled": false
   },
   "outputs": [],
   "source": [
    "import numpy as np\n",
    "import pandas as pd\n",
    "import matplotlib.pyplot as plt\n",
    "import seaborn as sns"
   ]
  },
  {
   "cell_type": "markdown",
   "id": "cff153af",
   "metadata": {},
   "source": [
    "---\n",
    "<a id=1></a>\n",
    "[Topへ](#0)\n",
    "\n",
    "---\n",
    "## 1. SearbornのデータセットからDataFrameを作成"
   ]
  },
  {
   "cell_type": "markdown",
   "id": "75b9359b",
   "metadata": {},
   "source": [
    "* データセット(penguins)を読み込む\n",
    "* データセットの整理\n",
    "---"
   ]
  },
  {
   "cell_type": "markdown",
   "id": "68f0ca02",
   "metadata": {},
   "source": [
    "データセット('penguins')を読み込む"
   ]
  },
  {
   "cell_type": "code",
   "execution_count": null,
   "id": "6b6fac15",
   "metadata": {},
   "outputs": [],
   "source": [
    "# sns.get_dataset_names()"
   ]
  },
  {
   "cell_type": "code",
   "execution_count": null,
   "id": "db05d790",
   "metadata": {},
   "outputs": [],
   "source": [
    "df = sns.load_dataset('penguins')\n",
    "df.head()"
   ]
  },
  {
   "cell_type": "markdown",
   "id": "dbd6c539",
   "metadata": {},
   "source": [
    "データセットの整理"
   ]
  },
  {
   "cell_type": "markdown",
   "id": "404e5d76",
   "metadata": {},
   "source": [
    "<p>\n",
    "    <a href=\"https://www.kaggle.com/datasets/larsen0966/penguins?sort=votes\" target=\"_blank\" rel=\"noreferrer noopener\">\n",
    "        Kaggle Dataset Penguins のページへ\n",
    "    </a>\n",
    "</p>\n",
    "\n",
    "    bill        : くちばし  \n",
    "    flipper     : 翼\n",
    "    body_mass_g : 体重    "
   ]
  },
  {
   "cell_type": "code",
   "execution_count": null,
   "id": "37f3c0fc",
   "metadata": {},
   "outputs": [],
   "source": [
    "df.shape"
   ]
  },
  {
   "cell_type": "code",
   "execution_count": null,
   "id": "f652b023",
   "metadata": {},
   "outputs": [],
   "source": [
    "df.info()"
   ]
  },
  {
   "cell_type": "code",
   "execution_count": null,
   "id": "9b92a980",
   "metadata": {},
   "outputs": [],
   "source": [
    "# nullを持つレコードを全て削除\n",
    "df.dropna(axis=0, inplace=True)"
   ]
  },
  {
   "cell_type": "code",
   "execution_count": null,
   "id": "2ee6cba8",
   "metadata": {},
   "outputs": [],
   "source": [
    "df.shape"
   ]
  },
  {
   "cell_type": "code",
   "execution_count": null,
   "id": "3e8b8e43",
   "metadata": {},
   "outputs": [],
   "source": [
    "df['species'].unique()"
   ]
  },
  {
   "cell_type": "code",
   "execution_count": null,
   "id": "6b4880f1",
   "metadata": {},
   "outputs": [],
   "source": [
    "df['island'].unique()"
   ]
  },
  {
   "cell_type": "markdown",
   "id": "63fdca23",
   "metadata": {},
   "source": [
    "---\n",
    "<a id=2></a>\n",
    "[Topへ](#0)\n",
    "\n",
    "---\n",
    "## 2. Distribution Plot"
   ]
  },
  {
   "cell_type": "markdown",
   "id": "e0163a8b",
   "metadata": {},
   "source": [
    "* Seabornテーマの設定\n",
    "* ヒストプロット : 度数分布を表す。横軸に階級、縦軸に度数\n",
    "    * **sns.histplot()**\n",
    "    <p>\n",
    "        <a href=\"https://seaborn.pydata.org/generated/seaborn.histplot.html\" target=\"_blank\" rel=\"noreferrer noopener\">\n",
    "            Seaborn.histplot のページへ\n",
    "        </a>\n",
    "    </p>\n",
    "\n",
    "\n",
    "* KDEプロット : カーネル密度推定による分布を表す。横軸に階級\n",
    "    * KDE(カーネル密度推定) : 有限のサンプルから全体の分布を推定\n",
    "    * **sns.kdeplot()**\n",
    "    <p>\n",
    "        <a href=\"https://seaborn.pydata.org/generated/seaborn.kdeplot.html\" target=\"_blank\" rel=\"noreferrer noopener\">\n",
    "            Seaborn.kdeplot のページへ\n",
    "        </a>\n",
    "    </p>\n",
    "---"
   ]
  },
  {
   "cell_type": "markdown",
   "id": "faa6c6dd",
   "metadata": {},
   "source": [
    "Seabornテーマの設定"
   ]
  },
  {
   "cell_type": "code",
   "execution_count": null,
   "id": "c3753e33",
   "metadata": {},
   "outputs": [],
   "source": [
    "sns.set_theme(context='talk', style='darkgrid', font='MS Mincho')"
   ]
  },
  {
   "cell_type": "markdown",
   "id": "f9dd9932",
   "metadata": {},
   "source": [
    "ヒストプロット"
   ]
  },
  {
   "cell_type": "code",
   "execution_count": null,
   "id": "e65ce848",
   "metadata": {},
   "outputs": [],
   "source": [
    "sns.histplot(data=df, x='body_mass_g')\n",
    "plt.show()"
   ]
  },
  {
   "cell_type": "code",
   "execution_count": null,
   "id": "3b195a82",
   "metadata": {},
   "outputs": [],
   "source": [
    "# binsの変更\n",
    "sns.histplot(data=df, x='body_mass_g', bins=18)\n",
    "plt.show()"
   ]
  },
  {
   "cell_type": "code",
   "execution_count": null,
   "id": "1462a236",
   "metadata": {},
   "outputs": [],
   "source": [
    "# hueの使用\n",
    "sns.histplot(data=df, x='body_mass_g', hue='species')\n",
    "plt.show()"
   ]
  },
  {
   "cell_type": "code",
   "execution_count": null,
   "id": "c041a794",
   "metadata": {},
   "outputs": [],
   "source": [
    "# multiple='dodge', shrink=0.8, kde=True\n",
    "plt.figure(figsize=(8, 5))\n",
    "sns.histplot(data=df, x='body_mass_g', hue='species', multiple='dodge', shrink=0.8, kde=True)\n",
    "plt.show()"
   ]
  },
  {
   "cell_type": "code",
   "execution_count": null,
   "id": "a9846395",
   "metadata": {},
   "outputs": [],
   "source": [
    "# 'layer', 'dodge, 'stack', 'fill'\n",
    "plt.figure(figsize=(8, 5))\n",
    "sns.histplot(data=df, x='body_mass_g', hue='species', multiple='fill')\n",
    "plt.show()"
   ]
  },
  {
   "cell_type": "code",
   "execution_count": null,
   "id": "c5e46453",
   "metadata": {},
   "outputs": [],
   "source": [
    "# count, density, probability\n",
    "plt.figure(figsize=(8, 5))\n",
    "sns.histplot(data=df, x='body_mass_g', hue='species', multiple='dodge', shrink=0.8, stat='probability')\n",
    "plt.show()"
   ]
  },
  {
   "cell_type": "markdown",
   "id": "5a65bccf",
   "metadata": {},
   "source": [
    "KDEプロット"
   ]
  },
  {
   "cell_type": "code",
   "execution_count": null,
   "id": "2bbd75e2",
   "metadata": {},
   "outputs": [],
   "source": [
    "# sns.histplot(data=df, x='body_mass_g', hue='species', multiple='fill')のなだらかな表現\n",
    "plt.figure(figsize=(8, 5))\n",
    "sns.kdeplot(data=df, x='body_mass_g', hue='species', shade=True, palette='viridis', multiple='fill')\n",
    "plt.show()"
   ]
  },
  {
   "cell_type": "markdown",
   "id": "dfc6c3dc",
   "metadata": {},
   "source": [
    "---\n",
    "<a id=3></a>\n",
    "[Topへ](#0)\n",
    "\n",
    "---\n",
    "## 3. Relational Plot"
   ]
  },
  {
   "cell_type": "markdown",
   "id": "01106b2d",
   "metadata": {},
   "source": [
    "* ジョイントプロット : 2変数の関係をスキャッタープロットとKEDプロットで表示（デフォルト設定）\n",
    "    * **sns.jointplot()**\n",
    "    <p>\n",
    "        <a href=\"https://seaborn.pydata.org/generated/seaborn.jointplot.html\" target=\"_blank\" rel=\"noreferrer noopener\">\n",
    "            Seaborn.jointplot のページへ\n",
    "        </a>\n",
    "    </p>\n",
    "    \n",
    "\n",
    "* スキャッタープロット : 散布図。2変数の関係を点の分布により表す\n",
    "    * **sns.scatterplot()**\n",
    "    <p>\n",
    "        <a href=\"https://seaborn.pydata.org/generated/seaborn.scatterplot.html\" target=\"_blank\" rel=\"noreferrer noopener\">\n",
    "            Seaborn.scatterplot のページへ\n",
    "        </a>\n",
    "    </p>\n",
    "\n",
    "\n",
    "* RELプロット : スキャッタープロットをさらにクラス分けして行・列で表す\n",
    "    * **sns.relplot()**\n",
    "    <p>\n",
    "        <a href=\"https://seaborn.pydata.org/generated/seaborn.relplot.html\" target=\"_blank\" rel=\"noreferrer noopener\">\n",
    "            Seaborn.relplot のページへ\n",
    "        </a>\n",
    "    </p>\n",
    "\n",
    "\n",
    "* REGプロット : スキャッタープロットと線形回帰直線を表す\n",
    "    * **sns.regplot()**\n",
    "    <p>\n",
    "        <a href=\"https://seaborn.pydata.org/generated/seaborn.regplot.html\" target=\"_blank\" rel=\"noreferrer noopener\">\n",
    "            Seaborn.regplot のページへ\n",
    "        </a>\n",
    "    </p>\n",
    "\n",
    "\n",
    "* LMプロット : REGプロットをさらにクラス分けして行・列で表す\n",
    "    * **sns.lmplot()**\n",
    "    <p>\n",
    "        <a href=\"https://seaborn.pydata.org/generated/seaborn.lmplot.html\" target=\"_blank\" rel=\"noreferrer noopener\">\n",
    "            Seaborn.lmplot のページへ\n",
    "        </a>\n",
    "    </p>\n",
    "\n",
    "\n",
    "* ペアプロット : すべての数値データの組み合わせを行い、グリッドで2変数の関係を表す\n",
    "    * **sns.pairplot()**\n",
    "    <p>\n",
    "        <a href=\"https://seaborn.pydata.org/generated/seaborn.pairplot.html\" target=\"_blank\" rel=\"noreferrer noopener\">\n",
    "            Seaborn.pairplot のページへ\n",
    "        </a>\n",
    "    </p>\n",
    "    \n",
    "    \n",
    "* ラインプロット : 折れ線グラフ。点をつなぎ、主に連続的変化の推移を表す\n",
    "    * **sns.lineplot()**\n",
    "    <p>\n",
    "        <a href=\"https://seaborn.pydata.org/generated/seaborn.lineplot.html\" target=\"_blank\" rel=\"noreferrer noopener\">\n",
    "            Seaborn.lineplot のページへ\n",
    "        </a>\n",
    "    </p>\n",
    "    \n",
    "   \n",
    "\n",
    "---"
   ]
  },
  {
   "cell_type": "markdown",
   "id": "e4819fec",
   "metadata": {},
   "source": [
    "ジョイントプロット"
   ]
  },
  {
   "cell_type": "code",
   "execution_count": null,
   "id": "7dd6310c",
   "metadata": {
    "scrolled": true
   },
   "outputs": [],
   "source": [
    "# 二種類のプロットで表現\n",
    "# kindを使うこの種のプロットは表示設定に融通が利かないことがあり、シンプルにscatterplotを使うことをお勧めします\n",
    "sns.jointplot(data=df, x='body_mass_g', y ='bill_length_mm', hue='species', height=5, kind='kde')\n",
    "plt.show()\n",
    "# kind : ked, hist, scatter(default)"
   ]
  },
  {
   "cell_type": "code",
   "execution_count": null,
   "id": "f8dd86d3",
   "metadata": {},
   "outputs": [],
   "source": [
    "sns.jointplot(data=df, x='body_mass_g', y ='bill_length_mm', hue='species', height=6, kind='scatter')\n",
    "plt.show()\n",
    "# kind : ked, hist, scatter(default)"
   ]
  },
  {
   "cell_type": "markdown",
   "id": "c9c7bf63",
   "metadata": {},
   "source": [
    "スキャッタープロット"
   ]
  },
  {
   "cell_type": "code",
   "execution_count": null,
   "id": "fd268c14",
   "metadata": {},
   "outputs": [],
   "source": [
    "# リレーショナルプロットと言えばスキャッタープロット\n",
    "plt.figure(figsize=(8, 6))\n",
    "sns.scatterplot(data=df, x='bill_length_mm', y='bill_depth_mm', hue='species')\n",
    "plt.show()"
   ]
  },
  {
   "cell_type": "code",
   "execution_count": null,
   "id": "a370a10c",
   "metadata": {},
   "outputs": [],
   "source": [
    "# alpha, size, sizes(min, max)\n",
    "plt.figure(figsize=(8, 6))\n",
    "sns.scatterplot(data=df, x='bill_length_mm', y='bill_depth_mm', hue='species', alpha=0.7, size='body_mass_g', sizes=(10, 200))\n",
    "plt.show()"
   ]
  },
  {
   "cell_type": "code",
   "execution_count": null,
   "id": "a6fa79c8",
   "metadata": {},
   "outputs": [],
   "source": [
    "# legendを図（axes）の外に出すには\n",
    "plt.figure(figsize=(8, 6))\n",
    "sns.scatterplot(data=df, x='bill_length_mm', y='bill_depth_mm', hue='species', style='sex', markers=['o', 'X'], alpha=0.7)\n",
    "plt.legend(bbox_to_anchor=(1, 1))\n",
    "# 数値と実際の配置の関係が曖昧だが、微調整して使う\n",
    "plt.show()"
   ]
  },
  {
   "cell_type": "markdown",
   "id": "dcaecf85",
   "metadata": {},
   "source": [
    "RELプロット"
   ]
  },
  {
   "cell_type": "code",
   "execution_count": null,
   "id": "33a59770",
   "metadata": {},
   "outputs": [],
   "source": [
    "# scatterplotと同じ\n",
    "sns.relplot(data=df, x='bill_length_mm', y='bill_depth_mm', hue='sex', palette='cividis')\n",
    "plt.show()"
   ]
  },
  {
   "cell_type": "code",
   "execution_count": null,
   "id": "5645e803",
   "metadata": {
    "scrolled": true
   },
   "outputs": [],
   "source": [
    "# col, rowを追加\n",
    "sns.relplot(data=df, x='bill_length_mm', y='bill_depth_mm', hue='sex', palette='cividis', col='island', row='species', height=3, aspect=2)\n",
    "plt.show()"
   ]
  },
  {
   "cell_type": "code",
   "execution_count": null,
   "id": "ebda0f7f",
   "metadata": {
    "scrolled": true
   },
   "outputs": [],
   "source": [
    "# size\n",
    "sns.relplot(data=df, x='bill_length_mm', y='bill_depth_mm', hue='sex', palette='cividis', col='island', row='species', size='body_mass_g', sizes=(10, 200), height=3, aspect=2)\n",
    "plt.show()\n",
    "# 文字が重なる場合はheight, aspectで調整する"
   ]
  },
  {
   "cell_type": "code",
   "execution_count": null,
   "id": "eef66aac",
   "metadata": {
    "scrolled": true
   },
   "outputs": [],
   "source": [
    "# g = sns.relplot(***)としてメソッドなどを使う場合もあるが、複雑にせずSeabornの設定で十分\n",
    "g = sns.relplot(data=df, x='bill_length_mm', y='bill_depth_mm', hue='sex', palette='cividis', col='island', row='species', size='body_mass_g', sizes=(10, 200), height=3, aspect=2)\n",
    "\n",
    "plt.show()"
   ]
  },
  {
   "cell_type": "markdown",
   "id": "87f21f8d",
   "metadata": {},
   "source": [
    "REGプロット"
   ]
  },
  {
   "cell_type": "code",
   "execution_count": null,
   "id": "a269e486",
   "metadata": {},
   "outputs": [],
   "source": [
    "adelie = df.groupby('species').get_group('Adelie')\n",
    "chinstrap = df.groupby('species').get_group('Chinstrap')\n",
    "gentoo = df.groupby('species').get_group('Gentoo')\n",
    "# adelie = df[df['species'] == 'Adelie']と同じこと。←こちらの方がよい選択"
   ]
  },
  {
   "cell_type": "code",
   "execution_count": null,
   "id": "4be2c8f0",
   "metadata": {},
   "outputs": [],
   "source": [
    "# 回帰直線を付加したスキャッタープロット\n",
    "plt.figure(figsize=(6, 4))\n",
    "sns.regplot(data=adelie, x='bill_length_mm', y='bill_depth_mm')\n",
    "plt.show()"
   ]
  },
  {
   "cell_type": "code",
   "execution_count": null,
   "id": "cfa2cef7",
   "metadata": {},
   "outputs": [],
   "source": [
    "# scatter=False, truncate=False, scatter_kws\n",
    "# あまり複雑にして深みにはまらないように\n",
    "plt.figure(figsize=(6, 4))\n",
    "sns.regplot(data=adelie, x='bill_length_mm', y='bill_depth_mm', scatter=False)\n",
    "sns.regplot(data=chinstrap, x='bill_length_mm', y='bill_depth_mm', truncate=False)\n",
    "sns.regplot(data=gentoo, x='bill_length_mm', y='bill_depth_mm', scatter_kws={'alpha':0.3})\n",
    "plt.show()"
   ]
  },
  {
   "cell_type": "markdown",
   "id": "e16db690",
   "metadata": {},
   "source": [
    "LMプロット"
   ]
  },
  {
   "cell_type": "code",
   "execution_count": null,
   "id": "ddee6720",
   "metadata": {
    "scrolled": true
   },
   "outputs": [],
   "source": [
    "sns.lmplot(data=df, x='bill_length_mm', y='bill_depth_mm', hue='species')\n",
    "plt.show()"
   ]
  },
  {
   "cell_type": "code",
   "execution_count": null,
   "id": "a9b0d2bf",
   "metadata": {
    "scrolled": false
   },
   "outputs": [],
   "source": [
    "sns.lmplot(data=df, x='bill_length_mm', y='bill_depth_mm', col='species', truncate=False)\n",
    "plt.show()"
   ]
  },
  {
   "cell_type": "code",
   "execution_count": null,
   "id": "bd25061a",
   "metadata": {
    "scrolled": false
   },
   "outputs": [],
   "source": [
    "sns.lmplot(data=df, x='bill_length_mm', y='bill_depth_mm', col='species',row='island', truncate=False, height=3, aspect=2)\n",
    "plt.show()"
   ]
  },
  {
   "cell_type": "markdown",
   "id": "931942b7",
   "metadata": {},
   "source": [
    "ペアプロット"
   ]
  },
  {
   "cell_type": "code",
   "execution_count": null,
   "id": "be68bb2e",
   "metadata": {
    "scrolled": true
   },
   "outputs": [],
   "source": [
    "# すべての数値データをペアにする\n",
    "sns.pairplot(data=df, height=3, aspect=1.5)\n",
    "plt.show()"
   ]
  },
  {
   "cell_type": "code",
   "execution_count": null,
   "id": "3d8a0c96",
   "metadata": {
    "scrolled": true
   },
   "outputs": [],
   "source": [
    "# 対角線上のプロットを指定する\n",
    "sns.pairplot(data=df, hue='species', palette='magma', diag_kind='hist', height=3, aspect=1.5, diag_kws={'multiple':'fill'})\n",
    "plt.show()\n",
    "# diag_kind : auto, hist, kde, None"
   ]
  },
  {
   "cell_type": "code",
   "execution_count": null,
   "id": "7e08b6ac",
   "metadata": {
    "scrolled": true
   },
   "outputs": [],
   "source": [
    "# kindを指定する\n",
    "sns.pairplot(data=df, hue='species', palette='magma', kind='kde', diag_kind='hist', height=3, aspect=1.5, diag_kws={'multiple':'fill'})\n",
    "plt.show()\n",
    "# kind : scatter, kde, hist, reg"
   ]
  },
  {
   "cell_type": "markdown",
   "id": "07eba239",
   "metadata": {},
   "source": [
    "ラインプロット"
   ]
  },
  {
   "cell_type": "code",
   "execution_count": null,
   "id": "5834e4c9",
   "metadata": {
    "scrolled": true
   },
   "outputs": [],
   "source": [
    "flights = sns.load_dataset('flights')\n",
    "flights.head()"
   ]
  },
  {
   "cell_type": "code",
   "execution_count": null,
   "id": "07a302b0",
   "metadata": {},
   "outputs": [],
   "source": [
    "flights.shape"
   ]
  },
  {
   "cell_type": "code",
   "execution_count": null,
   "id": "ab5f056f",
   "metadata": {},
   "outputs": [],
   "source": [
    "flights.info()"
   ]
  },
  {
   "cell_type": "code",
   "execution_count": null,
   "id": "9e89a20a",
   "metadata": {},
   "outputs": [],
   "source": [
    "sns.lineplot(data=flights, x=flights.index, y='passengers')\n",
    "plt.show()"
   ]
  },
  {
   "cell_type": "code",
   "execution_count": null,
   "id": "72955a53",
   "metadata": {},
   "outputs": [],
   "source": [
    "# x label\n",
    "sns.lineplot(data=flights, x=flights.index, y='passengers', marker='.', linewidth=1)\n",
    "plt.xlabel('Year')\n",
    "plt.show()"
   ]
  },
  {
   "cell_type": "code",
   "execution_count": null,
   "id": "a5f68d53",
   "metadata": {},
   "outputs": [],
   "source": [
    "idx = np.arange(0, 144, 12)\n",
    "years = np.arange(1949, 1961)"
   ]
  },
  {
   "cell_type": "code",
   "execution_count": null,
   "id": "3d0c70c3",
   "metadata": {
    "scrolled": false
   },
   "outputs": [],
   "source": [
    "# xticks label\n",
    "# 詳細な表示設定\n",
    "plt.figure(figsize=(12, 6))\n",
    "sns.lineplot(data=flights, x=flights.index, y='passengers', marker='.', markersize=8, linewidth=1, markerfacecolor='yellow', markeredgecolor='red', color='black', linestyle='--')\n",
    "# '-', '--', ':'\n",
    "plt.xlabel('Year')\n",
    "plt.xticks(idx, years)\n",
    "plt.show()"
   ]
  },
  {
   "cell_type": "markdown",
   "id": "9b0d2845",
   "metadata": {},
   "source": [
    "オブジェクト指向型のプロット作成"
   ]
  },
  {
   "cell_type": "code",
   "execution_count": null,
   "id": "4d87fe95",
   "metadata": {},
   "outputs": [],
   "source": [
    "# plt.subplots(2,2)だけで確認すると構造が分かる\n",
    "# tight_layout=Trueはいつも設定するように\n",
    "# figureは全体、axesはその中のラベルや軸を含んだプロットを行うステージ\n",
    "fig, axes = plt.subplots(1, 2, figsize=(8, 5), tight_layout=True)\n",
    "sns.lineplot(data=flights, x=flights.index, y='passengers', marker='.', linewidth=1, ax=axes[0])\n",
    "axes[0].set_xlabel('Year')\n",
    "axes[0].set_xticks(idx)\n",
    "axes[0].set_xticklabels(years, rotation=45, fontsize=12)\n",
    "\n",
    "sns.lineplot(data=flights, x=flights.index, y='passengers', marker='X', markerfacecolor='red', linewidth=0, ax=axes[1])\n",
    "axes[1].set_xlabel('Year')\n",
    "axes[1].set_xticks(idx)\n",
    "axes[1].set_xticklabels(years, rotation=45, fontsize=12)   # size=12でもOK\n",
    "plt.show()"
   ]
  },
  {
   "cell_type": "code",
   "execution_count": null,
   "id": "b1396122",
   "metadata": {},
   "outputs": [],
   "source": [
    "# ひとつの場合\n",
    "fig, axes = plt.subplots()\n",
    "sns.lineplot(data=flights, x=flights.index, y='passengers', marker='.', linewidth=1, ax=axes)\n",
    "plt.xlabel('Year')\n",
    "plt.show()"
   ]
  },
  {
   "cell_type": "markdown",
   "id": "c55a9502",
   "metadata": {},
   "source": [
    "Categoty型とは"
   ]
  },
  {
   "cell_type": "code",
   "execution_count": null,
   "id": "186e8fa6",
   "metadata": {},
   "outputs": [],
   "source": [
    "flights_jj = flights[flights['month'].isin(['Jan', 'Jul'])].reset_index()\n",
    "flights_jj.head()"
   ]
  },
  {
   "cell_type": "code",
   "execution_count": null,
   "id": "1b979936",
   "metadata": {},
   "outputs": [],
   "source": [
    "plt.figure(figsize=(9, 4))\n",
    "sns.lineplot(data=flights_jj, x=flights_jj.index, y='passengers', hue='month', style='month', markers=True)\n",
    "plt.xlabel('Year')\n",
    "plt.xticks(np.arange(0, 24, 2), np.arange(1949, 1961), rotation=45)\n",
    "plt.show()\n",
    "# なぜJanuary, July以外があるのか？"
   ]
  },
  {
   "cell_type": "code",
   "execution_count": null,
   "id": "1b0d5902",
   "metadata": {},
   "outputs": [],
   "source": [
    "flights_jj.info()\n",
    "# category?\n",
    "# メモリ消費が低く、処理速度が上がるようです\n",
    "# 自分で大きなデータセットを作ることがなければ自ら設定する必要はなく、今回のような扱い方ができれば十分だと思います"
   ]
  },
  {
   "cell_type": "code",
   "execution_count": null,
   "id": "24e50a82",
   "metadata": {},
   "outputs": [],
   "source": [
    "# object型に変更\n",
    "flights_jj['month'] = flights_jj['month'].astype(object)"
   ]
  },
  {
   "cell_type": "code",
   "execution_count": null,
   "id": "6c0fefee",
   "metadata": {
    "scrolled": true
   },
   "outputs": [],
   "source": [
    "flights_jj.dtypes"
   ]
  },
  {
   "cell_type": "code",
   "execution_count": null,
   "id": "6a646376",
   "metadata": {},
   "outputs": [],
   "source": [
    "plt.figure(figsize=(9, 4))\n",
    "sns.lineplot(data=flights_jj, x=flights_jj.index, y='passengers', hue='month', style='month', markers=True)\n",
    "plt.xlabel('Year')\n",
    "plt.xticks(np.arange(0, 24, 2), np.arange(1949, 1961), rotation=45)\n",
    "plt.show()"
   ]
  },
  {
   "cell_type": "markdown",
   "id": "ffa3cabf",
   "metadata": {},
   "source": [
    "---\n",
    "<a id=4></a>\n",
    "[Topへ](#0)\n",
    "\n",
    "---\n",
    "## 4. Pandas Supplement : DatetimeIndex & map"
   ]
  },
  {
   "cell_type": "markdown",
   "id": "ae9218c0",
   "metadata": {},
   "source": [
    "* Series.map()を使いJanを1に、Febを2に\n",
    "* 文字列を結合して新しいカラムを作る\n",
    "* to_datetimeでDatetime型に変更\n",
    "* Datetimeの機能で情報を取得する\n",
    "* ある時点からの差を取得する\n",
    "* DatetimeIndexにしてresamplingを行う\n",
    "* shiftを使って変化量を算出\n",
    "---"
   ]
  },
  {
   "cell_type": "markdown",
   "id": "88ae4cdf",
   "metadata": {},
   "source": [
    "Series.map()を使いJanを1に、Febを2に  \n",
    "\n",
    "※ Seriesの各要素にはmapもしくはapply、DataFrameの行列にはapply、DataFrameの各要素に対してはapplymap  \n",
    "※ for文を使うよりはずっと早い  \n",
    "※ loc, ilocでの書き換えで対応しづらいような場合、簡潔に記述したい場合に使用する  \n",
    "    "
   ]
  },
  {
   "cell_type": "code",
   "execution_count": null,
   "id": "05612c14",
   "metadata": {},
   "outputs": [],
   "source": [
    "flights.head(12)"
   ]
  },
  {
   "cell_type": "code",
   "execution_count": null,
   "id": "12a7f77a",
   "metadata": {},
   "outputs": [],
   "source": [
    "month_dict ={'Jan':1, 'Feb':2, 'Mar':3, 'Apr':4, 'May':5, 'Jun':6, 'Jul':7, 'Aug':8, 'Sep':9, 'Oct':10, 'Nov':11, 'Dec':12}"
   ]
  },
  {
   "cell_type": "code",
   "execution_count": null,
   "id": "5462b4d9",
   "metadata": {},
   "outputs": [],
   "source": [
    "# series.map(dictionary)  値を置換する\n",
    "flights['month'].map(month_dict)"
   ]
  },
  {
   "cell_type": "code",
   "execution_count": null,
   "id": "daf2a89e",
   "metadata": {},
   "outputs": [],
   "source": [
    "s = flights['month'].map(month_dict).astype(int)[:12]\n",
    "s"
   ]
  },
  {
   "cell_type": "code",
   "execution_count": null,
   "id": "c4ea6fb4",
   "metadata": {},
   "outputs": [],
   "source": [
    "# lambda function\n",
    "s.map(lambda x: x * 2)"
   ]
  },
  {
   "cell_type": "code",
   "execution_count": null,
   "id": "9636b70f",
   "metadata": {},
   "outputs": [],
   "source": [
    "flights['month_n'] = flights['month'].map(month_dict)\n",
    "flights.head()"
   ]
  },
  {
   "cell_type": "markdown",
   "id": "78845cc6",
   "metadata": {},
   "source": [
    "文字列を結合して新しいカラムを作る"
   ]
  },
  {
   "cell_type": "code",
   "execution_count": null,
   "id": "a78c4826",
   "metadata": {},
   "outputs": [],
   "source": [
    "# string型にして結合\n",
    "flights['year'].map(lambda x: str(x) + '/')"
   ]
  },
  {
   "cell_type": "code",
   "execution_count": null,
   "id": "8ff18991",
   "metadata": {},
   "outputs": [],
   "source": [
    "# flights['year'].map(lambda x: str(x) + '/') + flights['month_n']\n",
    "# TypeError: Object with dtype category cannot perform the numpy op add\n",
    "# category型はaddできない"
   ]
  },
  {
   "cell_type": "code",
   "execution_count": null,
   "id": "9ba0c790",
   "metadata": {},
   "outputs": [],
   "source": [
    "flights['month_n'].dtype"
   ]
  },
  {
   "cell_type": "code",
   "execution_count": null,
   "id": "fbeab662",
   "metadata": {},
   "outputs": [],
   "source": [
    "flights['year_n_month'] = flights['year'].map(lambda x: str(x) + '/') + flights['month_n'].astype(str)\n",
    "# object型にすると、object型ではintも含んでしまうため、string+intができないというエラーが発生する。.astype(str)とする。\n",
    "flights.head()"
   ]
  },
  {
   "cell_type": "markdown",
   "id": "7ac19983",
   "metadata": {},
   "source": [
    "to_datetimeでDatetime型に変更"
   ]
  },
  {
   "cell_type": "code",
   "execution_count": null,
   "id": "99d796fe",
   "metadata": {},
   "outputs": [],
   "source": [
    "flights['date'] = pd.to_datetime(flights['year_n_month'])\n",
    "flights.head()"
   ]
  },
  {
   "cell_type": "markdown",
   "id": "26cc5d8a",
   "metadata": {},
   "source": [
    "Datetimeの機能で情報を取得する"
   ]
  },
  {
   "cell_type": "code",
   "execution_count": null,
   "id": "d4cc587a",
   "metadata": {},
   "outputs": [],
   "source": [
    "flights['date'].dt.day_name()\n",
    "# year / month / day / date / day_name() / weekday (0:Monday) / time / hour"
   ]
  },
  {
   "cell_type": "markdown",
   "id": "9f38c670",
   "metadata": {},
   "source": [
    "ある時点からの差を取得する"
   ]
  },
  {
   "cell_type": "code",
   "execution_count": null,
   "id": "644d4ca5",
   "metadata": {},
   "outputs": [],
   "source": [
    "# datetime型のシンプルな形式。年月日時間のある変数を作成\n",
    "one_day = pd.Timestamp('19940705')\n",
    "one_day"
   ]
  },
  {
   "cell_type": "code",
   "execution_count": null,
   "id": "7201c6d5",
   "metadata": {},
   "outputs": [],
   "source": [
    "# 差も求められる\n",
    "# timedeltaというものも他にある\n",
    "flights['days_left'] = flights['date'].map(lambda x:one_day - x)\n",
    "flights.head()"
   ]
  },
  {
   "cell_type": "markdown",
   "id": "9239962d",
   "metadata": {},
   "source": [
    "DatetimeIndexにしてresamplingを行う"
   ]
  },
  {
   "cell_type": "code",
   "execution_count": null,
   "id": "eddd5f17",
   "metadata": {},
   "outputs": [],
   "source": [
    "# indexをDatetime型の'date'にする\n",
    "flights.set_index('date', inplace=True)\n",
    "flights.head()"
   ]
  },
  {
   "cell_type": "code",
   "execution_count": null,
   "id": "64ac285e",
   "metadata": {},
   "outputs": [],
   "source": [
    "flights.index"
   ]
  },
  {
   "cell_type": "code",
   "execution_count": null,
   "id": "83958033",
   "metadata": {},
   "outputs": [],
   "source": [
    "# DatetimeIndexでは柔軟な指定での抽出ができる\n",
    "flights.loc['1949': '1950-07']"
   ]
  },
  {
   "cell_type": "code",
   "execution_count": null,
   "id": "01008077",
   "metadata": {},
   "outputs": [],
   "source": [
    "# resampleでは年、月、日、時間、曜日などを単位にまとめてくれる\n",
    "# 単純な数列ではないため、月ごとの日数の違いなどがあるが、それを気にせずに使える\n",
    "flights.resample('Y')"
   ]
  },
  {
   "cell_type": "code",
   "execution_count": null,
   "id": "7e2b6fd7",
   "metadata": {},
   "outputs": [],
   "source": [
    "# groupbyオブジェクトではあるが、リサンプリングによって年月日の正しい範囲を対象に取得できる\n",
    "flights.resample('Y')['passengers']"
   ]
  },
  {
   "cell_type": "code",
   "execution_count": null,
   "id": "b3155755",
   "metadata": {},
   "outputs": [],
   "source": [
    "flights.resample('Y')['passengers'].mean()"
   ]
  },
  {
   "cell_type": "markdown",
   "id": "1929a9b9",
   "metadata": {},
   "source": [
    "shiftを使って変化量を算出"
   ]
  },
  {
   "cell_type": "code",
   "execution_count": null,
   "id": "c00acf96",
   "metadata": {},
   "outputs": [],
   "source": [
    "# 1行ずらす\n",
    "ser_prev_month = flights['passengers'].shift(1)\n",
    "ser_prev_month"
   ]
  },
  {
   "cell_type": "code",
   "execution_count": null,
   "id": "9ed7133f",
   "metadata": {},
   "outputs": [],
   "source": [
    "flights['prev_month_passengers'] = flights['passengers'].shift(1)\n",
    "flights.head()"
   ]
  },
  {
   "cell_type": "code",
   "execution_count": null,
   "id": "a8f1d655",
   "metadata": {},
   "outputs": [],
   "source": [
    "# 前月との比較\n",
    "flights['difference'] = flights['passengers'] - flights['prev_month_passengers']\n",
    "flights.head()"
   ]
  },
  {
   "cell_type": "markdown",
   "id": "f0d952ab",
   "metadata": {},
   "source": [
    "---\n",
    "[Topへ](#0)\n",
    "\n",
    "---\n",
    "## 以上\n",
    "    \n",
    "---"
   ]
  }
 ],
 "metadata": {
  "kernelspec": {
   "display_name": "Python 3",
   "language": "python",
   "name": "python3"
  },
  "language_info": {
   "codemirror_mode": {
    "name": "ipython",
    "version": 3
   },
   "file_extension": ".py",
   "mimetype": "text/x-python",
   "name": "python",
   "nbconvert_exporter": "python",
   "pygments_lexer": "ipython3",
   "version": "3.7.10"
  }
 },
 "nbformat": 4,
 "nbformat_minor": 5
}
