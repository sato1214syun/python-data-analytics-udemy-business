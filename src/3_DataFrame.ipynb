{
 "cells": [
  {
   "cell_type": "markdown",
   "id": "23c6d4cc",
   "metadata": {},
   "source": [
    "<a id=0></a>\n",
    "# 3.DataFrameを操作する"
   ]
  },
  {
   "cell_type": "markdown",
   "id": "cfd115fa",
   "metadata": {},
   "source": [
    "---\n",
    "### [1.CSVファイルからDataFrameを作成 ](#1)\n",
    "### [2.DataFrameからデータを抽出 ](#2)\n",
    "### [3.要素の値を更新（上書き）](#3)\n",
    "### [4.基本統計量やユニーク、最大・最小など](#4)\n",
    "### [5.グループ化、レコードの並べ替え](#5)\n",
    "### [6.重複、欠損値の処理](#6)\n",
    "---"
   ]
  },
  {
   "cell_type": "code",
   "execution_count": 1,
   "id": "5f4b23d4",
   "metadata": {
    "scrolled": false
   },
   "outputs": [],
   "source": [
    "import numpy as np\n",
    "import pandas as pd"
   ]
  },
  {
   "cell_type": "code",
   "execution_count": 2,
   "id": "2ae99e16",
   "metadata": {},
   "outputs": [],
   "source": [
    "# # google colaboratoryの場合\n",
    "# from google.colab import drive\n",
    "# drive.mount('/drive')"
   ]
  },
  {
   "cell_type": "markdown",
   "id": "cff153af",
   "metadata": {},
   "source": [
    "---\n",
    "<a id=1></a>\n",
    "[Topへ](#0)\n",
    "\n",
    "---\n",
    "## 1. CSVファイルからDataFrameを作成"
   ]
  },
  {
   "cell_type": "markdown",
   "id": "75b9359b",
   "metadata": {},
   "source": [
    "* csvファイルからDataFrameを作成、indexを指定\n",
    "* pklファイルからDataFrameを作成、csvの場合との比較\n",
    "* object型として読み込まれた年月日をdatetime型に変換 \n",
    "---"
   ]
  },
  {
   "cell_type": "markdown",
   "id": "68f0ca02",
   "metadata": {},
   "source": [
    "csvファイルからDataFrameを作成、indexを指定"
   ]
  },
  {
   "cell_type": "code",
   "execution_count": 3,
   "id": "666cf7d5",
   "metadata": {},
   "outputs": [
    {
     "ename": "FileNotFoundError",
     "evalue": "[Errno 2] No such file or directory: 'sample1_with_index.csv'",
     "output_type": "error",
     "traceback": [
      "\u001b[0;31m---------------------------------------------------------------------------\u001b[0m",
      "\u001b[0;31mFileNotFoundError\u001b[0m                         Traceback (most recent call last)",
      "Cell \u001b[0;32mIn[3], line 1\u001b[0m\n\u001b[0;32m----> 1\u001b[0m df \u001b[39m=\u001b[39m pd\u001b[39m.\u001b[39;49mread_csv(\u001b[39m'\u001b[39;49m\u001b[39msample1_with_index.csv\u001b[39;49m\u001b[39m'\u001b[39;49m)\n\u001b[1;32m      2\u001b[0m \u001b[39m# google colaboratoryの場合　'/drive/My Drive/sample1_with_index.csv'\u001b[39;00m\n",
      "File \u001b[0;32m~/Documents/myscript/python-data-analytics-udemy-business/.venv/lib/python3.11/site-packages/pandas/io/parsers/readers.py:912\u001b[0m, in \u001b[0;36mread_csv\u001b[0;34m(filepath_or_buffer, sep, delimiter, header, names, index_col, usecols, dtype, engine, converters, true_values, false_values, skipinitialspace, skiprows, skipfooter, nrows, na_values, keep_default_na, na_filter, verbose, skip_blank_lines, parse_dates, infer_datetime_format, keep_date_col, date_parser, date_format, dayfirst, cache_dates, iterator, chunksize, compression, thousands, decimal, lineterminator, quotechar, quoting, doublequote, escapechar, comment, encoding, encoding_errors, dialect, on_bad_lines, delim_whitespace, low_memory, memory_map, float_precision, storage_options, dtype_backend)\u001b[0m\n\u001b[1;32m    899\u001b[0m kwds_defaults \u001b[39m=\u001b[39m _refine_defaults_read(\n\u001b[1;32m    900\u001b[0m     dialect,\n\u001b[1;32m    901\u001b[0m     delimiter,\n\u001b[0;32m   (...)\u001b[0m\n\u001b[1;32m    908\u001b[0m     dtype_backend\u001b[39m=\u001b[39mdtype_backend,\n\u001b[1;32m    909\u001b[0m )\n\u001b[1;32m    910\u001b[0m kwds\u001b[39m.\u001b[39mupdate(kwds_defaults)\n\u001b[0;32m--> 912\u001b[0m \u001b[39mreturn\u001b[39;00m _read(filepath_or_buffer, kwds)\n",
      "File \u001b[0;32m~/Documents/myscript/python-data-analytics-udemy-business/.venv/lib/python3.11/site-packages/pandas/io/parsers/readers.py:577\u001b[0m, in \u001b[0;36m_read\u001b[0;34m(filepath_or_buffer, kwds)\u001b[0m\n\u001b[1;32m    574\u001b[0m _validate_names(kwds\u001b[39m.\u001b[39mget(\u001b[39m\"\u001b[39m\u001b[39mnames\u001b[39m\u001b[39m\"\u001b[39m, \u001b[39mNone\u001b[39;00m))\n\u001b[1;32m    576\u001b[0m \u001b[39m# Create the parser.\u001b[39;00m\n\u001b[0;32m--> 577\u001b[0m parser \u001b[39m=\u001b[39m TextFileReader(filepath_or_buffer, \u001b[39m*\u001b[39;49m\u001b[39m*\u001b[39;49mkwds)\n\u001b[1;32m    579\u001b[0m \u001b[39mif\u001b[39;00m chunksize \u001b[39mor\u001b[39;00m iterator:\n\u001b[1;32m    580\u001b[0m     \u001b[39mreturn\u001b[39;00m parser\n",
      "File \u001b[0;32m~/Documents/myscript/python-data-analytics-udemy-business/.venv/lib/python3.11/site-packages/pandas/io/parsers/readers.py:1407\u001b[0m, in \u001b[0;36mTextFileReader.__init__\u001b[0;34m(self, f, engine, **kwds)\u001b[0m\n\u001b[1;32m   1404\u001b[0m     \u001b[39mself\u001b[39m\u001b[39m.\u001b[39moptions[\u001b[39m\"\u001b[39m\u001b[39mhas_index_names\u001b[39m\u001b[39m\"\u001b[39m] \u001b[39m=\u001b[39m kwds[\u001b[39m\"\u001b[39m\u001b[39mhas_index_names\u001b[39m\u001b[39m\"\u001b[39m]\n\u001b[1;32m   1406\u001b[0m \u001b[39mself\u001b[39m\u001b[39m.\u001b[39mhandles: IOHandles \u001b[39m|\u001b[39m \u001b[39mNone\u001b[39;00m \u001b[39m=\u001b[39m \u001b[39mNone\u001b[39;00m\n\u001b[0;32m-> 1407\u001b[0m \u001b[39mself\u001b[39m\u001b[39m.\u001b[39m_engine \u001b[39m=\u001b[39m \u001b[39mself\u001b[39;49m\u001b[39m.\u001b[39;49m_make_engine(f, \u001b[39mself\u001b[39;49m\u001b[39m.\u001b[39;49mengine)\n",
      "File \u001b[0;32m~/Documents/myscript/python-data-analytics-udemy-business/.venv/lib/python3.11/site-packages/pandas/io/parsers/readers.py:1661\u001b[0m, in \u001b[0;36mTextFileReader._make_engine\u001b[0;34m(self, f, engine)\u001b[0m\n\u001b[1;32m   1659\u001b[0m     \u001b[39mif\u001b[39;00m \u001b[39m\"\u001b[39m\u001b[39mb\u001b[39m\u001b[39m\"\u001b[39m \u001b[39mnot\u001b[39;00m \u001b[39min\u001b[39;00m mode:\n\u001b[1;32m   1660\u001b[0m         mode \u001b[39m+\u001b[39m\u001b[39m=\u001b[39m \u001b[39m\"\u001b[39m\u001b[39mb\u001b[39m\u001b[39m\"\u001b[39m\n\u001b[0;32m-> 1661\u001b[0m \u001b[39mself\u001b[39m\u001b[39m.\u001b[39mhandles \u001b[39m=\u001b[39m get_handle(\n\u001b[1;32m   1662\u001b[0m     f,\n\u001b[1;32m   1663\u001b[0m     mode,\n\u001b[1;32m   1664\u001b[0m     encoding\u001b[39m=\u001b[39;49m\u001b[39mself\u001b[39;49m\u001b[39m.\u001b[39;49moptions\u001b[39m.\u001b[39;49mget(\u001b[39m\"\u001b[39;49m\u001b[39mencoding\u001b[39;49m\u001b[39m\"\u001b[39;49m, \u001b[39mNone\u001b[39;49;00m),\n\u001b[1;32m   1665\u001b[0m     compression\u001b[39m=\u001b[39;49m\u001b[39mself\u001b[39;49m\u001b[39m.\u001b[39;49moptions\u001b[39m.\u001b[39;49mget(\u001b[39m\"\u001b[39;49m\u001b[39mcompression\u001b[39;49m\u001b[39m\"\u001b[39;49m, \u001b[39mNone\u001b[39;49;00m),\n\u001b[1;32m   1666\u001b[0m     memory_map\u001b[39m=\u001b[39;49m\u001b[39mself\u001b[39;49m\u001b[39m.\u001b[39;49moptions\u001b[39m.\u001b[39;49mget(\u001b[39m\"\u001b[39;49m\u001b[39mmemory_map\u001b[39;49m\u001b[39m\"\u001b[39;49m, \u001b[39mFalse\u001b[39;49;00m),\n\u001b[1;32m   1667\u001b[0m     is_text\u001b[39m=\u001b[39;49mis_text,\n\u001b[1;32m   1668\u001b[0m     errors\u001b[39m=\u001b[39;49m\u001b[39mself\u001b[39;49m\u001b[39m.\u001b[39;49moptions\u001b[39m.\u001b[39;49mget(\u001b[39m\"\u001b[39;49m\u001b[39mencoding_errors\u001b[39;49m\u001b[39m\"\u001b[39;49m, \u001b[39m\"\u001b[39;49m\u001b[39mstrict\u001b[39;49m\u001b[39m\"\u001b[39;49m),\n\u001b[1;32m   1669\u001b[0m     storage_options\u001b[39m=\u001b[39;49m\u001b[39mself\u001b[39;49m\u001b[39m.\u001b[39;49moptions\u001b[39m.\u001b[39;49mget(\u001b[39m\"\u001b[39;49m\u001b[39mstorage_options\u001b[39;49m\u001b[39m\"\u001b[39;49m, \u001b[39mNone\u001b[39;49;00m),\n\u001b[1;32m   1670\u001b[0m )\n\u001b[1;32m   1671\u001b[0m \u001b[39massert\u001b[39;00m \u001b[39mself\u001b[39m\u001b[39m.\u001b[39mhandles \u001b[39mis\u001b[39;00m \u001b[39mnot\u001b[39;00m \u001b[39mNone\u001b[39;00m\n\u001b[1;32m   1672\u001b[0m f \u001b[39m=\u001b[39m \u001b[39mself\u001b[39m\u001b[39m.\u001b[39mhandles\u001b[39m.\u001b[39mhandle\n",
      "File \u001b[0;32m~/Documents/myscript/python-data-analytics-udemy-business/.venv/lib/python3.11/site-packages/pandas/io/common.py:859\u001b[0m, in \u001b[0;36mget_handle\u001b[0;34m(path_or_buf, mode, encoding, compression, memory_map, is_text, errors, storage_options)\u001b[0m\n\u001b[1;32m    854\u001b[0m \u001b[39melif\u001b[39;00m \u001b[39misinstance\u001b[39m(handle, \u001b[39mstr\u001b[39m):\n\u001b[1;32m    855\u001b[0m     \u001b[39m# Check whether the filename is to be opened in binary mode.\u001b[39;00m\n\u001b[1;32m    856\u001b[0m     \u001b[39m# Binary mode does not support 'encoding' and 'newline'.\u001b[39;00m\n\u001b[1;32m    857\u001b[0m     \u001b[39mif\u001b[39;00m ioargs\u001b[39m.\u001b[39mencoding \u001b[39mand\u001b[39;00m \u001b[39m\"\u001b[39m\u001b[39mb\u001b[39m\u001b[39m\"\u001b[39m \u001b[39mnot\u001b[39;00m \u001b[39min\u001b[39;00m ioargs\u001b[39m.\u001b[39mmode:\n\u001b[1;32m    858\u001b[0m         \u001b[39m# Encoding\u001b[39;00m\n\u001b[0;32m--> 859\u001b[0m         handle \u001b[39m=\u001b[39m \u001b[39mopen\u001b[39;49m(\n\u001b[1;32m    860\u001b[0m             handle,\n\u001b[1;32m    861\u001b[0m             ioargs\u001b[39m.\u001b[39;49mmode,\n\u001b[1;32m    862\u001b[0m             encoding\u001b[39m=\u001b[39;49mioargs\u001b[39m.\u001b[39;49mencoding,\n\u001b[1;32m    863\u001b[0m             errors\u001b[39m=\u001b[39;49merrors,\n\u001b[1;32m    864\u001b[0m             newline\u001b[39m=\u001b[39;49m\u001b[39m\"\u001b[39;49m\u001b[39m\"\u001b[39;49m,\n\u001b[1;32m    865\u001b[0m         )\n\u001b[1;32m    866\u001b[0m     \u001b[39melse\u001b[39;00m:\n\u001b[1;32m    867\u001b[0m         \u001b[39m# Binary mode\u001b[39;00m\n\u001b[1;32m    868\u001b[0m         handle \u001b[39m=\u001b[39m \u001b[39mopen\u001b[39m(handle, ioargs\u001b[39m.\u001b[39mmode)\n",
      "\u001b[0;31mFileNotFoundError\u001b[0m: [Errno 2] No such file or directory: 'sample1_with_index.csv'"
     ]
    }
   ],
   "source": [
    "df = pd.read_csv('sample1_with_index.csv')\n",
    "# google colaboratoryの場合　'/drive/My Drive/sample1_with_index.csv'"
   ]
  },
  {
   "cell_type": "code",
   "execution_count": null,
   "id": "a494eb0d",
   "metadata": {},
   "outputs": [],
   "source": [
    "df.head(2)"
   ]
  },
  {
   "cell_type": "code",
   "execution_count": null,
   "id": "9239af31",
   "metadata": {},
   "outputs": [],
   "source": [
    "# csvファイルには以前のインデックスが含まれている\n",
    "# その列（index=0）を指定することで新規のインデックスは付加されなくなる\n",
    "df = pd.read_csv('sample1_with_index.csv', index_col=0)\n",
    "df.head(2)"
   ]
  },
  {
   "cell_type": "code",
   "execution_count": null,
   "id": "ffa8dd83",
   "metadata": {},
   "outputs": [],
   "source": [
    "df = pd.read_csv('sample1_without_index.csv')\n",
    "df.head(2)"
   ]
  },
  {
   "cell_type": "markdown",
   "id": "dc4e3c59",
   "metadata": {},
   "source": [
    "pklファイルからDataFrameを作成、csvの場合との比較"
   ]
  },
  {
   "cell_type": "code",
   "execution_count": null,
   "id": "10148631",
   "metadata": {},
   "outputs": [],
   "source": [
    "df_p = pd.read_pickle('sample1.pkl')\n",
    "df_p.head(2)"
   ]
  },
  {
   "cell_type": "code",
   "execution_count": null,
   "id": "ca013619",
   "metadata": {},
   "outputs": [],
   "source": [
    "df_p.info()\n",
    "# 元の状態を保持したDtypeで読み込まれる"
   ]
  },
  {
   "cell_type": "code",
   "execution_count": null,
   "id": "e3e06390",
   "metadata": {},
   "outputs": [],
   "source": [
    "df.info()"
   ]
  },
  {
   "cell_type": "markdown",
   "id": "70327af4",
   "metadata": {},
   "source": [
    "object型として読み込まれた年月日をdatetime型に変換"
   ]
  },
  {
   "cell_type": "code",
   "execution_count": null,
   "id": "8ad09f3d",
   "metadata": {},
   "outputs": [],
   "source": [
    "pd.to_datetime(df['Date'])"
   ]
  },
  {
   "cell_type": "code",
   "execution_count": null,
   "id": "73c50969",
   "metadata": {},
   "outputs": [],
   "source": [
    "df['Date'] = pd.to_datetime(df['Date'])\n",
    "df.info()\n",
    "# 基本的には素直にCSVファイルを読み込み、インデックス、datetimeへの型の変換などを行う\n",
    "# 一般に配布されているデータはほとんどCSV"
   ]
  },
  {
   "cell_type": "code",
   "execution_count": null,
   "id": "57075dc8",
   "metadata": {},
   "outputs": [],
   "source": [
    "# あらかじめdatetime型にすべきだと分かっている場合\n",
    "pd.read_csv('sample1_with_index.csv', index_col=0, parse_dates=['Date']).info()"
   ]
  },
  {
   "cell_type": "markdown",
   "id": "0b658499",
   "metadata": {},
   "source": [
    "---\n",
    "<a id=2></a>\n",
    "[Topへ](#0)\n",
    "\n",
    "---\n",
    "## 2. DataFrameからデータを抽出 "
   ]
  },
  {
   "cell_type": "markdown",
   "id": "7722711e",
   "metadata": {},
   "source": [
    "* カラムを指定して抽出\n",
    "* locとilocでレコードとカラムを指定して抽出\n",
    "* 条件文で抽出\n",
    "* 複数の条件の場合の注意点\n",
    "* filterを使う\n",
    "* queryを使う\n",
    "\n",
    "---"
   ]
  },
  {
   "cell_type": "markdown",
   "id": "9d26f114",
   "metadata": {},
   "source": [
    "カラムを指定して抽出"
   ]
  },
  {
   "cell_type": "code",
   "execution_count": null,
   "id": "ab679ec1",
   "metadata": {},
   "outputs": [],
   "source": [
    "df.head(3)"
   ]
  },
  {
   "cell_type": "code",
   "execution_count": null,
   "id": "52f571dd",
   "metadata": {},
   "outputs": [],
   "source": [
    "# df[3]\n",
    "# df[0,3]\n",
    "# df[:]   # :を使った場合は抽出可能"
   ]
  },
  {
   "cell_type": "code",
   "execution_count": null,
   "id": "c300bdf8",
   "metadata": {},
   "outputs": [],
   "source": [
    "# Series\n",
    "df['Price'][0]"
   ]
  },
  {
   "cell_type": "code",
   "execution_count": null,
   "id": "9c32b46d",
   "metadata": {},
   "outputs": [],
   "source": [
    "# 1カラムのDataFrame\n",
    "type(df[['Price']])"
   ]
  },
  {
   "cell_type": "code",
   "execution_count": null,
   "id": "5ef5b5a7",
   "metadata": {},
   "outputs": [],
   "source": [
    "df[['Price']].head(3)"
   ]
  },
  {
   "cell_type": "code",
   "execution_count": null,
   "id": "0162d1d4",
   "metadata": {},
   "outputs": [],
   "source": [
    "df[['Price', 'Quantity']].head(3)"
   ]
  },
  {
   "cell_type": "markdown",
   "id": "a1d98ccb",
   "metadata": {},
   "source": [
    "locとilocでレコードとカラムを指定して抽出  \n",
    "※ loc : [index_label, column_label], iloc : [row_index, column_index]"
   ]
  },
  {
   "cell_type": "code",
   "execution_count": null,
   "id": "f9d3adad",
   "metadata": {},
   "outputs": [],
   "source": [
    "# インデックス名、カラム名\n",
    "df.loc[0:3, 'Date':'Quantity']\n",
    "# :の後のものも含まれることに注意"
   ]
  },
  {
   "cell_type": "code",
   "execution_count": null,
   "id": "9b33ded8",
   "metadata": {},
   "outputs": [],
   "source": [
    "df.loc[[1, 3, 5], 'Width']"
   ]
  },
  {
   "cell_type": "code",
   "execution_count": null,
   "id": "827ae08b",
   "metadata": {},
   "outputs": [],
   "source": [
    "df.iloc[0:3, 0:3]"
   ]
  },
  {
   "cell_type": "code",
   "execution_count": null,
   "id": "fdab4e76",
   "metadata": {},
   "outputs": [],
   "source": [
    "df.iloc[[0, 5, 10], [4, 5]]"
   ]
  },
  {
   "cell_type": "code",
   "execution_count": null,
   "id": "7d1a2855",
   "metadata": {},
   "outputs": [],
   "source": [
    "# ラベルは分かるがインデックスが分らない場合\n",
    "# for文の利用などで数値を使いたい場合\n",
    "df.iloc[0:3, df.columns.get_loc('Color')]\n",
    "# df.index.get_loc('ID001')"
   ]
  },
  {
   "cell_type": "markdown",
   "id": "ebd72578",
   "metadata": {},
   "source": [
    "条件文で抽出"
   ]
  },
  {
   "cell_type": "code",
   "execution_count": null,
   "id": "0e7a8664",
   "metadata": {},
   "outputs": [],
   "source": [
    "df['Height'] >= 9.5"
   ]
  },
  {
   "cell_type": "code",
   "execution_count": null,
   "id": "a347194d",
   "metadata": {},
   "outputs": [],
   "source": [
    "df[df['Height'] >= 9.5]"
   ]
  },
  {
   "cell_type": "markdown",
   "id": "dd86e5e1",
   "metadata": {},
   "source": [
    "複数の条件の場合の注意点"
   ]
  },
  {
   "cell_type": "code",
   "execution_count": null,
   "id": "ddaa9654",
   "metadata": {},
   "outputs": [],
   "source": [
    "df[(df['Height'] >= 9.5) & (df['Price'] > 4000)]"
   ]
  },
  {
   "cell_type": "code",
   "execution_count": null,
   "id": "231cb2b5",
   "metadata": {},
   "outputs": [],
   "source": [
    "df[(df['Height'] >= 9.5) & ((df['Price'] > 4000) | (df['Shape'] == 'triangle'))]"
   ]
  },
  {
   "cell_type": "code",
   "execution_count": null,
   "id": "b7abe427",
   "metadata": {},
   "outputs": [],
   "source": [
    "condition1 = df['Height'] >= 9.5\n",
    "condition2 = df['Price'] > 4000\n",
    "condition3 = df['Shape'] == 'triangle'\n",
    "df[condition1 & (condition2 | condition3)]"
   ]
  },
  {
   "cell_type": "markdown",
   "id": "def89eb9",
   "metadata": {},
   "source": [
    "filterを使う  \n",
    "※ locなどで対応できない場合に使用するという考えでよい  "
   ]
  },
  {
   "cell_type": "code",
   "execution_count": null,
   "id": "6aaa3a45",
   "metadata": {},
   "outputs": [],
   "source": [
    "# 含む文字列で行、列を選択できる\n",
    "# Regexも扱える\n",
    "df.filter(like='or', axis=1).head(3)"
   ]
  },
  {
   "cell_type": "code",
   "execution_count": null,
   "id": "a9e74f7c",
   "metadata": {},
   "outputs": [],
   "source": [
    "df.filter(like='0', axis=0).head(3)"
   ]
  },
  {
   "cell_type": "markdown",
   "id": "d928f77f",
   "metadata": {},
   "source": [
    "queryを使う"
   ]
  },
  {
   "cell_type": "code",
   "execution_count": null,
   "id": "7229d0ec",
   "metadata": {},
   "outputs": [],
   "source": [
    "df.query(\"9 < Height & Width < 3\")      # 一続きの文字列で条件を指定できる\n",
    "# df[(df['Height'] > 9) & (df['Width'] < 3)]"
   ]
  },
  {
   "cell_type": "code",
   "execution_count": null,
   "id": "9937cd05",
   "metadata": {},
   "outputs": [],
   "source": [
    "df.query(\"Color in ['red', 'blue']\")\n",
    "# df[df['Color'].isin(['red', 'blue'])]"
   ]
  },
  {
   "cell_type": "markdown",
   "id": "a558e1c7",
   "metadata": {},
   "source": [
    "---\n",
    "<a id=3></a>\n",
    "[Topへ](#0)\n",
    "\n",
    "---\n",
    "## 3. 要素の値を更新（上書き）する"
   ]
  },
  {
   "cell_type": "markdown",
   "id": "8285216f",
   "metadata": {},
   "source": [
    " * 要素の値を更新\n",
    " * locもしくはilocで更新する\n",
    " * 一次元、二次元アレイであることを念頭に更新する\n",
    "---"
   ]
  },
  {
   "cell_type": "markdown",
   "id": "a91987f2",
   "metadata": {},
   "source": [
    "要素の値を更新"
   ]
  },
  {
   "cell_type": "code",
   "execution_count": null,
   "id": "b6be3bec",
   "metadata": {},
   "outputs": [],
   "source": [
    "# df['Price'][0] = 0\n",
    "# chained indexは推奨されていない"
   ]
  },
  {
   "cell_type": "code",
   "execution_count": null,
   "id": "a433ed4a",
   "metadata": {},
   "outputs": [],
   "source": [
    "df.head(3)"
   ]
  },
  {
   "cell_type": "markdown",
   "id": "3a43f8cc",
   "metadata": {},
   "source": [
    " locもしくはilocで更新する"
   ]
  },
  {
   "cell_type": "code",
   "execution_count": null,
   "id": "0e3dfa35",
   "metadata": {},
   "outputs": [],
   "source": [
    "df.loc[0, 'Price'] = 10000\n",
    "df.head(2)"
   ]
  },
  {
   "cell_type": "code",
   "execution_count": null,
   "id": "09a88cbd",
   "metadata": {},
   "outputs": [],
   "source": [
    "df.loc[0:2, 'Price'] = 10000\n",
    "df.head(3)"
   ]
  },
  {
   "cell_type": "markdown",
   "id": "5775cc7a",
   "metadata": {},
   "source": [
    "一次元、二次元アレイであることを念頭に更新する"
   ]
  },
  {
   "cell_type": "code",
   "execution_count": null,
   "id": "38f52b80",
   "metadata": {},
   "outputs": [],
   "source": [
    "df.loc[0, ['Width', 'Height']] = 8.88\n",
    "df.head(3)"
   ]
  },
  {
   "cell_type": "code",
   "execution_count": null,
   "id": "ebd23264",
   "metadata": {},
   "outputs": [],
   "source": [
    "df.loc[0,['Width', 'Height']] = [1.11, 7.77]\n",
    "df.head(3)"
   ]
  },
  {
   "cell_type": "code",
   "execution_count": null,
   "id": "38c938d7",
   "metadata": {},
   "outputs": [],
   "source": [
    "df.loc[[0, 1], ['Width', 'Height']] = 1.23\n",
    "df.head(3)"
   ]
  },
  {
   "cell_type": "code",
   "execution_count": null,
   "id": "8bf0a8a0",
   "metadata": {},
   "outputs": [],
   "source": [
    "df.loc[[0, 1], ['Width', 'Height']] = [7.77, 4.44]\n",
    "df.head(3)"
   ]
  },
  {
   "cell_type": "code",
   "execution_count": null,
   "id": "b398a909",
   "metadata": {},
   "outputs": [],
   "source": [
    "df.loc[[0, 1], ['Width', 'Height']] = [[1.11, 2.22], [3.33, 4.44]]\n",
    "df.head(3)"
   ]
  },
  {
   "cell_type": "code",
   "execution_count": null,
   "id": "698afa54",
   "metadata": {},
   "outputs": [],
   "source": [
    "df.loc[df['Price'] == 10000, 'Price'] = 9999\n",
    "df.head(5)"
   ]
  },
  {
   "cell_type": "markdown",
   "id": "c72ab6ea",
   "metadata": {},
   "source": [
    "---\n",
    "<a id=4></a>\n",
    "[Topへ](#0)\n",
    "\n",
    "---\n",
    "## 4. 基本統計量やユニーク、最大・最小など"
   ]
  },
  {
   "cell_type": "markdown",
   "id": "48ba8ff0",
   "metadata": {},
   "source": [
    "---\n",
    "* 基本統計量の算出\n",
    "* カラム別のユニークな値\n",
    "* 基本統計量の一括表示\n",
    "* 最大値・最小値を持つレコード\n",
    "---"
   ]
  },
  {
   "cell_type": "markdown",
   "id": "3aefa60f",
   "metadata": {},
   "source": [
    "基本統計量の算出"
   ]
  },
  {
   "cell_type": "code",
   "execution_count": null,
   "id": "c91c51db",
   "metadata": {},
   "outputs": [],
   "source": [
    "print(f\"count : {df['Quantity'].count()}\")\n",
    "print(f\"sum : {df['Quantity'].sum()}\")\n",
    "print(f\"average : {df['Quantity'].mean()}\")\n",
    "print(f\"median : {df['Quantity'].median()}\")\n",
    "print(f\"max : {df['Quantity'].max()}\")\n",
    "print(f\"min : {df['Quantity'].min()}\")\n",
    "print('=====')\n",
    "print(f\"mode : {df['Quantity'].mode()}\")   # 最頻値"
   ]
  },
  {
   "cell_type": "markdown",
   "id": "a4c9c150",
   "metadata": {},
   "source": [
    "カラム別のユニークな値"
   ]
  },
  {
   "cell_type": "code",
   "execution_count": null,
   "id": "579347d3",
   "metadata": {},
   "outputs": [],
   "source": [
    "df['Color'].unique()"
   ]
  },
  {
   "cell_type": "code",
   "execution_count": null,
   "id": "d4d7e7a9",
   "metadata": {},
   "outputs": [],
   "source": [
    "df['Quantity'].unique()"
   ]
  },
  {
   "cell_type": "code",
   "execution_count": null,
   "id": "d8bc8c53",
   "metadata": {},
   "outputs": [],
   "source": [
    "# ユニーク値の数\n",
    "df['Quantity'].nunique()"
   ]
  },
  {
   "cell_type": "code",
   "execution_count": null,
   "id": "23bd0d3e",
   "metadata": {},
   "outputs": [],
   "source": [
    "# unique(), nunique()ではなくこちらが多用されます\n",
    "df['Quantity'].value_counts()"
   ]
  },
  {
   "cell_type": "code",
   "execution_count": null,
   "id": "581a9046",
   "metadata": {},
   "outputs": [],
   "source": [
    "# ndarrayとして用いるのが容易です\n",
    "np.array(df['Quantity'].mode())\n",
    "# [59, 66]は二つの最頻値があることを示しています"
   ]
  },
  {
   "cell_type": "markdown",
   "id": "55174c9c",
   "metadata": {},
   "source": [
    "基本統計量の一括表示"
   ]
  },
  {
   "cell_type": "code",
   "execution_count": null,
   "id": "fefd2158",
   "metadata": {},
   "outputs": [],
   "source": [
    "df.describe()"
   ]
  },
  {
   "cell_type": "code",
   "execution_count": null,
   "id": "2e8a2533",
   "metadata": {},
   "outputs": [],
   "source": [
    "df.describe().T   # transpose"
   ]
  },
  {
   "cell_type": "markdown",
   "id": "3819d4e9",
   "metadata": {},
   "source": [
    "最大値・最小値を持つレコード"
   ]
  },
  {
   "cell_type": "code",
   "execution_count": null,
   "id": "3b7fed92",
   "metadata": {},
   "outputs": [],
   "source": [
    "df['Quantity'].nlargest(5)"
   ]
  },
  {
   "cell_type": "code",
   "execution_count": null,
   "id": "c68f02fa",
   "metadata": {},
   "outputs": [],
   "source": [
    "df['Quantity'].nsmallest(5)"
   ]
  },
  {
   "cell_type": "code",
   "execution_count": null,
   "id": "7db2c53f",
   "metadata": {},
   "outputs": [],
   "source": [
    "df.loc[df['Quantity'].nsmallest(5).index]"
   ]
  },
  {
   "cell_type": "code",
   "execution_count": null,
   "id": "8e2b9ce0",
   "metadata": {},
   "outputs": [],
   "source": [
    "# df.loc[df['Width'] > 9]"
   ]
  },
  {
   "cell_type": "markdown",
   "id": "42ffc6c0",
   "metadata": {
    "scrolled": true
   },
   "source": [
    "---\n",
    "<a id=5></a>\n",
    "[Topへ](#0)\n",
    "\n",
    "---\n",
    "## 5. グループ化、レコードの並べ替え"
   ]
  },
  {
   "cell_type": "markdown",
   "id": "92d975cb",
   "metadata": {},
   "source": [
    "* グループ化し、特定のグループを抽出する\n",
    "* 並べ替え\n",
    "* グループ毎の統計量を比較\n",
    "* 複数のカテゴリ（クラス）でのグループ化とMultiIndexの扱い   \n",
    "---"
   ]
  },
  {
   "cell_type": "markdown",
   "id": "db11ed55",
   "metadata": {},
   "source": [
    "グループ化し、特定のグループを抽出する"
   ]
  },
  {
   "cell_type": "code",
   "execution_count": null,
   "id": "c1764753",
   "metadata": {},
   "outputs": [],
   "source": [
    "df.groupby('Color')"
   ]
  },
  {
   "cell_type": "code",
   "execution_count": null,
   "id": "0fcb615e",
   "metadata": {},
   "outputs": [],
   "source": [
    "# グループの確認\n",
    "df.groupby('Color').groups"
   ]
  },
  {
   "cell_type": "code",
   "execution_count": null,
   "id": "4e75cebd",
   "metadata": {},
   "outputs": [],
   "source": [
    "# 特定のグループのインデックス\n",
    "df.groupby('Color').groups['blue']"
   ]
  },
  {
   "cell_type": "code",
   "execution_count": null,
   "id": "30474799",
   "metadata": {},
   "outputs": [],
   "source": [
    "# 特定のグループの全サンプル\n",
    "df.groupby('Color').get_group('blue').head()\n",
    "# df[df['Color'] == 'blue'].head()"
   ]
  },
  {
   "cell_type": "markdown",
   "id": "6074134e",
   "metadata": {},
   "source": [
    "並べ替え"
   ]
  },
  {
   "cell_type": "code",
   "execution_count": null,
   "id": "b8e85db8",
   "metadata": {},
   "outputs": [],
   "source": [
    "df_sorted = df.sort_values(by=['Color'])\n",
    "df_sorted.head()"
   ]
  },
  {
   "cell_type": "code",
   "execution_count": null,
   "id": "0ccfdd46",
   "metadata": {
    "scrolled": true
   },
   "outputs": [],
   "source": [
    "# インデックス自体に名を付ける\n",
    "# その名を使ってあらためてソートすることで昇順などにできる\n",
    "df_sorted.rename_axis('ID', axis=0, inplace=True)\n",
    "df_sorted.head()"
   ]
  },
  {
   "cell_type": "code",
   "execution_count": null,
   "id": "e3b4b9ac",
   "metadata": {},
   "outputs": [],
   "source": [
    "# 'Color'を先にすることで優先される\n",
    "# ascending : 降順\n",
    "df_sorted.sort_values(by=['Color', 'ID'], na_position='first', ascending=[True, False])"
   ]
  },
  {
   "cell_type": "code",
   "execution_count": null,
   "id": "b130fa69",
   "metadata": {},
   "outputs": [],
   "source": [
    "pd.concat([df[df['Color'].isnull()].sort_index(), df[df['Color'] == 'blue'].sort_index(), df[df['Color'] == 'green'].sort_index(), df[df['Color'] == 'red'].sort_index()])\n",
    "# このように冗長になっても何ら問題はありません\n",
    "# まずは自分の思考に沿った方法で行い、新しく出会った方法などを採り入れてリファクタリングを行ってください"
   ]
  },
  {
   "cell_type": "markdown",
   "id": "17d769fd",
   "metadata": {},
   "source": [
    "グループ毎の統計量を比較"
   ]
  },
  {
   "cell_type": "code",
   "execution_count": null,
   "id": "da1f3e35",
   "metadata": {},
   "outputs": [],
   "source": [
    "df.groupby('Color')['Quality']"
   ]
  },
  {
   "cell_type": "code",
   "execution_count": null,
   "id": "1b218e6b",
   "metadata": {},
   "outputs": [],
   "source": [
    "df.groupby('Color')['Quality'].mean()"
   ]
  },
  {
   "cell_type": "code",
   "execution_count": null,
   "id": "16945026",
   "metadata": {},
   "outputs": [],
   "source": [
    "# aggrigation : 集計\n",
    "df.groupby('Color')['Quality'].agg(['count', 'min', 'max', 'sum', 'mean', 'median', 'std'])"
   ]
  },
  {
   "cell_type": "code",
   "execution_count": null,
   "id": "bdea60b2",
   "metadata": {},
   "outputs": [],
   "source": [
    "# aggを使うよりもdescribe()が簡潔\n",
    "df.groupby('Color')['Quality'].describe()"
   ]
  },
  {
   "cell_type": "markdown",
   "id": "e58a74a1",
   "metadata": {},
   "source": [
    "複数のカテゴリ（クラス）でのグループ化とMultiIndexの扱い"
   ]
  },
  {
   "cell_type": "code",
   "execution_count": null,
   "id": "d01089dd",
   "metadata": {},
   "outputs": [],
   "source": [
    "df.groupby(['Color', 'Shape']).groups"
   ]
  },
  {
   "cell_type": "code",
   "execution_count": null,
   "id": "b8e2ac88",
   "metadata": {},
   "outputs": [],
   "source": [
    "df.groupby(['Color', 'Shape']).get_group(('blue', 'circle'))"
   ]
  },
  {
   "cell_type": "code",
   "execution_count": null,
   "id": "82e00a74",
   "metadata": {},
   "outputs": [],
   "source": [
    "df_G = df.groupby(['Color', 'Shape']).describe()\n",
    "df_G"
   ]
  },
  {
   "cell_type": "code",
   "execution_count": null,
   "id": "e7c10e62",
   "metadata": {},
   "outputs": [],
   "source": [
    "df_G.index"
   ]
  },
  {
   "cell_type": "code",
   "execution_count": null,
   "id": "be0a5a73",
   "metadata": {},
   "outputs": [],
   "source": [
    "# インデックスのタプル('green', 'circle')をそのまま使える\n",
    "df_G.loc[('green', 'circle'), 'Price']"
   ]
  },
  {
   "cell_type": "code",
   "execution_count": null,
   "id": "155793b3",
   "metadata": {},
   "outputs": [],
   "source": [
    "df_G.loc['green', 'Price']\n",
    "# ひとつ目のインデックスならば'green'という指定でよい"
   ]
  },
  {
   "cell_type": "code",
   "execution_count": null,
   "id": "0f792ccc",
   "metadata": {},
   "outputs": [],
   "source": [
    "# ふたつ目のインデックスで絞り込みたい場合は\n",
    "df_G.index.get_level_values('Shape') == 'circle'"
   ]
  },
  {
   "cell_type": "code",
   "execution_count": null,
   "id": "fc3cfce2",
   "metadata": {},
   "outputs": [],
   "source": [
    "df_G[df_G.index.get_level_values('Shape') == 'circle']"
   ]
  },
  {
   "cell_type": "code",
   "execution_count": null,
   "id": "d217af15",
   "metadata": {},
   "outputs": [],
   "source": [
    "# クロスセクション、こちらは簡潔な記述で使える\n",
    "df_G.xs('circle', level='Shape')"
   ]
  },
  {
   "cell_type": "markdown",
   "id": "f251c3d1",
   "metadata": {
    "scrolled": true
   },
   "source": [
    "---\n",
    "<a id=6></a>\n",
    "[Topへ](#0)\n",
    "\n",
    "---\n",
    "## 6.重複、 欠損値の処理"
   ]
  },
  {
   "cell_type": "markdown",
   "id": "e3ef4bd1",
   "metadata": {},
   "source": [
    "* 重複レコードの削除\n",
    "* 欠損値の確認\n",
    "* 欠損値レコードを削除\n",
    "* 欠損値を平均値で置換    \n",
    "* scikit learn の SimpleImputerを使う\n",
    "---"
   ]
  },
  {
   "cell_type": "markdown",
   "id": "d6a3b28a",
   "metadata": {},
   "source": [
    "重複レコードの削除"
   ]
  },
  {
   "cell_type": "code",
   "execution_count": null,
   "id": "e35c4baa",
   "metadata": {},
   "outputs": [],
   "source": [
    "df_dup = df.loc[17:18]\n",
    "df = df.append(df_dup)\n",
    "# カラム名が一致している場合はappendでレコードを追加する\n",
    "df.shape"
   ]
  },
  {
   "cell_type": "code",
   "execution_count": null,
   "id": "2ca14e8a",
   "metadata": {},
   "outputs": [],
   "source": [
    "df.tail()"
   ]
  },
  {
   "cell_type": "code",
   "execution_count": null,
   "id": "ff24e2fd",
   "metadata": {},
   "outputs": [],
   "source": [
    "df.duplicated()"
   ]
  },
  {
   "cell_type": "code",
   "execution_count": null,
   "id": "47b320af",
   "metadata": {},
   "outputs": [],
   "source": [
    "df.duplicated()[16:20]\n",
    "# 重複している最初のレコードはFalseとなる"
   ]
  },
  {
   "cell_type": "code",
   "execution_count": null,
   "id": "ab59cc1a",
   "metadata": {},
   "outputs": [],
   "source": [
    "df.drop_duplicates(inplace=True)"
   ]
  },
  {
   "cell_type": "code",
   "execution_count": null,
   "id": "bc854672",
   "metadata": {},
   "outputs": [],
   "source": [
    "df.tail()"
   ]
  },
  {
   "cell_type": "markdown",
   "id": "01d3aae0",
   "metadata": {},
   "source": [
    "欠損値の確認"
   ]
  },
  {
   "cell_type": "code",
   "execution_count": null,
   "id": "578787f9",
   "metadata": {},
   "outputs": [],
   "source": [
    "df.isnull().sum()"
   ]
  },
  {
   "cell_type": "code",
   "execution_count": null,
   "id": "b38d6d2d",
   "metadata": {},
   "outputs": [],
   "source": [
    "df.isnull().sum(axis=1)"
   ]
  },
  {
   "cell_type": "code",
   "execution_count": null,
   "id": "611208c2",
   "metadata": {},
   "outputs": [],
   "source": [
    "df[df.isnull().sum(axis=1) > 1]"
   ]
  },
  {
   "cell_type": "markdown",
   "id": "67658598",
   "metadata": {},
   "source": [
    "欠損値レコードを削除"
   ]
  },
  {
   "cell_type": "code",
   "execution_count": null,
   "id": "bafc7cd6",
   "metadata": {},
   "outputs": [],
   "source": [
    "# df.drop(index=[4, 99])\n",
    "df.dropna(thresh=9, inplace=True)\n",
    "# threshold : 閾値（いきち、しきいち）\n",
    "# 9のnon-nullがあれば残し、そうでなければdrop"
   ]
  },
  {
   "cell_type": "code",
   "execution_count": null,
   "id": "edf67230",
   "metadata": {},
   "outputs": [],
   "source": [
    "df.shape"
   ]
  },
  {
   "cell_type": "code",
   "execution_count": null,
   "id": "a2ce9999",
   "metadata": {},
   "outputs": [],
   "source": [
    "df_non_null = df.dropna()\n",
    "# nullがひとつでもあればdrop\n",
    "df_non_null.info()"
   ]
  },
  {
   "cell_type": "code",
   "execution_count": null,
   "id": "087671bb",
   "metadata": {},
   "outputs": [],
   "source": [
    "df.isnull().sum()"
   ]
  },
  {
   "cell_type": "code",
   "execution_count": null,
   "id": "62828030",
   "metadata": {},
   "outputs": [],
   "source": [
    "# dropの対象とするカラムを指定\n",
    "df.dropna(subset=['Date', 'Color', 'Shape'], inplace=True)"
   ]
  },
  {
   "cell_type": "code",
   "execution_count": null,
   "id": "b1b5d6dc",
   "metadata": {
    "scrolled": true
   },
   "outputs": [],
   "source": [
    "df.info()"
   ]
  },
  {
   "cell_type": "markdown",
   "id": "29cbe3e6",
   "metadata": {},
   "source": [
    "欠損値を平均値で置き換え"
   ]
  },
  {
   "cell_type": "code",
   "execution_count": null,
   "id": "f7fd7c7f",
   "metadata": {},
   "outputs": [],
   "source": [
    "hasnull_index = df[df.isnull().sum(axis=1) > 0].index\n",
    "hasnull_index"
   ]
  },
  {
   "cell_type": "code",
   "execution_count": null,
   "id": "d14c576d",
   "metadata": {},
   "outputs": [],
   "source": [
    "# df.iloc[:, 3:8].describe()\n",
    "df.iloc[:, 3:8].mean()"
   ]
  },
  {
   "cell_type": "code",
   "execution_count": null,
   "id": "c74d93b6",
   "metadata": {},
   "outputs": [],
   "source": [
    "replace_dict = df.iloc[:, 3:8].mean().to_dict()\n",
    "replace_dict"
   ]
  },
  {
   "cell_type": "code",
   "execution_count": null,
   "id": "357f53e9",
   "metadata": {},
   "outputs": [],
   "source": [
    "# dictionary comprehension 辞書内包表記\n",
    "replace_dict = {key : np.round(value, 2) for key, value in replace_dict.items()}\n",
    "replace_dict"
   ]
  },
  {
   "cell_type": "code",
   "execution_count": null,
   "id": "d25c5caa",
   "metadata": {},
   "outputs": [],
   "source": [
    "# {'id': 777, 'address':'Tokyo'}.items()"
   ]
  },
  {
   "cell_type": "code",
   "execution_count": null,
   "id": "25cd9fb4",
   "metadata": {},
   "outputs": [],
   "source": [
    "# dictionaryを元に欠損値を補間（「補完」ではなく「補間」）\n",
    "df.fillna(replace_dict, inplace=True)"
   ]
  },
  {
   "cell_type": "code",
   "execution_count": null,
   "id": "badb044e",
   "metadata": {},
   "outputs": [],
   "source": [
    "df.loc[hasnull_index]"
   ]
  },
  {
   "cell_type": "markdown",
   "id": "0ded69f5",
   "metadata": {},
   "source": [
    "scikit learn の SimpleImputer を使う"
   ]
  },
  {
   "cell_type": "code",
   "execution_count": null,
   "id": "462d5e27",
   "metadata": {},
   "outputs": [],
   "source": [
    "df = pd.read_csv('sample1_without_index.csv', usecols=['Width', 'Height'])\n",
    "df.head(2)\n",
    "# usecolsは無理に使う必要はない\n",
    "# 使用するカラムだけを切り取るか、他をドロップして使用すればよい"
   ]
  },
  {
   "cell_type": "code",
   "execution_count": null,
   "id": "665b6a75",
   "metadata": {},
   "outputs": [],
   "source": [
    "from sklearn.impute import SimpleImputer"
   ]
  },
  {
   "cell_type": "markdown",
   "id": "f66d0e12",
   "metadata": {},
   "source": [
    "https://scikit-learn.org/stable/modules/generated/sklearn.impute.SimpleImputer.html"
   ]
  },
  {
   "cell_type": "code",
   "execution_count": null,
   "id": "cd41df99",
   "metadata": {},
   "outputs": [],
   "source": [
    "# インスタンスの作成\n",
    "mean_imputer = SimpleImputer(strategy='mean')"
   ]
  },
  {
   "cell_type": "code",
   "execution_count": null,
   "id": "015c1fc4",
   "metadata": {},
   "outputs": [],
   "source": [
    "# fitは「学習」のような認識でよい\n",
    "mean_imputer.fit(df[['Width']])"
   ]
  },
  {
   "cell_type": "code",
   "execution_count": null,
   "id": "8c822236",
   "metadata": {},
   "outputs": [],
   "source": [
    "# transformで学習したことを実行\n",
    "df['Width_Imputed'] = mean_imputer.transform(df[['Width']])"
   ]
  },
  {
   "cell_type": "code",
   "execution_count": null,
   "id": "f853ae7b",
   "metadata": {},
   "outputs": [],
   "source": [
    "df[df['Width'].isnull()]"
   ]
  },
  {
   "cell_type": "code",
   "execution_count": null,
   "id": "7c41af0c",
   "metadata": {},
   "outputs": [],
   "source": [
    "df.head()"
   ]
  },
  {
   "cell_type": "code",
   "execution_count": null,
   "id": "34d80fe5",
   "metadata": {},
   "outputs": [],
   "source": [
    "median_imputer = SimpleImputer(strategy='median')"
   ]
  },
  {
   "cell_type": "code",
   "execution_count": null,
   "id": "9263cc6e",
   "metadata": {},
   "outputs": [],
   "source": [
    "# fit_transformで一行で学習と実行を行う\n",
    "df['Height_Imputed'] = median_imputer.fit_transform(df[['Height']])"
   ]
  },
  {
   "cell_type": "code",
   "execution_count": null,
   "id": "ccd720c7",
   "metadata": {},
   "outputs": [],
   "source": [
    "df[df['Width'].isnull() | df['Height'].isnull()]"
   ]
  },
  {
   "cell_type": "code",
   "execution_count": null,
   "id": "066d23e6",
   "metadata": {},
   "outputs": [],
   "source": [
    "df.agg(['mean', 'median'])\n",
    "# 素直にdf.describe()でかまいません"
   ]
  },
  {
   "cell_type": "markdown",
   "id": "f0d952ab",
   "metadata": {},
   "source": [
    "---\n",
    " <a id=4></a>\n",
    "[Topへ](#0)\n",
    "\n",
    "---\n",
    "## 以上\n",
    "    \n",
    "---"
   ]
  }
 ],
 "metadata": {
  "kernelspec": {
   "display_name": "Python 3",
   "language": "python",
   "name": "python3"
  },
  "language_info": {
   "codemirror_mode": {
    "name": "ipython",
    "version": 3
   },
   "file_extension": ".py",
   "mimetype": "text/x-python",
   "name": "python",
   "nbconvert_exporter": "python",
   "pygments_lexer": "ipython3",
   "version": "3.11.3"
  }
 },
 "nbformat": 4,
 "nbformat_minor": 5
}
