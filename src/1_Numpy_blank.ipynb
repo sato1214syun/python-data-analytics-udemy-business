{
 "cells": [
  {
   "attachments": {},
   "cell_type": "markdown",
   "id": "2346558a",
   "metadata": {},
   "source": [
    "<a id=0></a>  \n",
    "# 1. Numpy ndarrayを理解する\n",
    "### ※ Numpy : ”Numerical Python”、数値計算・配列計算を高速で実行できるパッケージ"
   ]
  },
  {
   "attachments": {},
   "cell_type": "markdown",
   "id": "d42a05df",
   "metadata": {},
   "source": [
    "---\n",
    "### [1.Python ListとNumpy ndarray ](#1)\n",
    "### [2.Numpyの関数で連番、等差数列を作成](#2)\n",
    "### [3.Randomモジュールによる乱数Arrayの作成と次元の変換](#3)\n",
    "### [4.Numpy ndarrayの次元、形状、サイズ](#4)\n",
    "### [5.Numpy ndarrayの演算例](#5)\n",
    "---"
   ]
  },
  {
   "attachments": {},
   "cell_type": "markdown",
   "id": "650acfd3",
   "metadata": {},
   "source": [
    "Numpyをnpというエイリアス（別名）でインポートする  "
   ]
  },
  {
   "cell_type": "code",
   "execution_count": 2,
   "id": "972ba1da",
   "metadata": {},
   "outputs": [],
   "source": [
    "import numpy as np"
   ]
  },
  {
   "attachments": {},
   "cell_type": "markdown",
   "id": "1279c566",
   "metadata": {},
   "source": [
    "---\n",
    "<a id=1></a>\n",
    "[Topへ](#0)\n",
    "\n",
    "---\n",
    "## 1.Python ListとNumpy ndarray      "
   ]
  },
  {
   "attachments": {},
   "cell_type": "markdown",
   "id": "0e8bcf67",
   "metadata": {},
   "source": [
    "* ListとNumpy ndarrayを作成\n",
    "* 型（タイプ）を確認  \n",
    "* Numpy ndarrayのデータタイプ（Numpy ndarrayではすべての要素のデータタイプが統一される）\n",
    "* Numpy ndarrayの演算例\n",
    "* Numpy ndarrayの最大値、最小値、平均、合計\n",
    "* Numpy ndarrayは要素の形状を一定に\n",
    "* Numpy ndarrayのデータタイプ変換\n",
    "---"
   ]
  },
  {
   "attachments": {},
   "cell_type": "markdown",
   "id": "1471a3cb",
   "metadata": {},
   "source": [
    "List と ndarrayを作成"
   ]
  },
  {
   "cell_type": "code",
   "execution_count": 3,
   "id": "160306be",
   "metadata": {},
   "outputs": [
    {
     "data": {
      "text/plain": [
       "[1, 3, 5]"
      ]
     },
     "execution_count": 3,
     "metadata": {},
     "output_type": "execute_result"
    }
   ],
   "source": [
    "arr1 = [1, 3, 5]\n",
    "arr2 = [2, 4, 6]\n",
    "arr1"
   ]
  },
  {
   "attachments": {},
   "cell_type": "markdown",
   "id": "5938050d",
   "metadata": {},
   "source": [
    "型（タイプ）を確認  \n",
    "※ ndarray : n dimentional array（多次元配列）"
   ]
  },
  {
   "cell_type": "code",
   "execution_count": 4,
   "id": "69785e4b",
   "metadata": {
    "scrolled": true
   },
   "outputs": [
    {
     "data": {
      "text/plain": [
       "array([1, 3, 5])"
      ]
     },
     "execution_count": 4,
     "metadata": {},
     "output_type": "execute_result"
    }
   ],
   "source": [
    "np_arr1 = np.array(arr1)\n",
    "np_arr2= np.array(arr2)\n",
    "np_arr1"
   ]
  },
  {
   "attachments": {},
   "cell_type": "markdown",
   "id": "732627d7",
   "metadata": {},
   "source": [
    "Numpy ndarrayのデータタイプ（Numpy ndarrayではすべての要素のデータタイプが統一される）"
   ]
  },
  {
   "cell_type": "code",
   "execution_count": 5,
   "id": "5f213384",
   "metadata": {},
   "outputs": [
    {
     "name": "stdout",
     "output_type": "stream",
     "text": [
      "<class 'list'>\n",
      "<class 'numpy.ndarray'>\n"
     ]
    }
   ],
   "source": [
    "print(type(arr1))\n",
    "print(type(np_arr1))"
   ]
  },
  {
   "attachments": {},
   "cell_type": "markdown",
   "id": "85da2428",
   "metadata": {},
   "source": [
    "NumpyArrayの演算例"
   ]
  },
  {
   "cell_type": "code",
   "execution_count": 6,
   "id": "e79e506b",
   "metadata": {},
   "outputs": [
    {
     "data": {
      "text/plain": [
       "dtype('int64')"
      ]
     },
     "execution_count": 6,
     "metadata": {},
     "output_type": "execute_result"
    }
   ],
   "source": [
    "np_arr1.dtype"
   ]
  },
  {
   "cell_type": "code",
   "execution_count": 7,
   "id": "246f3aa7",
   "metadata": {},
   "outputs": [],
   "source": [
    "# arr1.dtype"
   ]
  },
  {
   "attachments": {},
   "cell_type": "markdown",
   "id": "e3848cf8",
   "metadata": {},
   "source": [
    "Numpy ndarrayの最大値、最小値、平均、合計、分散、標準偏差（全要素に対する）"
   ]
  },
  {
   "cell_type": "code",
   "execution_count": 8,
   "id": "94ceca02",
   "metadata": {},
   "outputs": [
    {
     "data": {
      "text/plain": [
       "array([ 2,  6, 10])"
      ]
     },
     "execution_count": 8,
     "metadata": {},
     "output_type": "execute_result"
    }
   ],
   "source": [
    "np_arr1 * 2"
   ]
  },
  {
   "cell_type": "code",
   "execution_count": 11,
   "id": "ef3470e3",
   "metadata": {},
   "outputs": [
    {
     "data": {
      "text/plain": [
       "array([ 3,  7, 11])"
      ]
     },
     "execution_count": 11,
     "metadata": {},
     "output_type": "execute_result"
    }
   ],
   "source": [
    "np_arr1 + np_arr2"
   ]
  },
  {
   "cell_type": "code",
   "execution_count": 12,
   "id": "59f2ebac",
   "metadata": {},
   "outputs": [
    {
     "data": {
      "text/plain": [
       "array([ 2, 12, 30])"
      ]
     },
     "execution_count": 12,
     "metadata": {},
     "output_type": "execute_result"
    }
   ],
   "source": [
    "np_arr1 * np_arr2"
   ]
  },
  {
   "cell_type": "code",
   "execution_count": null,
   "id": "afe5da4d",
   "metadata": {},
   "outputs": [],
   "source": [
    "# arr1 * arr2"
   ]
  },
  {
   "cell_type": "code",
   "execution_count": 13,
   "id": "b0e3d76a",
   "metadata": {},
   "outputs": [
    {
     "data": {
      "text/plain": [
       "5"
      ]
     },
     "execution_count": 13,
     "metadata": {},
     "output_type": "execute_result"
    }
   ],
   "source": [
    "np_arr1.max()"
   ]
  },
  {
   "cell_type": "code",
   "execution_count": 14,
   "id": "28a93237",
   "metadata": {},
   "outputs": [
    {
     "data": {
      "text/plain": [
       "1"
      ]
     },
     "execution_count": 14,
     "metadata": {},
     "output_type": "execute_result"
    }
   ],
   "source": [
    "np_arr1.min()"
   ]
  },
  {
   "cell_type": "code",
   "execution_count": 18,
   "id": "0aab7291",
   "metadata": {},
   "outputs": [
    {
     "data": {
      "text/plain": [
       "9"
      ]
     },
     "execution_count": 18,
     "metadata": {},
     "output_type": "execute_result"
    }
   ],
   "source": [
    "np_arr1.sum()"
   ]
  },
  {
   "cell_type": "code",
   "execution_count": 19,
   "id": "c4df9ecf",
   "metadata": {},
   "outputs": [
    {
     "data": {
      "text/plain": [
       "2.6666666666666665"
      ]
     },
     "execution_count": 19,
     "metadata": {},
     "output_type": "execute_result"
    }
   ],
   "source": [
    "np_arr1.var()"
   ]
  },
  {
   "cell_type": "code",
   "execution_count": 20,
   "id": "d7fc00c0",
   "metadata": {},
   "outputs": [
    {
     "data": {
      "text/plain": [
       "1.632993161855452"
      ]
     },
     "execution_count": 20,
     "metadata": {},
     "output_type": "execute_result"
    }
   ],
   "source": [
    "np_arr1.std()"
   ]
  },
  {
   "attachments": {},
   "cell_type": "markdown",
   "id": "a70bb654",
   "metadata": {},
   "source": [
    "ファンシーインデックス"
   ]
  },
  {
   "cell_type": "code",
   "execution_count": 24,
   "id": "d6a92f52",
   "metadata": {},
   "outputs": [],
   "source": [
    "arr3 = [[0, 100], [200, 300]]\n",
    "np_arr3 = np.array(arr3)"
   ]
  },
  {
   "attachments": {},
   "cell_type": "markdown",
   "id": "28c17db2",
   "metadata": {},
   "source": [
    "Numpy ndarrayは各次元の要素の形状を一定に"
   ]
  },
  {
   "cell_type": "code",
   "execution_count": 25,
   "id": "e295a1d2",
   "metadata": {},
   "outputs": [
    {
     "data": {
      "text/plain": [
       "100"
      ]
     },
     "execution_count": 25,
     "metadata": {},
     "output_type": "execute_result"
    }
   ],
   "source": [
    "arr3[0][1]"
   ]
  },
  {
   "cell_type": "code",
   "execution_count": 26,
   "id": "2361699b",
   "metadata": {},
   "outputs": [
    {
     "data": {
      "text/plain": [
       "100"
      ]
     },
     "execution_count": 26,
     "metadata": {},
     "output_type": "execute_result"
    }
   ],
   "source": [
    "np_arr3[0][1]"
   ]
  },
  {
   "cell_type": "code",
   "execution_count": 27,
   "id": "c2a32363",
   "metadata": {},
   "outputs": [
    {
     "data": {
      "text/plain": [
       "array([[  0, 100],\n",
       "       [200, 300]])"
      ]
     },
     "execution_count": 27,
     "metadata": {},
     "output_type": "execute_result"
    }
   ],
   "source": [
    "np_arr3"
   ]
  },
  {
   "cell_type": "code",
   "execution_count": 29,
   "id": "c14894b8",
   "metadata": {},
   "outputs": [],
   "source": [
    "arr4 = [0, [100, 200], [300, 400, 500]]"
   ]
  },
  {
   "cell_type": "code",
   "execution_count": 31,
   "id": "ff00ca66",
   "metadata": {},
   "outputs": [
    {
     "data": {
      "text/plain": [
       "array([[0, list([1, 2])],\n",
       "       [3, list([4, 5])]], dtype=object)"
      ]
     },
     "execution_count": 31,
     "metadata": {},
     "output_type": "execute_result"
    }
   ],
   "source": [
    "arr5=[[0, [1, 2]], [3, [4, 5]]]\n",
    "np.array(arr5 ,dtype=\"object\")"
   ]
  },
  {
   "attachments": {},
   "cell_type": "markdown",
   "id": "0ab71d25",
   "metadata": {},
   "source": [
    "Numpy ndarrayのデータタイプ変換"
   ]
  },
  {
   "cell_type": "code",
   "execution_count": 33,
   "id": "d287170d",
   "metadata": {},
   "outputs": [
    {
     "data": {
      "text/plain": [
       "array([[0., 1., 2.],\n",
       "       [3., 4., 5.]])"
      ]
     },
     "execution_count": 33,
     "metadata": {},
     "output_type": "execute_result"
    }
   ],
   "source": [
    "arr6 = [[0, 1, 2.0], [3, 4, 5]]\n",
    "np_arr6 = np.array(arr6)\n",
    "np_arr6"
   ]
  },
  {
   "cell_type": "code",
   "execution_count": 34,
   "id": "6568e9f3",
   "metadata": {},
   "outputs": [
    {
     "data": {
      "text/plain": [
       "dtype('float64')"
      ]
     },
     "execution_count": 34,
     "metadata": {},
     "output_type": "execute_result"
    }
   ],
   "source": [
    "np_arr6.dtype"
   ]
  },
  {
   "cell_type": "code",
   "execution_count": 35,
   "id": "d413a552",
   "metadata": {},
   "outputs": [],
   "source": [
    "np_arr6 = np_arr6.astype(int)"
   ]
  },
  {
   "cell_type": "code",
   "execution_count": 38,
   "id": "eac3d183",
   "metadata": {},
   "outputs": [
    {
     "data": {
      "text/plain": [
       "dtype('int64')"
      ]
     },
     "execution_count": 38,
     "metadata": {},
     "output_type": "execute_result"
    }
   ],
   "source": [
    "np_arr6.dtype"
   ]
  },
  {
   "cell_type": "code",
   "execution_count": 39,
   "id": "a07cc8bb",
   "metadata": {},
   "outputs": [
    {
     "data": {
      "text/plain": [
       "dtype('<U21')"
      ]
     },
     "execution_count": 39,
     "metadata": {},
     "output_type": "execute_result"
    }
   ],
   "source": [
    "arr7 = [[0, 1, \"2\"], [3, 4, 5]]\n",
    "np_arr7 = np.array(arr7)\n",
    "np_arr7.dtype"
   ]
  },
  {
   "cell_type": "code",
   "execution_count": 40,
   "id": "30ce573d",
   "metadata": {},
   "outputs": [
    {
     "data": {
      "text/plain": [
       "dtype('int64')"
      ]
     },
     "execution_count": 40,
     "metadata": {},
     "output_type": "execute_result"
    }
   ],
   "source": [
    "np_arr7.astype(int).dtype"
   ]
  },
  {
   "cell_type": "code",
   "execution_count": 41,
   "id": "5123de8d",
   "metadata": {},
   "outputs": [
    {
     "data": {
      "text/plain": [
       "dtype('O')"
      ]
     },
     "execution_count": 41,
     "metadata": {},
     "output_type": "execute_result"
    }
   ],
   "source": [
    "np_arr7.astype(object).dtype"
   ]
  },
  {
   "cell_type": "code",
   "execution_count": null,
   "id": "0afcc233",
   "metadata": {},
   "outputs": [],
   "source": []
  },
  {
   "attachments": {},
   "cell_type": "markdown",
   "id": "f3f21f22",
   "metadata": {},
   "source": [
    "---\n",
    "<a id=2></a>\n",
    "[Topへ](#0)\n",
    "\n",
    "---\n",
    "## 2.Numpyの関数で数列を作成"
   ]
  },
  {
   "attachments": {},
   "cell_type": "markdown",
   "id": "6cb9efd3",
   "metadata": {},
   "source": [
    "* np.arange(start, stop, step) : 等差数列\n",
    "* np.linspace(start, stop, size) : 範囲と生成数から作成\n",
    "---"
   ]
  },
  {
   "attachments": {},
   "cell_type": "markdown",
   "id": "76c20373",
   "metadata": {},
   "source": [
    "np.arange(start, stop, step) : 等差数列（正の値のみ）"
   ]
  },
  {
   "cell_type": "code",
   "execution_count": 42,
   "id": "aa071ddd",
   "metadata": {},
   "outputs": [
    {
     "data": {
      "text/plain": [
       "array([0, 1, 2, 3, 4, 5, 6, 7])"
      ]
     },
     "execution_count": 42,
     "metadata": {},
     "output_type": "execute_result"
    }
   ],
   "source": [
    "np.arange(8)\n",
    "# start = 0, step  = 1"
   ]
  },
  {
   "cell_type": "code",
   "execution_count": 43,
   "id": "54a19dcd",
   "metadata": {},
   "outputs": [
    {
     "data": {
      "text/plain": [
       "array([0, 1, 2, 3, 4, 5, 6, 7])"
      ]
     },
     "execution_count": 43,
     "metadata": {},
     "output_type": "execute_result"
    }
   ],
   "source": [
    "np.arange(0, 8, 1)"
   ]
  },
  {
   "cell_type": "code",
   "execution_count": 44,
   "id": "40c2c812",
   "metadata": {},
   "outputs": [
    {
     "data": {
      "text/plain": [
       "array([-5, -4, -3, -2, -1,  0,  1,  2,  3,  4])"
      ]
     },
     "execution_count": 44,
     "metadata": {},
     "output_type": "execute_result"
    }
   ],
   "source": [
    "np.arange(-5, 5, 1)"
   ]
  },
  {
   "attachments": {},
   "cell_type": "markdown",
   "id": "6a03f72a",
   "metadata": {},
   "source": [
    "np.linspace(start, stop, size) : 範囲と生成数から作成"
   ]
  },
  {
   "cell_type": "code",
   "execution_count": 46,
   "id": "a8486767",
   "metadata": {},
   "outputs": [
    {
     "data": {
      "text/plain": [
       "array([0.        , 0.16326531, 0.32653061, 0.48979592, 0.65306122,\n",
       "       0.81632653, 0.97959184, 1.14285714, 1.30612245, 1.46938776,\n",
       "       1.63265306, 1.79591837, 1.95918367, 2.12244898, 2.28571429,\n",
       "       2.44897959, 2.6122449 , 2.7755102 , 2.93877551, 3.10204082,\n",
       "       3.26530612, 3.42857143, 3.59183673, 3.75510204, 3.91836735,\n",
       "       4.08163265, 4.24489796, 4.40816327, 4.57142857, 4.73469388,\n",
       "       4.89795918, 5.06122449, 5.2244898 , 5.3877551 , 5.55102041,\n",
       "       5.71428571, 5.87755102, 6.04081633, 6.20408163, 6.36734694,\n",
       "       6.53061224, 6.69387755, 6.85714286, 7.02040816, 7.18367347,\n",
       "       7.34693878, 7.51020408, 7.67346939, 7.83673469, 8.        ])"
      ]
     },
     "execution_count": 46,
     "metadata": {},
     "output_type": "execute_result"
    }
   ],
   "source": [
    "np.linspace(0, 8)"
   ]
  },
  {
   "cell_type": "code",
   "execution_count": 49,
   "id": "e3c24153",
   "metadata": {},
   "outputs": [
    {
     "data": {
      "text/plain": [
       "array([ 0.,  1.,  2.,  3.,  4.,  5.,  6.,  7.,  8.,  9., 10.])"
      ]
     },
     "execution_count": 49,
     "metadata": {},
     "output_type": "execute_result"
    }
   ],
   "source": [
    "np.linspace(0, 10, 11)"
   ]
  },
  {
   "cell_type": "code",
   "execution_count": 50,
   "id": "eee076a0",
   "metadata": {},
   "outputs": [
    {
     "data": {
      "text/plain": [
       "array([0., 1., 2., 3., 4., 5., 6., 7., 8., 9.])"
      ]
     },
     "execution_count": 50,
     "metadata": {},
     "output_type": "execute_result"
    }
   ],
   "source": [
    "np.linspace(0, 10, 10, False)"
   ]
  },
  {
   "attachments": {},
   "cell_type": "markdown",
   "id": "a96367d0",
   "metadata": {},
   "source": [
    "---\n",
    "<a id=3></a>\n",
    "[Topへ](#0)\n",
    "\n",
    "---\n",
    "## 3.Randomモジュールによる乱数Arrayの作成"
   ]
  },
  {
   "attachments": {},
   "cell_type": "markdown",
   "id": "e5cf2532",
   "metadata": {},
   "source": [
    "* np.random.randint(low, high, size): 整数\n",
    "* 乱数シード\n",
    "* np.random.rand(size) : 0以上1未満 \n",
    "* np.random.randn(size) : 平均0、標準偏差1、正規分布に近づく数列  \n",
    "* np.random.normal(average, satandard_deviation, size) : 平均と標準偏差を指定、正規分布に近づく数列\n",
    "* np.random.uniform(low, high, size) : 範囲と生成数を指定\n",
    "* np.random.choice(array, size) : Listの値をランダムに選択\n",
    "---"
   ]
  },
  {
   "attachments": {},
   "cell_type": "markdown",
   "id": "48445f81",
   "metadata": {},
   "source": [
    "np.random.randint(low, high, size): 整数"
   ]
  },
  {
   "cell_type": "code",
   "execution_count": 53,
   "id": "0a93eff2",
   "metadata": {},
   "outputs": [
    {
     "data": {
      "text/plain": [
       "10"
      ]
     },
     "execution_count": 53,
     "metadata": {},
     "output_type": "execute_result"
    }
   ],
   "source": [
    "np.random.randint(10, 20)"
   ]
  },
  {
   "cell_type": "code",
   "execution_count": 57,
   "id": "79db42bf",
   "metadata": {},
   "outputs": [
    {
     "data": {
      "text/plain": [
       "array([10, 18, 15, 11, 19])"
      ]
     },
     "execution_count": 57,
     "metadata": {},
     "output_type": "execute_result"
    }
   ],
   "source": [
    "np.random.randint(10, 20, 5)"
   ]
  },
  {
   "cell_type": "code",
   "execution_count": 58,
   "id": "e24550cd",
   "metadata": {},
   "outputs": [
    {
     "data": {
      "text/plain": [
       "array([[17, 18, 12, 10],\n",
       "       [17, 11, 16, 15],\n",
       "       [13, 12, 18, 18]])"
      ]
     },
     "execution_count": 58,
     "metadata": {},
     "output_type": "execute_result"
    }
   ],
   "source": [
    "np.random.randint(10, 20, (3, 4))"
   ]
  },
  {
   "cell_type": "code",
   "execution_count": 60,
   "id": "0eaf2b8c",
   "metadata": {},
   "outputs": [
    {
     "data": {
      "text/plain": [
       "array([[[17, 16],\n",
       "        [12, 13],\n",
       "        [17, 16],\n",
       "        [18, 14]],\n",
       "\n",
       "       [[18, 11],\n",
       "        [12, 15],\n",
       "        [13, 14],\n",
       "        [12, 19]],\n",
       "\n",
       "       [[11, 12],\n",
       "        [16, 19],\n",
       "        [16, 17],\n",
       "        [14, 14]]])"
      ]
     },
     "execution_count": 60,
     "metadata": {},
     "output_type": "execute_result"
    }
   ],
   "source": [
    "np.random.randint(10, 20, (3,4,2))"
   ]
  },
  {
   "attachments": {},
   "cell_type": "markdown",
   "id": "54b11ddd",
   "metadata": {},
   "source": [
    "乱数シード"
   ]
  },
  {
   "cell_type": "code",
   "execution_count": 63,
   "id": "a4396762",
   "metadata": {},
   "outputs": [
    {
     "data": {
      "text/plain": [
       "16"
      ]
     },
     "execution_count": 63,
     "metadata": {},
     "output_type": "execute_result"
    }
   ],
   "source": [
    "np.random.seed(17)\n",
    "np.random.randint(1, 100)"
   ]
  },
  {
   "attachments": {},
   "cell_type": "markdown",
   "id": "da09e3da",
   "metadata": {},
   "source": [
    "np.random.rand(size) : 0以上1未満"
   ]
  },
  {
   "cell_type": "code",
   "execution_count": 67,
   "id": "cc9ad4ce",
   "metadata": {},
   "outputs": [
    {
     "data": {
      "text/plain": [
       "46"
      ]
     },
     "execution_count": 67,
     "metadata": {},
     "output_type": "execute_result"
    }
   ],
   "source": [
    "np.random.randint(1, 100)"
   ]
  },
  {
   "cell_type": "code",
   "execution_count": 68,
   "id": "0a3bde5e",
   "metadata": {},
   "outputs": [
    {
     "data": {
      "text/plain": [
       "array([0.78698546, 0.65633352, 0.6375209 , 0.57560289, 0.03906292])"
      ]
     },
     "execution_count": 68,
     "metadata": {},
     "output_type": "execute_result"
    }
   ],
   "source": [
    "np.random.rand(5)"
   ]
  },
  {
   "cell_type": "code",
   "execution_count": 69,
   "id": "b039c50a",
   "metadata": {},
   "outputs": [
    {
     "data": {
      "text/plain": [
       "array([4.14688163, 7.67409912, 2.36026808, 7.18425262, 7.26374316,\n",
       "       2.30716199, 5.91451169, 5.31050821, 5.58507952, 4.90117175,\n",
       "       3.69792897, 3.78635431, 5.36905343, 4.37628462, 6.73220426,\n",
       "       4.51090631, 2.86342352, 2.90544017, 2.3314481 , 6.30822316,\n",
       "       3.75390413, 3.19264323, 6.98818353, 5.40794672, 2.4940385 ,\n",
       "       5.26999144, 2.95375247, 6.06057431, 2.71083359, 4.6699764 ,\n",
       "       7.3278946 , 6.78360638, 2.40787237, 7.76472654, 5.95523235,\n",
       "       6.3126565 , 6.46146059, 7.32641811, 2.80367401, 6.66184748,\n",
       "       7.02794907, 6.97582858, 2.17494198, 4.34224695, 4.62351195,\n",
       "       5.12381038, 4.95723604, 2.78257569, 7.90630119, 2.39421393,\n",
       "       5.47570447, 5.48464895, 7.72602719, 3.18466267, 2.4999524 ,\n",
       "       7.30318531, 2.09417716, 6.77356788, 6.60914264, 7.23226272,\n",
       "       7.49666052, 3.64287916, 3.41828676, 3.86311906, 6.29385955,\n",
       "       2.49641294, 6.05291866, 7.15114801, 6.1573813 , 6.71050215,\n",
       "       4.11968751, 3.32115241, 3.47223434, 6.36447509, 2.38476664,\n",
       "       4.72242477, 4.92606398, 5.84524898, 2.63701311, 5.44165963,\n",
       "       7.76207476, 5.09408348, 5.41895028, 7.92803997, 6.99722561,\n",
       "       4.98886209, 2.48090803, 7.22628196, 6.27851845, 6.39267226,\n",
       "       6.94171992, 6.46987527, 4.47837577, 5.088232  , 7.07924897,\n",
       "       7.15317234, 3.86302168, 2.71631836, 5.12575689, 4.69370041])"
      ]
     },
     "execution_count": 69,
     "metadata": {},
     "output_type": "execute_result"
    }
   ],
   "source": []
  },
  {
   "attachments": {},
   "cell_type": "markdown",
   "id": "c91ed918",
   "metadata": {},
   "source": [
    "np.random.randn(size) : 平均0、標準偏差1、正規分布に近づく数列  \n",
    "\n",
    "    ※ 分散    ：「各数値の平均との差」を平方（2乗）した値の平均（平方するのはプラスの値で測るため）  \n",
    "    ※ 標準偏差：平均からのばらつき具合を示す指標。分散の正の平方根  \n",
    "    ※ 正規分布：平均値の度数を中心に、正負の値の度数が同程度に広がる分布      "
   ]
  },
  {
   "cell_type": "code",
   "execution_count": null,
   "id": "87affd40",
   "metadata": {},
   "outputs": [],
   "source": []
  },
  {
   "attachments": {},
   "cell_type": "markdown",
   "id": "7b0efdd2",
   "metadata": {},
   "source": [
    " np.random.normal(average, satandard_deviation, size) : 平均と標準偏差を指定、正規分布に近づく数列"
   ]
  },
  {
   "cell_type": "code",
   "execution_count": null,
   "id": "b3416710",
   "metadata": {},
   "outputs": [],
   "source": []
  },
  {
   "attachments": {},
   "cell_type": "markdown",
   "id": "bc7a7b91",
   "metadata": {},
   "source": [
    "np.random.uniform(low, high, size) : 範囲と生成数を指定"
   ]
  },
  {
   "cell_type": "code",
   "execution_count": 70,
   "id": "3028fd18",
   "metadata": {
    "scrolled": true
   },
   "outputs": [
    {
     "data": {
      "text/plain": [
       "array([7.38372365, 4.95861403, 5.02686511, 4.1907419 , 6.69803673,\n",
       "       7.68753812, 2.78009008, 5.96667604, 2.98239385, 3.85363259,\n",
       "       7.79978093, 4.89712805, 5.24448467, 6.26703881, 6.12459046,\n",
       "       2.22181489, 7.3290234 , 3.13150525, 6.69216655, 5.86355673,\n",
       "       4.91239392, 7.57426967, 3.61928848, 6.88507392, 6.17025244,\n",
       "       3.41318715, 7.71981615, 5.51261425, 5.49839881, 2.94325725,\n",
       "       4.55144278, 3.41013149, 5.60304396, 4.16365054, 3.01324069,\n",
       "       4.08347869, 3.28710212, 6.76716976, 6.75025591, 2.98724214,\n",
       "       6.50218429, 2.33537971, 3.39482255, 5.90057859, 6.30945058,\n",
       "       4.88029678, 4.02568801, 4.33823774, 7.15278316, 5.06831367,\n",
       "       7.24814009, 7.67863132, 7.61440227, 4.95822759, 5.60310965,\n",
       "       3.2430206 , 7.73712963, 7.92086276, 6.97627306, 5.22733676,\n",
       "       2.50122572, 3.88332493, 2.6366807 , 3.22945187, 3.95311038,\n",
       "       5.00965392, 7.26991252, 3.56605366, 5.18082064, 7.06317585,\n",
       "       2.81938692, 4.40134406, 5.41091172, 3.11624728, 2.0822956 ,\n",
       "       5.55673433, 2.09429139, 5.51596234, 4.45197741, 3.37174365,\n",
       "       3.13930243, 7.47981752, 5.54132223, 3.02716608, 6.28684687,\n",
       "       3.43067635, 7.53083086, 6.3276432 , 6.06153787, 7.92086334,\n",
       "       5.23847118, 4.98384247, 7.38876427, 7.76916111, 2.01323056,\n",
       "       6.98661097, 5.34356671, 7.61010017, 6.31064745, 7.74850885])"
      ]
     },
     "execution_count": 70,
     "metadata": {},
     "output_type": "execute_result"
    }
   ],
   "source": [
    "np.random.uniform(2, 8 , 100)"
   ]
  },
  {
   "cell_type": "code",
   "execution_count": 79,
   "id": "24cf0c55",
   "metadata": {},
   "outputs": [
    {
     "data": {
      "text/plain": [
       "4.99669888233691"
      ]
     },
     "execution_count": 79,
     "metadata": {},
     "output_type": "execute_result"
    }
   ],
   "source": [
    "np.random.uniform(2, 8 , 10000).mean()"
   ]
  },
  {
   "attachments": {},
   "cell_type": "markdown",
   "id": "04669a8c",
   "metadata": {},
   "source": [
    "np.random.choice(array, size) : Listの値をランダムに選択"
   ]
  },
  {
   "cell_type": "code",
   "execution_count": 83,
   "id": "f02f5344",
   "metadata": {},
   "outputs": [
    {
     "data": {
      "text/plain": [
       "array([[ 87,  87, 233],\n",
       "       [233,  87,  87]])"
      ]
     },
     "execution_count": 83,
     "metadata": {},
     "output_type": "execute_result"
    }
   ],
   "source": [
    "l = [16, 87, 233]\n",
    "np.random.choice(l, (2, 3))"
   ]
  },
  {
   "attachments": {},
   "cell_type": "markdown",
   "id": "a1d0ca59",
   "metadata": {},
   "source": [
    "---\n",
    "<a id=4></a>\n",
    "[Topへ](#0)\n",
    "\n",
    "---\n",
    "## 4.Numpy ndarrayの次元、形状、サイズ"
   ]
  },
  {
   "attachments": {},
   "cell_type": "markdown",
   "id": "f4c4c4ba",
   "metadata": {},
   "source": [
    "* 次元\n",
    "* 形状\n",
    "* サイズ（要素数）\n",
    "* 形状の変換 \n",
    "---"
   ]
  },
  {
   "cell_type": "code",
   "execution_count": null,
   "id": "1d2318cb",
   "metadata": {
    "scrolled": true
   },
   "outputs": [],
   "source": []
  },
  {
   "attachments": {},
   "cell_type": "markdown",
   "id": "e785d42b",
   "metadata": {},
   "source": [
    "次元"
   ]
  },
  {
   "cell_type": "code",
   "execution_count": null,
   "id": "7b720562",
   "metadata": {},
   "outputs": [],
   "source": []
  },
  {
   "attachments": {},
   "cell_type": "markdown",
   "id": "ed920438",
   "metadata": {},
   "source": [
    "形状"
   ]
  },
  {
   "cell_type": "code",
   "execution_count": null,
   "id": "3ef3f27e",
   "metadata": {},
   "outputs": [],
   "source": []
  },
  {
   "attachments": {},
   "cell_type": "markdown",
   "id": "fa9d12b8",
   "metadata": {},
   "source": [
    "サイズ（要素数）"
   ]
  },
  {
   "cell_type": "code",
   "execution_count": null,
   "id": "86673451",
   "metadata": {},
   "outputs": [],
   "source": []
  },
  {
   "attachments": {},
   "cell_type": "markdown",
   "id": "1a559575",
   "metadata": {},
   "source": [
    "形状の変換"
   ]
  },
  {
   "cell_type": "code",
   "execution_count": null,
   "id": "560f55b7",
   "metadata": {
    "scrolled": true
   },
   "outputs": [],
   "source": []
  },
  {
   "attachments": {},
   "cell_type": "markdown",
   "id": "731d265c",
   "metadata": {},
   "source": [
    "---\n",
    "<a id=5></a>\n",
    "[Topへ](#0)\n",
    "\n",
    "---\n",
    "## 5.Numpy ndarrayの演算例"
   ]
  },
  {
   "cell_type": "code",
   "execution_count": null,
   "id": "77cad46c",
   "metadata": {},
   "outputs": [],
   "source": []
  },
  {
   "attachments": {},
   "cell_type": "markdown",
   "id": "a2345564",
   "metadata": {},
   "source": [
    "---\n",
    "[Topへ](#0)\n",
    "\n",
    "---\n",
    "## 以上\n",
    "    \n",
    "---"
   ]
  }
 ],
 "metadata": {
  "kernelspec": {
   "display_name": "Python 3",
   "language": "python",
   "name": "python3"
  },
  "language_info": {
   "codemirror_mode": {
    "name": "ipython",
    "version": 3
   },
   "file_extension": ".py",
   "mimetype": "text/x-python",
   "name": "python",
   "nbconvert_exporter": "python",
   "pygments_lexer": "ipython3",
   "version": "3.11.3"
  }
 },
 "nbformat": 4,
 "nbformat_minor": 5
}
